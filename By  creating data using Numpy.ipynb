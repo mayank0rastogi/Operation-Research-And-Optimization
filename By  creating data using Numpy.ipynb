{
  "nbformat": 4,
  "nbformat_minor": 0,
  "metadata": {
    "colab": {
      "name": "Mayank Rastogi_81_lab-7.ipynb",
      "provenance": [],
      "collapsed_sections": [],
      "toc_visible": true
    },
    "kernelspec": {
      "name": "python3",
      "display_name": "Python 3"
    }
  },
  "cells": [
    {
      "cell_type": "code",
      "metadata": {
        "id": "6W3_pgtNvKzR",
        "outputId": "f543b6ec-0a73-4580-fa0e-08f51addcd18",
        "colab": {
          "base_uri": "https://localhost:8080/",
          "height": 319
        }
      },
      "source": [
        "!pip install pulp"
      ],
      "execution_count": null,
      "outputs": [
        {
          "output_type": "stream",
          "text": [
            "Collecting pulp\n",
            "\u001b[?25l  Downloading https://files.pythonhosted.org/packages/c3/22/5743d7b5d69f84fb63a0b4925862522dbf80e82defcd0c447afb694f3fd0/PuLP-2.3-py3-none-any.whl (40.6MB)\n",
            "\u001b[K     |████████████████████████████████| 40.6MB 100kB/s \n",
            "\u001b[?25hCollecting amply>=0.1.2\n",
            "  Downloading https://files.pythonhosted.org/packages/7f/11/33cb09557ac838d9488779b79e05a2a3c1f3ce9747cd242ba68332736778/amply-0.1.2.tar.gz\n",
            "  Installing build dependencies ... \u001b[?25l\u001b[?25hdone\n",
            "  Getting requirements to build wheel ... \u001b[?25l\u001b[?25hdone\n",
            "    Preparing wheel metadata ... \u001b[?25l\u001b[?25hdone\n",
            "Requirement already satisfied: pyparsing in /usr/local/lib/python3.6/dist-packages (from amply>=0.1.2->pulp) (2.4.7)\n",
            "Requirement already satisfied: docutils>=0.3 in /usr/local/lib/python3.6/dist-packages (from amply>=0.1.2->pulp) (0.15.2)\n",
            "Building wheels for collected packages: amply\n",
            "  Building wheel for amply (PEP 517) ... \u001b[?25l\u001b[?25hdone\n",
            "  Created wheel for amply: filename=amply-0.1.2-cp36-none-any.whl size=16573 sha256=3b9203cc5fbe59f83273b04c2f7edb733ba8363eb1c7a60b6cb927359e84f020\n",
            "  Stored in directory: /root/.cache/pip/wheels/84/18/f7/e5c3ed13ed5bb721763f77d4a924331d59ef115ce61c9d26eb\n",
            "Successfully built amply\n",
            "Installing collected packages: amply, pulp\n",
            "Successfully installed amply-0.1.2 pulp-2.3\n"
          ],
          "name": "stdout"
        }
      ]
    },
    {
      "cell_type": "code",
      "metadata": {
        "id": "z4AB3W1vvP_y"
      },
      "source": [
        "from pulp import *"
      ],
      "execution_count": null,
      "outputs": []
    },
    {
      "cell_type": "markdown",
      "metadata": {
        "id": "-_616kvuv9jc"
      },
      "source": [
        "##Question 1"
      ]
    },
    {
      "cell_type": "markdown",
      "metadata": {
        "id": "jitqzE87wU0a"
      },
      "source": [
        "##model"
      ]
    },
    {
      "cell_type": "markdown",
      "metadata": {
        "id": "hrGoc4LRwAaz"
      },
      "source": [
        "minimize $z = x_{1}+x_{2}$\n",
        "\n",
        "subject to\n",
        "\n",
        "$x_{1}+x_{2}<=1$\n",
        "\n",
        "$3x_{1}-x_{2}<=-3$\n",
        "\n",
        "$x_{1},x_{2}>=0$"
      ]
    },
    {
      "cell_type": "code",
      "metadata": {
        "id": "KsBIWhx7vYWZ"
      },
      "source": [
        "import numpy as np"
      ],
      "execution_count": null,
      "outputs": []
    },
    {
      "cell_type": "markdown",
      "metadata": {
        "id": "PglXOxF-wiAP"
      },
      "source": [
        "## Define Data"
      ]
    },
    {
      "cell_type": "code",
      "metadata": {
        "id": "wQlzeWPtwdmx"
      },
      "source": [
        "nvar=2\n",
        "ncons=2\n",
        "cost=np.array([1,1])\n",
        "Coff=np.array([[1,1],[3,-1]])\n",
        "resources=[1,-3]"
      ],
      "execution_count": null,
      "outputs": []
    },
    {
      "cell_type": "markdown",
      "metadata": {
        "id": "xW2qTTcWx2r2"
      },
      "source": [
        "# Define the model"
      ]
    },
    {
      "cell_type": "code",
      "metadata": {
        "id": "z6Vvkumaxz4G",
        "outputId": "81db215f-a3d7-4af7-e3e5-8f0e52320c4c",
        "colab": {
          "base_uri": "https://localhost:8080/",
          "height": 319
        }
      },
      "source": [
        "model = LpProblem(\"LPP\",LpMinimize)\n",
        "# Define the decision variables\n",
        "x = {i: LpVariable(name=f\"x{i}\", lowBound=0) for i in range(1, nvar+1)}\n",
        "# Set the objective\n",
        "model+=lpSum(cost[i-1]*x[i] for i in range(1,nvar+1))\n",
        "# Add constraints\n",
        "for j in range(ncons):\n",
        "  model += lpSum(Coff[j,i-1]*x[i] for i in range(1,nvar+1))<=resources[j]\n",
        "# Print Model\n",
        "print(model)\n",
        "# Solve the optimization problem\n",
        "status = model.solve()\n",
        "# Get the results\n",
        "print('##############Solution of LPP is ##################')\n",
        "print(f\"status: {model.status}, {LpStatus[model.status]}\")\n",
        "print(f\"objective: {model.objective.value()}\")\n",
        "for var in x.values():\n",
        "  print(f\"{var.name}: {var.value()}\")"
      ],
      "execution_count": null,
      "outputs": [
        {
          "output_type": "stream",
          "text": [
            "LPP:\n",
            "MINIMIZE\n",
            "1*x1 + 1*x2 + 0\n",
            "SUBJECT TO\n",
            "_C1: x1 + x2 <= 1\n",
            "\n",
            "_C2: 3 x1 - x2 <= -3\n",
            "\n",
            "VARIABLES\n",
            "x1 Continuous\n",
            "x2 Continuous\n",
            "\n",
            "##############Solution of LPP is ##################\n",
            "status: -1, Infeasible\n",
            "objective: 3.0\n",
            "x1: 0.0\n",
            "x2: 3.0\n"
          ],
          "name": "stdout"
        }
      ]
    },
    {
      "cell_type": "markdown",
      "metadata": {
        "id": "4Ye6iDyYzwWT"
      },
      "source": [
        "#Question 2"
      ]
    },
    {
      "cell_type": "markdown",
      "metadata": {
        "id": "SsJM6Ya0zzKG"
      },
      "source": [
        "##model"
      ]
    },
    {
      "cell_type": "markdown",
      "metadata": {
        "id": "WYzS9O9x0ZZV"
      },
      "source": [
        "maximize $ z = 2x_{1}+4x_{2}$\n",
        "\n",
        "subject to\n",
        "\n",
        "$x_{1}+2x_{2}<=5$\n",
        "\n",
        "$x_{1}+x_{2}<=4$\n",
        "\n",
        "$x_{1},x_{2}>=0$"
      ]
    },
    {
      "cell_type": "code",
      "metadata": {
        "id": "KGWSoNu5xzgg"
      },
      "source": [
        "nvar=2\n",
        "ncons=2\n",
        "cost=np.array([2,4])\n",
        "Coff=np.array([[1,2],[1,1]])\n",
        "resources=[5,4]"
      ],
      "execution_count": null,
      "outputs": []
    },
    {
      "cell_type": "markdown",
      "metadata": {
        "id": "dvGTz59e0oRw"
      },
      "source": [
        "##define the model"
      ]
    },
    {
      "cell_type": "code",
      "metadata": {
        "id": "9GZ36RH1xzTH",
        "outputId": "a36f2aa6-a522-4952-b0f8-ffdba044ed35",
        "colab": {
          "base_uri": "https://localhost:8080/",
          "height": 319
        }
      },
      "source": [
        "model = LpProblem(\"LPP\",LpMaximize)\n",
        "# Define the decision variables\n",
        "x = {i: LpVariable(name=f\"x{i}\", lowBound=0) for i in range(1, nvar+1)}\n",
        "# Set the objective\n",
        "model+=lpSum(cost[i-1]*x[i] for i in range(1,nvar+1))\n",
        "# Add constraints\n",
        "for j in range(ncons):\n",
        "  model += lpSum(Coff[j,i-1]*x[i] for i in range(1,nvar+1))<=resources[j]\n",
        "# Print Model\n",
        "print(model)\n",
        "# Solve the optimization problem\n",
        "status = model.solve()\n",
        "# Get the results\n",
        "print('##############Solution of LPP is ##################')\n",
        "print(f\"status: {model.status}, {LpStatus[model.status]}\")\n",
        "print(f\"objective: {model.objective.value()}\")\n",
        "for var in x.values():\n",
        "  print(f\"{var.name}: {var.value()}\")"
      ],
      "execution_count": null,
      "outputs": [
        {
          "output_type": "stream",
          "text": [
            "LPP:\n",
            "MAXIMIZE\n",
            "2*x1 + 4*x2 + 0\n",
            "SUBJECT TO\n",
            "_C1: x1 + 2 x2 <= 5\n",
            "\n",
            "_C2: x1 + x2 <= 4\n",
            "\n",
            "VARIABLES\n",
            "x1 Continuous\n",
            "x2 Continuous\n",
            "\n",
            "##############Solution of LPP is ##################\n",
            "status: 1, Optimal\n",
            "objective: 10.0\n",
            "x1: 0.0\n",
            "x2: 2.5\n"
          ],
          "name": "stdout"
        }
      ]
    },
    {
      "cell_type": "markdown",
      "metadata": {
        "id": "klAZJD_u0yj0"
      },
      "source": [
        "##Question 3"
      ]
    },
    {
      "cell_type": "markdown",
      "metadata": {
        "id": "P-h6Ps5X00ca"
      },
      "source": [
        "maximize $ z = 2x_{1}+x_{2}$\n",
        "\n",
        "subject to\n",
        "\n",
        "$x_{1}-x_{2}<=10$\n",
        "\n",
        "$2x_{1}<=40$\n",
        "\n",
        "$x_{1},x_{2}>=0$"
      ]
    },
    {
      "cell_type": "code",
      "metadata": {
        "id": "zPjXeUIk1Pt7"
      },
      "source": [
        "nvar=2\n",
        "ncons=2\n",
        "cost=np.array([2,1])\n",
        "Coff=np.array([[1,-1],[2,0]])\n",
        "resources=[10,40]"
      ],
      "execution_count": null,
      "outputs": []
    },
    {
      "cell_type": "markdown",
      "metadata": {
        "id": "OWlq9Hd_wgYT"
      },
      "source": [
        "##define the model"
      ]
    },
    {
      "cell_type": "code",
      "metadata": {
        "id": "hPOmzFVJ1Zsq",
        "outputId": "cf9cc2f6-1c6b-4e14-fd55-e7c1cb76419c",
        "colab": {
          "base_uri": "https://localhost:8080/",
          "height": 319
        }
      },
      "source": [
        "model = LpProblem(\"LPP\",LpMaximize)\n",
        "# Define the decision variables\n",
        "x = {i: LpVariable(name=f\"x{i}\", lowBound=0) for i in range(1, nvar+1)}\n",
        "# Set the objective\n",
        "model+=lpSum(cost[i-1]*x[i] for i in range(1,nvar+1))\n",
        "# Add constraints\n",
        "for j in range(ncons):\n",
        "  model += lpSum(Coff[j,i-1]*x[i] for i in range(1,nvar+1))<=resources[j]\n",
        "# Print Model\n",
        "print(model)\n",
        "# Solve the optimization problem\n",
        "status = model.solve()\n",
        "# Get the results\n",
        "print('##############Solution of LPP is ##################')\n",
        "print(f\"status: {model.status}, {LpStatus[model.status]}\")\n",
        "print(f\"objective: {model.objective.value()}\")\n",
        "for var in x.values():\n",
        "  print(f\"{var.name}: {var.value()}\")"
      ],
      "execution_count": null,
      "outputs": [
        {
          "output_type": "stream",
          "text": [
            "LPP:\n",
            "MAXIMIZE\n",
            "2*x1 + 1*x2 + 0\n",
            "SUBJECT TO\n",
            "_C1: x1 - x2 <= 10\n",
            "\n",
            "_C2: 2 x1 <= 40\n",
            "\n",
            "VARIABLES\n",
            "x1 Continuous\n",
            "x2 Continuous\n",
            "\n",
            "##############Solution of LPP is ##################\n",
            "status: -2, Unbounded\n",
            "objective: 50.0\n",
            "x1: 20.0\n",
            "x2: 10.0\n"
          ],
          "name": "stdout"
        }
      ]
    },
    {
      "cell_type": "markdown",
      "metadata": {
        "id": "R4mhVCDM1eIr"
      },
      "source": [
        "##Question 4"
      ]
    },
    {
      "cell_type": "markdown",
      "metadata": {
        "id": "n67rfweH1jQq"
      },
      "source": [
        "##model"
      ]
    },
    {
      "cell_type": "markdown",
      "metadata": {
        "id": "kcch2LLx1lTV"
      },
      "source": [
        "minimize $ z = 3x_{1}+2x_{2}$\n",
        "\n",
        "subject to\n",
        "\n",
        "$2x_{1}+x_{2}<=2$\n",
        "\n",
        "$-3x_{1}-4x_{2}<=-12$\n",
        "\n",
        "$x_{1},x_{2}>=0$"
      ]
    },
    {
      "cell_type": "code",
      "metadata": {
        "id": "8HjktZsD1g_j"
      },
      "source": [
        "nvar=2\n",
        "ncons=2\n",
        "cost=np.array([3,2])\n",
        "Coff=np.array([[2,1],[-3,-4]])\n",
        "resources=[2,-12]"
      ],
      "execution_count": null,
      "outputs": []
    },
    {
      "cell_type": "markdown",
      "metadata": {
        "id": "4e8gvEZm2MlK"
      },
      "source": [
        "##define the model"
      ]
    },
    {
      "cell_type": "code",
      "metadata": {
        "id": "W2qNPi011b8b",
        "outputId": "84885d89-6e2e-47e4-9a47-ff8840626fbf",
        "colab": {
          "base_uri": "https://localhost:8080/",
          "height": 319
        }
      },
      "source": [
        "model = LpProblem(\"LPP\",LpMaximize)\n",
        "# Define the decision variables\n",
        "x = {i: LpVariable(name=f\"x{i}\", lowBound=0) for i in range(1, nvar+1)}\n",
        "# Set the objective\n",
        "model+=lpSum(cost[i-1]*x[i] for i in range(1,nvar+1))\n",
        "# Add constraints\n",
        "for j in range(ncons):\n",
        "  model += lpSum(Coff[j,i-1]*x[i] for i in range(1,nvar+1))<=resources[j]\n",
        "# Print Model\n",
        "print(model)\n",
        "# Solve the optimization problem\n",
        "status = model.solve()\n",
        "# Get the results\n",
        "print('##############Solution of LPP is ##################')\n",
        "print(f\"status: {model.status}, {LpStatus[model.status]}\")\n",
        "print(f\"objective: {model.objective.value()}\")\n",
        "for var in x.values():\n",
        "  print(f\"{var.name}: {var.value()}\")"
      ],
      "execution_count": null,
      "outputs": [
        {
          "output_type": "stream",
          "text": [
            "LPP:\n",
            "MAXIMIZE\n",
            "3*x1 + 2*x2 + 0\n",
            "SUBJECT TO\n",
            "_C1: 2 x1 + x2 <= 2\n",
            "\n",
            "_C2: - 3 x1 - 4 x2 <= -12\n",
            "\n",
            "VARIABLES\n",
            "x1 Continuous\n",
            "x2 Continuous\n",
            "\n",
            "##############Solution of LPP is ##################\n",
            "status: -1, Infeasible\n",
            "objective: 6.0\n",
            "x1: 0.0\n",
            "x2: 3.0\n"
          ],
          "name": "stdout"
        }
      ]
    },
    {
      "cell_type": "code",
      "metadata": {
        "id": "6hapNpHQ2Un-"
      },
      "source": [
        ""
      ],
      "execution_count": null,
      "outputs": []
    }
  ]
}