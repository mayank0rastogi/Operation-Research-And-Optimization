{
  "nbformat": 4,
  "nbformat_minor": 0,
  "metadata": {
    "colab": {
      "name": "Mayank Rastogi_81_Lab-4.ipynb",
      "provenance": []
    },
    "kernelspec": {
      "name": "python3",
      "display_name": "Python 3"
    }
  },
  "cells": [
    {
      "cell_type": "markdown",
      "metadata": {
        "id": "3q881zqxn4pp",
        "colab_type": "text"
      },
      "source": [
        "# Question No 1"
      ]
    },
    {
      "cell_type": "markdown",
      "metadata": {
        "id": "jngqkBqOn4sm",
        "colab_type": "text"
      },
      "source": [
        "## IPP Model"
      ]
    },
    {
      "cell_type": "markdown",
      "metadata": {
        "id": "TAQlZy8An4u2",
        "colab_type": "text"
      },
      "source": [
        "Maximize $ 7x_{1}+10x_{2}$\n",
        "\n",
        "Subject To\n",
        "\n",
        "$ -x_{1}+3x_{2}<=6$\n",
        "\n",
        "$ 7x_{1}+x_{2}<=35$\n",
        "\n",
        "$ x_{1}>=0$\n",
        "\n",
        "$ x_{2}>=0$\n",
        "\n",
        "and $x_{1}$ and $x_{2}$ is integer\n",
        "\n"
      ]
    },
    {
      "cell_type": "markdown",
      "metadata": {
        "id": "9nNRBOoCn4xZ",
        "colab_type": "text"
      },
      "source": [
        "#Implementation"
      ]
    },
    {
      "cell_type": "code",
      "metadata": {
        "id": "XVvtpfLlpOSj",
        "colab_type": "code",
        "colab": {
          "base_uri": "https://localhost:8080/",
          "height": 322
        },
        "outputId": "17be755b-9f2e-4c9a-9513-cca184c1b85a"
      },
      "source": [
        "!pip install pulp"
      ],
      "execution_count": null,
      "outputs": [
        {
          "output_type": "stream",
          "text": [
            "Collecting pulp\n",
            "\u001b[?25l  Downloading https://files.pythonhosted.org/packages/c3/22/5743d7b5d69f84fb63a0b4925862522dbf80e82defcd0c447afb694f3fd0/PuLP-2.3-py3-none-any.whl (40.6MB)\n",
            "\u001b[K     |████████████████████████████████| 40.6MB 100kB/s \n",
            "\u001b[?25hCollecting amply>=0.1.2\n",
            "  Downloading https://files.pythonhosted.org/packages/7f/11/33cb09557ac838d9488779b79e05a2a3c1f3ce9747cd242ba68332736778/amply-0.1.2.tar.gz\n",
            "  Installing build dependencies ... \u001b[?25l\u001b[?25hdone\n",
            "  Getting requirements to build wheel ... \u001b[?25l\u001b[?25hdone\n",
            "    Preparing wheel metadata ... \u001b[?25l\u001b[?25hdone\n",
            "Requirement already satisfied: pyparsing in /usr/local/lib/python3.6/dist-packages (from amply>=0.1.2->pulp) (2.4.7)\n",
            "Requirement already satisfied: docutils>=0.3 in /usr/local/lib/python3.6/dist-packages (from amply>=0.1.2->pulp) (0.15.2)\n",
            "Building wheels for collected packages: amply\n",
            "  Building wheel for amply (PEP 517) ... \u001b[?25l\u001b[?25hdone\n",
            "  Created wheel for amply: filename=amply-0.1.2-cp36-none-any.whl size=16573 sha256=e95283d629ac8bcf20ab78dc12b7e996f28957b1f4a961996503bef97b379c6d\n",
            "  Stored in directory: /root/.cache/pip/wheels/84/18/f7/e5c3ed13ed5bb721763f77d4a924331d59ef115ce61c9d26eb\n",
            "Successfully built amply\n",
            "Installing collected packages: amply, pulp\n",
            "Successfully installed amply-0.1.2 pulp-2.3\n"
          ],
          "name": "stdout"
        }
      ]
    },
    {
      "cell_type": "code",
      "metadata": {
        "id": "oB-twt0-pSJx",
        "colab_type": "code",
        "colab": {}
      },
      "source": [
        "from pulp import *"
      ],
      "execution_count": null,
      "outputs": []
    },
    {
      "cell_type": "code",
      "metadata": {
        "id": "r2ZuNer2pTDS",
        "colab_type": "code",
        "colab": {
          "base_uri": "https://localhost:8080/",
          "height": 50
        },
        "outputId": "aa41c1d0-d518-4d2f-c58f-368ed351be57"
      },
      "source": [
        "#creating the object of Linear Programming  using pulp\n",
        "lp=LpProblem('IPP Problem ',LpMaximize)"
      ],
      "execution_count": null,
      "outputs": [
        {
          "output_type": "stream",
          "text": [
            "/usr/local/lib/python3.6/dist-packages/pulp/pulp.py:1195: UserWarning: Spaces are not permitted in the name. Converted to '_'\n",
            "  warnings.warn(\"Spaces are not permitted in the name. Converted to '_'\")\n"
          ],
          "name": "stderr"
        }
      ]
    },
    {
      "cell_type": "code",
      "metadata": {
        "id": "O6JEeMKLpX-s",
        "colab_type": "code",
        "colab": {}
      },
      "source": [
        "x1 = LpVariable(\"x1\",0,cat='Integer')\n",
        "x2=LpVariable(\"x2\",0,cat='Integer')\n"
      ],
      "execution_count": null,
      "outputs": []
    },
    {
      "cell_type": "code",
      "metadata": {
        "id": "yS9e-CsWp1W1",
        "colab_type": "code",
        "colab": {}
      },
      "source": [
        "\n",
        "#now creating objective and constraints\n",
        "lp +=7*x1 + 10*x2,\"z\"\n",
        "#constraints\n",
        "lp+=-1*x1+3*x2<=6\n",
        "lp+=7*x1+x2<=35\n",
        "lp+=x1>=0\n",
        "lp+=x2>=0\n",
        "\n"
      ],
      "execution_count": null,
      "outputs": []
    },
    {
      "cell_type": "code",
      "metadata": {
        "id": "20VVIrHqqJQe",
        "colab_type": "code",
        "colab": {
          "base_uri": "https://localhost:8080/",
          "height": 269
        },
        "outputId": "b5a72cae-2f38-4005-cefc-ed5b06e605d5"
      },
      "source": [
        "lp"
      ],
      "execution_count": null,
      "outputs": [
        {
          "output_type": "execute_result",
          "data": {
            "text/plain": [
              "IPP_Problem_:\n",
              "MAXIMIZE\n",
              "7*x1 + 10*x2 + 0\n",
              "SUBJECT TO\n",
              "_C1: - x1 + 3 x2 <= 6\n",
              "\n",
              "_C2: 7 x1 + x2 <= 35\n",
              "\n",
              "_C3: x1 >= 0\n",
              "\n",
              "_C4: x2 >= 0\n",
              "\n",
              "VARIABLES\n",
              "0 <= x1 Integer\n",
              "0 <= x2 Integer"
            ]
          },
          "metadata": {
            "tags": []
          },
          "execution_count": 6
        }
      ]
    },
    {
      "cell_type": "code",
      "metadata": {
        "id": "RX8f6pHaqLvu",
        "colab_type": "code",
        "colab": {
          "base_uri": "https://localhost:8080/",
          "height": 34
        },
        "outputId": "72407d63-4634-49e2-c39b-887a9d69f35c"
      },
      "source": [
        "lp.solve()"
      ],
      "execution_count": null,
      "outputs": [
        {
          "output_type": "execute_result",
          "data": {
            "text/plain": [
              "1"
            ]
          },
          "metadata": {
            "tags": []
          },
          "execution_count": 7
        }
      ]
    },
    {
      "cell_type": "code",
      "metadata": {
        "id": "Oylfd5YrqOaQ",
        "colab_type": "code",
        "colab": {}
      },
      "source": [
        "status=lp.solve()"
      ],
      "execution_count": null,
      "outputs": []
    },
    {
      "cell_type": "code",
      "metadata": {
        "id": "Ji_YDBm-qRBH",
        "colab_type": "code",
        "colab": {
          "base_uri": "https://localhost:8080/",
          "height": 35
        },
        "outputId": "65c1ed11-a549-4a03-9666-c2369683543a"
      },
      "source": [
        "LpStatus[status]"
      ],
      "execution_count": null,
      "outputs": [
        {
          "output_type": "execute_result",
          "data": {
            "application/vnd.google.colaboratory.intrinsic+json": {
              "type": "string"
            },
            "text/plain": [
              "'Optimal'"
            ]
          },
          "metadata": {
            "tags": []
          },
          "execution_count": 9
        }
      ]
    },
    {
      "cell_type": "code",
      "metadata": {
        "id": "FEw0piG7qTks",
        "colab_type": "code",
        "colab": {
          "base_uri": "https://localhost:8080/",
          "height": 50
        },
        "outputId": "559fe668-b9de-4ba6-a6fd-cc88bee09f8e"
      },
      "source": [
        "#to access all decision variable values\n",
        "for variable in lp.variables():\n",
        "  print('{} = {}'.format(variable.name,variable.varValue))\n",
        " "
      ],
      "execution_count": null,
      "outputs": [
        {
          "output_type": "stream",
          "text": [
            "x1 = 4.0\n",
            "x2 = 3.0\n"
          ],
          "name": "stdout"
        }
      ]
    },
    {
      "cell_type": "code",
      "metadata": {
        "id": "7Tq9jrTqqWb-",
        "colab_type": "code",
        "colab": {
          "base_uri": "https://localhost:8080/",
          "height": 34
        },
        "outputId": "062bfb7a-6a95-4468-b937-738aeb97c543"
      },
      "source": [
        "\n",
        "#to get the maximize solution \n",
        "value(lp.objective)"
      ],
      "execution_count": null,
      "outputs": [
        {
          "output_type": "execute_result",
          "data": {
            "text/plain": [
              "58.0"
            ]
          },
          "metadata": {
            "tags": []
          },
          "execution_count": 11
        }
      ]
    },
    {
      "cell_type": "markdown",
      "metadata": {
        "id": "OjrgB-0QqckR",
        "colab_type": "text"
      },
      "source": [
        "# Question No 2."
      ]
    },
    {
      "cell_type": "markdown",
      "metadata": {
        "id": "TFrX40GPqcqe",
        "colab_type": "text"
      },
      "source": [
        "## IPP Model"
      ]
    },
    {
      "cell_type": "markdown",
      "metadata": {
        "id": "Z1-mlx2GqcxL",
        "colab_type": "text"
      },
      "source": [
        "Maximize $ 5x_{1}+8x_{2}$\n",
        "\n",
        "Subject To\n",
        "\n",
        "$ x_{1}+x_{2}<=6$\n",
        "\n",
        "$ 5x_{1}+9x_{2}<=45$\n",
        "\n",
        "$ x_{1}>=0$\n",
        "\n",
        "$ x_{2}>=0$\n",
        "\n",
        "and $x_{1}$ and $x_{2}$ is integer\n",
        "\n"
      ]
    },
    {
      "cell_type": "markdown",
      "metadata": {
        "id": "f44UVEx6qdFl",
        "colab_type": "text"
      },
      "source": [
        "#Implementation"
      ]
    },
    {
      "cell_type": "code",
      "metadata": {
        "id": "1-upG-P3rLwb",
        "colab_type": "code",
        "colab": {
          "base_uri": "https://localhost:8080/",
          "height": 50
        },
        "outputId": "d3495a5e-de1c-4f93-9f5a-76ac14b81b77"
      },
      "source": [
        "#creating the object of Linear Programming  using pulp\n",
        "lp=LpProblem('IPP Problem ',LpMaximize)"
      ],
      "execution_count": null,
      "outputs": [
        {
          "output_type": "stream",
          "text": [
            "/usr/local/lib/python3.6/dist-packages/pulp/pulp.py:1195: UserWarning: Spaces are not permitted in the name. Converted to '_'\n",
            "  warnings.warn(\"Spaces are not permitted in the name. Converted to '_'\")\n"
          ],
          "name": "stderr"
        }
      ]
    },
    {
      "cell_type": "code",
      "metadata": {
        "id": "YMnNzwCxrMAE",
        "colab_type": "code",
        "colab": {}
      },
      "source": [
        "x1 = LpVariable(\"x1\",0,cat='Integer')\n",
        "x2=LpVariable(\"x2\",0,cat='Integer')\n"
      ],
      "execution_count": null,
      "outputs": []
    },
    {
      "cell_type": "code",
      "metadata": {
        "id": "HgronmiUrMFj",
        "colab_type": "code",
        "colab": {}
      },
      "source": [
        "\n",
        "#now creating objective and constraints\n",
        "lp +=5*x1 + 8*x2,\"z\"\n",
        "#constraints\n",
        "lp+=1*x1+1*x2<=6\n",
        "lp+=5*x1+9*x2<=45\n",
        "lp+=x1>=0\n",
        "lp+=x2>=0\n",
        "\n"
      ],
      "execution_count": null,
      "outputs": []
    },
    {
      "cell_type": "code",
      "metadata": {
        "id": "b74nIDZjv2mm",
        "colab_type": "code",
        "colab": {
          "base_uri": "https://localhost:8080/",
          "height": 269
        },
        "outputId": "01e09665-fe80-43c9-d255-fb7e87adde68"
      },
      "source": [
        "lp"
      ],
      "execution_count": null,
      "outputs": [
        {
          "output_type": "execute_result",
          "data": {
            "text/plain": [
              "IPP_Problem_:\n",
              "MAXIMIZE\n",
              "5*x1 + 8*x2 + 0\n",
              "SUBJECT TO\n",
              "_C1: x1 + x2 <= 6\n",
              "\n",
              "_C2: 5 x1 + 9 x2 <= 45\n",
              "\n",
              "_C3: x1 >= 0\n",
              "\n",
              "_C4: x2 >= 0\n",
              "\n",
              "VARIABLES\n",
              "0 <= x1 Integer\n",
              "0 <= x2 Integer"
            ]
          },
          "metadata": {
            "tags": []
          },
          "execution_count": 29
        }
      ]
    },
    {
      "cell_type": "code",
      "metadata": {
        "id": "Jh15GK2lrMLb",
        "colab_type": "code",
        "colab": {
          "base_uri": "https://localhost:8080/",
          "height": 34
        },
        "outputId": "24a206d1-6ce4-4dca-e2aa-564a99d6e1d4"
      },
      "source": [
        "lp.solve()"
      ],
      "execution_count": null,
      "outputs": [
        {
          "output_type": "execute_result",
          "data": {
            "text/plain": [
              "1"
            ]
          },
          "metadata": {
            "tags": []
          },
          "execution_count": 30
        }
      ]
    },
    {
      "cell_type": "code",
      "metadata": {
        "id": "b83vyDK9rMI1",
        "colab_type": "code",
        "colab": {}
      },
      "source": [
        "status=lp.solve()"
      ],
      "execution_count": null,
      "outputs": []
    },
    {
      "cell_type": "code",
      "metadata": {
        "id": "x0JWb7-xrL-F",
        "colab_type": "code",
        "colab": {
          "base_uri": "https://localhost:8080/",
          "height": 35
        },
        "outputId": "98babf9d-538f-4bce-93c5-b8f72ff18e52"
      },
      "source": [
        "LpStatus[status]"
      ],
      "execution_count": null,
      "outputs": [
        {
          "output_type": "execute_result",
          "data": {
            "application/vnd.google.colaboratory.intrinsic+json": {
              "type": "string"
            },
            "text/plain": [
              "'Optimal'"
            ]
          },
          "metadata": {
            "tags": []
          },
          "execution_count": 32
        }
      ]
    },
    {
      "cell_type": "code",
      "metadata": {
        "id": "Cd4JR-4_ryuP",
        "colab_type": "code",
        "colab": {
          "base_uri": "https://localhost:8080/",
          "height": 50
        },
        "outputId": "d7fe5824-c5c5-487b-8b2b-362bf2988392"
      },
      "source": [
        "#to access all decision variable values\n",
        "for variable in lp.variables():\n",
        "  print('{} = {}'.format(variable.name,variable.varValue))\n",
        " "
      ],
      "execution_count": null,
      "outputs": [
        {
          "output_type": "stream",
          "text": [
            "x1 = 0.0\n",
            "x2 = 5.0\n"
          ],
          "name": "stdout"
        }
      ]
    },
    {
      "cell_type": "code",
      "metadata": {
        "id": "WYS7Hrtfr0_-",
        "colab_type": "code",
        "colab": {
          "base_uri": "https://localhost:8080/",
          "height": 34
        },
        "outputId": "fac2a77d-8c48-4dd7-a525-4678cde107c0"
      },
      "source": [
        "\n",
        "#to get the maximize solution \n",
        "value(lp.objective)"
      ],
      "execution_count": null,
      "outputs": [
        {
          "output_type": "execute_result",
          "data": {
            "text/plain": [
              "40.0"
            ]
          },
          "metadata": {
            "tags": []
          },
          "execution_count": 34
        }
      ]
    },
    {
      "cell_type": "markdown",
      "metadata": {
        "id": "Y_RWPSg2sB_6",
        "colab_type": "text"
      },
      "source": [
        "# Question No 3."
      ]
    },
    {
      "cell_type": "markdown",
      "metadata": {
        "id": "jrlcvsW5u-DX",
        "colab_type": "text"
      },
      "source": [
        "A machine is used to produce two interchangeable products. The daily capacity of the machine can produce at most 20 units of product 1 and 10 units of product 2. Alternatively, the machine can be adjusted to produce at most 12 units of product 1 and 25 units of product 2 daily. Market analysis shows that the maximum daily demand for the two products combined is 35 units. Given that the unit profits for the two respective products are $10 and $12, which of the two machine settings should be selected? Formulate the problem as an IPP and find the optimum"
      ]
    },
    {
      "cell_type": "markdown",
      "metadata": {
        "id": "ejO0rM_1sCKO",
        "colab_type": "text"
      },
      "source": [
        "## IPP Model"
      ]
    },
    {
      "cell_type": "markdown",
      "metadata": {
        "id": "SJhgvLDrsCPQ",
        "colab_type": "text"
      },
      "source": [
        "Maximize $ 10x_{1}+12x_{2}$\n",
        "\n",
        "Subject To\n",
        "\n",
        "$ 20x_{1}+10x_{2}=35$\n",
        "\n",
        "$ x_{1}<=12$\n",
        "\n",
        "$ x_{2}<=25$\n",
        "\n",
        "$ x_{1}>=0$\n",
        "\n",
        "$ x_{2}>=0$\n",
        "\n",
        "and $x_{1}$ and $x_{2}$ is integer\n",
        "\n"
      ]
    },
    {
      "cell_type": "markdown",
      "metadata": {
        "id": "YmHQ4YBKsCUg",
        "colab_type": "text"
      },
      "source": [
        "#Implementation"
      ]
    },
    {
      "cell_type": "code",
      "metadata": {
        "id": "ef5AhWSer6Kp",
        "colab_type": "code",
        "colab": {
          "base_uri": "https://localhost:8080/",
          "height": 50
        },
        "outputId": "50b4ecd4-91b1-4352-cf0a-c52b48e84514"
      },
      "source": [
        "#creating the object of Linear Programming  using pulp\n",
        "lp=LpProblem('IPP Problem ',LpMaximize)"
      ],
      "execution_count": null,
      "outputs": [
        {
          "output_type": "stream",
          "text": [
            "/usr/local/lib/python3.6/dist-packages/pulp/pulp.py:1195: UserWarning: Spaces are not permitted in the name. Converted to '_'\n",
            "  warnings.warn(\"Spaces are not permitted in the name. Converted to '_'\")\n"
          ],
          "name": "stderr"
        }
      ]
    },
    {
      "cell_type": "code",
      "metadata": {
        "id": "8iyaG41jwHx4",
        "colab_type": "code",
        "colab": {}
      },
      "source": [
        "x1 = LpVariable(\"x1\",0,cat='Integer')\n",
        "x2=LpVariable(\"x2\",0,cat='Integer')\n"
      ],
      "execution_count": null,
      "outputs": []
    },
    {
      "cell_type": "code",
      "metadata": {
        "id": "BxpJTuIAwPNr",
        "colab_type": "code",
        "colab": {}
      },
      "source": [
        "\n",
        "#now creating objective and constraints\n",
        "lp +=10*x1 + 12*x2,\"z\"\n",
        "#constraints\n",
        "lp+=20*x1+10*x2<=35\n",
        "lp+=x1<=12\n",
        "lp+=x2<=25\n",
        "lp+=x1>=0\n",
        "lp+=x2>=0\n",
        "\n"
      ],
      "execution_count": null,
      "outputs": []
    },
    {
      "cell_type": "code",
      "metadata": {
        "id": "cGdmcj2nwRyZ",
        "colab_type": "code",
        "colab": {
          "base_uri": "https://localhost:8080/",
          "height": 302
        },
        "outputId": "38cd8e3f-297a-4072-9228-35e969272fcb"
      },
      "source": [
        "lp"
      ],
      "execution_count": null,
      "outputs": [
        {
          "output_type": "execute_result",
          "data": {
            "text/plain": [
              "IPP_Problem_:\n",
              "MAXIMIZE\n",
              "10*x1 + 12*x2 + 0\n",
              "SUBJECT TO\n",
              "_C1: 20 x1 + 10 x2 <= 35\n",
              "\n",
              "_C2: x1 <= 12\n",
              "\n",
              "_C3: x2 <= 25\n",
              "\n",
              "_C4: x1 >= 0\n",
              "\n",
              "_C5: x2 >= 0\n",
              "\n",
              "VARIABLES\n",
              "0 <= x1 Integer\n",
              "0 <= x2 Integer"
            ]
          },
          "metadata": {
            "tags": []
          },
          "execution_count": 50
        }
      ]
    },
    {
      "cell_type": "code",
      "metadata": {
        "id": "MPEutEptwnan",
        "colab_type": "code",
        "colab": {
          "base_uri": "https://localhost:8080/",
          "height": 34
        },
        "outputId": "61993787-2859-462c-c1be-72ac902f7070"
      },
      "source": [
        "lp.solve()"
      ],
      "execution_count": null,
      "outputs": [
        {
          "output_type": "execute_result",
          "data": {
            "text/plain": [
              "1"
            ]
          },
          "metadata": {
            "tags": []
          },
          "execution_count": 51
        }
      ]
    },
    {
      "cell_type": "code",
      "metadata": {
        "id": "veyCw5qMwq_E",
        "colab_type": "code",
        "colab": {}
      },
      "source": [
        "status=lp.solve()"
      ],
      "execution_count": null,
      "outputs": []
    },
    {
      "cell_type": "code",
      "metadata": {
        "id": "bD2MJYkYyQo3",
        "colab_type": "code",
        "colab": {
          "base_uri": "https://localhost:8080/",
          "height": 35
        },
        "outputId": "1bc2452f-8a70-48a5-8169-6f0f9d20dd40"
      },
      "source": [
        "LpStatus[status]"
      ],
      "execution_count": null,
      "outputs": [
        {
          "output_type": "execute_result",
          "data": {
            "application/vnd.google.colaboratory.intrinsic+json": {
              "type": "string"
            },
            "text/plain": [
              "'Optimal'"
            ]
          },
          "metadata": {
            "tags": []
          },
          "execution_count": 53
        }
      ]
    },
    {
      "cell_type": "code",
      "metadata": {
        "id": "UUiONQn_yUa-",
        "colab_type": "code",
        "colab": {
          "base_uri": "https://localhost:8080/",
          "height": 50
        },
        "outputId": "f814ef60-9da9-4b03-f847-08d4a2ebd16b"
      },
      "source": [
        "#to access all decision variable values\n",
        "for variable in lp.variables():\n",
        "  print('{} = {}'.format(variable.name,variable.varValue))\n",
        " "
      ],
      "execution_count": null,
      "outputs": [
        {
          "output_type": "stream",
          "text": [
            "x1 = 0.0\n",
            "x2 = 3.0\n"
          ],
          "name": "stdout"
        }
      ]
    },
    {
      "cell_type": "code",
      "metadata": {
        "id": "9dYeXmbpyYMJ",
        "colab_type": "code",
        "colab": {
          "base_uri": "https://localhost:8080/",
          "height": 34
        },
        "outputId": "34ace1a8-bb72-43fc-fecd-490f463729a8"
      },
      "source": [
        "\n",
        "#to get the maximize solution \n",
        "value(lp.objective)"
      ],
      "execution_count": null,
      "outputs": [
        {
          "output_type": "execute_result",
          "data": {
            "text/plain": [
              "36.0"
            ]
          },
          "metadata": {
            "tags": []
          },
          "execution_count": 55
        }
      ]
    },
    {
      "cell_type": "code",
      "metadata": {
        "id": "he7tj-R9yap7",
        "colab_type": "code",
        "colab": {}
      },
      "source": [
        ""
      ],
      "execution_count": null,
      "outputs": []
    }
  ]
}