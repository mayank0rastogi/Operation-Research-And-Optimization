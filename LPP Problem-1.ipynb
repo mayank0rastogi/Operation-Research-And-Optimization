{
  "nbformat": 4,
  "nbformat_minor": 0,
  "metadata": {
    "colab": {
      "name": "Mayank_Rastogi_81_Lab2.ipynb",
      "provenance": [],
      "collapsed_sections": []
    },
    "kernelspec": {
      "name": "python3",
      "display_name": "Python 3"
    }
  },
  "cells": [
    {
      "cell_type": "markdown",
      "metadata": {
        "id": "nxG5h7K3jiK6",
        "colab_type": "text"
      },
      "source": [
        "# Question No 1"
      ]
    },
    {
      "cell_type": "markdown",
      "metadata": {
        "id": "5kJ1rLiiiaDw",
        "colab_type": "text"
      },
      "source": [
        "A firm is engaged in producing two products, A and B. Each unit of product A requires 2 kg of raw material and 4 labour hours for processing, whereas each unit of product B requires 3 kg of raw material and 3 hours of labour, of the same type. Every week, the firm has an availability of 60 kg of raw material and 96 labour hours. One unit of product A sold yields Rs. 40 and one unit of product B sold gives Rs. 35 as profit. Formulate this problem as a linear programming problem to determine as to how many units of each of the products should be produced per week so that the firm can earn the maximum profit."
      ]
    },
    {
      "cell_type": "markdown",
      "metadata": {
        "id": "wOJONq02jCyd",
        "colab_type": "text"
      },
      "source": [
        "## LPP Model"
      ]
    },
    {
      "cell_type": "markdown",
      "metadata": {
        "id": "lwpKaIlSjF5B",
        "colab_type": "text"
      },
      "source": [
        "Maximize $ 40x_{1}+35x_{2}$\n",
        "\n",
        "Subject To\n",
        "\n",
        "$ 2x_{1}+3x_{2}<=60$\n",
        "\n",
        "$ 4x_{1}+3x_{2}<=96$\n",
        "\n",
        "$ x_{1}>=0$\n",
        "\n",
        "$ x_{2}>=0$\n"
      ]
    },
    {
      "cell_type": "markdown",
      "metadata": {
        "id": "8pAvBkZqpTpG",
        "colab_type": "text"
      },
      "source": [
        "#Implementation"
      ]
    },
    {
      "cell_type": "code",
      "metadata": {
        "id": "ESBkrrTjksMH",
        "colab_type": "code",
        "colab": {
          "base_uri": "https://localhost:8080/",
          "height": 84
        },
        "outputId": "54839312-d070-44a1-f877-21ca0c4b27a1"
      },
      "source": [
        "!pip install pulp"
      ],
      "execution_count": null,
      "outputs": [
        {
          "output_type": "stream",
          "text": [
            "Requirement already satisfied: pulp in /usr/local/lib/python3.6/dist-packages (2.3)\n",
            "Requirement already satisfied: amply>=0.1.2 in /usr/local/lib/python3.6/dist-packages (from pulp) (0.1.2)\n",
            "Requirement already satisfied: docutils>=0.3 in /usr/local/lib/python3.6/dist-packages (from amply>=0.1.2->pulp) (0.15.2)\n",
            "Requirement already satisfied: pyparsing in /usr/local/lib/python3.6/dist-packages (from amply>=0.1.2->pulp) (2.4.7)\n"
          ],
          "name": "stdout"
        }
      ]
    },
    {
      "cell_type": "code",
      "metadata": {
        "id": "ToaFCHauhRUY",
        "colab_type": "code",
        "colab": {}
      },
      "source": [
        "from pulp import *"
      ],
      "execution_count": null,
      "outputs": []
    },
    {
      "cell_type": "code",
      "metadata": {
        "id": "4pEdJCpVhn-q",
        "colab_type": "code",
        "colab": {
          "base_uri": "https://localhost:8080/",
          "height": 50
        },
        "outputId": "e878dc46-902a-406f-c835-56d283542063"
      },
      "source": [
        "#creating the object of Linear Programming  using pulp\n",
        "lp=LpProblem('LP Problem ',LpMaximize)"
      ],
      "execution_count": null,
      "outputs": [
        {
          "output_type": "stream",
          "text": [
            "/usr/local/lib/python3.6/dist-packages/pulp/pulp.py:1195: UserWarning: Spaces are not permitted in the name. Converted to '_'\n",
            "  warnings.warn(\"Spaces are not permitted in the name. Converted to '_'\")\n"
          ],
          "name": "stderr"
        }
      ]
    },
    {
      "cell_type": "code",
      "metadata": {
        "id": "UozmkNn_htfI",
        "colab_type": "code",
        "colab": {}
      },
      "source": [
        "x1 = LpVariable(\"x1\",0)\n",
        "x2=LpVariable(\"x2\",0)\n"
      ],
      "execution_count": null,
      "outputs": []
    },
    {
      "cell_type": "code",
      "metadata": {
        "id": "sjZE9_ELhv8r",
        "colab_type": "code",
        "colab": {}
      },
      "source": [
        "\n",
        "#now creating objective and constraints\n",
        "lp +=40*x1 + 35*x2,\"z\"\n",
        "#constraints\n",
        "lp+=x1>=0\n",
        "lp+=x2>=0\n",
        "lp+=2*x1+3*x2<=60\n",
        "lp+=4*x1+3*x2<=96\n",
        "\n"
      ],
      "execution_count": null,
      "outputs": []
    },
    {
      "cell_type": "code",
      "metadata": {
        "id": "xnBrgtRLlpTL",
        "colab_type": "code",
        "colab": {
          "base_uri": "https://localhost:8080/",
          "height": 269
        },
        "outputId": "f09be9b9-73cc-4df7-bb23-116909312ad5"
      },
      "source": [
        "lp"
      ],
      "execution_count": null,
      "outputs": [
        {
          "output_type": "execute_result",
          "data": {
            "text/plain": [
              "LP_Problem_:\n",
              "MAXIMIZE\n",
              "40*x1 + 35*x2 + 0\n",
              "SUBJECT TO\n",
              "_C1: x1 >= 0\n",
              "\n",
              "_C2: x2 >= 0\n",
              "\n",
              "_C3: 2 x1 + 3 x2 <= 60\n",
              "\n",
              "_C4: 4 x1 + 3 x2 <= 96\n",
              "\n",
              "VARIABLES\n",
              "x1 Continuous\n",
              "x2 Continuous"
            ]
          },
          "metadata": {
            "tags": []
          },
          "execution_count": 7
        }
      ]
    },
    {
      "cell_type": "code",
      "metadata": {
        "id": "LJ0SGF4Qy4YF",
        "colab_type": "code",
        "colab": {
          "base_uri": "https://localhost:8080/",
          "height": 34
        },
        "outputId": "0058dd26-e376-4a17-f36e-b2179d9a419b"
      },
      "source": [
        "lp.solve()"
      ],
      "execution_count": null,
      "outputs": [
        {
          "output_type": "execute_result",
          "data": {
            "text/plain": [
              "1"
            ]
          },
          "metadata": {
            "tags": []
          },
          "execution_count": 38
        }
      ]
    },
    {
      "cell_type": "code",
      "metadata": {
        "id": "oWg5x8oVhzoc",
        "colab_type": "code",
        "colab": {}
      },
      "source": [
        "status=lp.solve()"
      ],
      "execution_count": null,
      "outputs": []
    },
    {
      "cell_type": "code",
      "metadata": {
        "id": "BH80mQeCh61e",
        "colab_type": "code",
        "colab": {
          "base_uri": "https://localhost:8080/",
          "height": 35
        },
        "outputId": "44b79554-9dd5-4606-dcd9-4b05795522b2"
      },
      "source": [
        "LpStatus[status]"
      ],
      "execution_count": null,
      "outputs": [
        {
          "output_type": "execute_result",
          "data": {
            "application/vnd.google.colaboratory.intrinsic+json": {
              "type": "string"
            },
            "text/plain": [
              "'Optimal'"
            ]
          },
          "metadata": {
            "tags": []
          },
          "execution_count": 9
        }
      ]
    },
    {
      "cell_type": "code",
      "metadata": {
        "id": "_E231vq-lsqW",
        "colab_type": "code",
        "colab": {
          "base_uri": "https://localhost:8080/",
          "height": 34
        },
        "outputId": "c96d9d4e-96ab-43e6-80ab-09f06fb0ef68"
      },
      "source": [
        "#to see vraible seprately we use value function\n",
        "value(x1)"
      ],
      "execution_count": null,
      "outputs": [
        {
          "output_type": "execute_result",
          "data": {
            "text/plain": [
              "18.0"
            ]
          },
          "metadata": {
            "tags": []
          },
          "execution_count": 10
        }
      ]
    },
    {
      "cell_type": "code",
      "metadata": {
        "id": "09grw5XylxB2",
        "colab_type": "code",
        "colab": {
          "base_uri": "https://localhost:8080/",
          "height": 34
        },
        "outputId": "be1fe935-2e73-4461-891c-584dcc16bf21"
      },
      "source": [
        "#to see vraible seprately we use value function\n",
        "value(x2)"
      ],
      "execution_count": null,
      "outputs": [
        {
          "output_type": "execute_result",
          "data": {
            "text/plain": [
              "8.0"
            ]
          },
          "metadata": {
            "tags": []
          },
          "execution_count": 11
        }
      ]
    },
    {
      "cell_type": "code",
      "metadata": {
        "id": "Oe71klw7l00j",
        "colab_type": "code",
        "colab": {
          "base_uri": "https://localhost:8080/",
          "height": 50
        },
        "outputId": "bbef70e7-4989-4682-8c7f-08e85c57cb9e"
      },
      "source": [
        "#to access all decision variable values\n",
        "for variable in lp.variables():\n",
        "  print('{} = {}'.format(variable.name,variable.varValue))\n",
        " "
      ],
      "execution_count": null,
      "outputs": [
        {
          "output_type": "stream",
          "text": [
            "x1 = 18.0\n",
            "x2 = 8.0\n"
          ],
          "name": "stdout"
        }
      ]
    },
    {
      "cell_type": "code",
      "metadata": {
        "id": "3pLjMIXLl4_N",
        "colab_type": "code",
        "colab": {
          "base_uri": "https://localhost:8080/",
          "height": 34
        },
        "outputId": "f027090b-74e0-4f17-dbd8-11c033d8c00c"
      },
      "source": [
        "\n",
        "#to get the maximize solution \n",
        "value(lp.objective)"
      ],
      "execution_count": null,
      "outputs": [
        {
          "output_type": "execute_result",
          "data": {
            "text/plain": [
              "1000.0"
            ]
          },
          "metadata": {
            "tags": []
          },
          "execution_count": 13
        }
      ]
    },
    {
      "cell_type": "markdown",
      "metadata": {
        "id": "sH5qZiAOmeri",
        "colab_type": "text"
      },
      "source": [
        "# Question No 2."
      ]
    },
    {
      "cell_type": "markdown",
      "metadata": {
        "id": "6uTBIZmYmim3",
        "colab_type": "text"
      },
      "source": [
        "The Agricultural research Institute suggested to a farmer to spread out at least 4800 kg of a special phosphate fertilizer and not less than 7200 kg of a special nitrogen fertilizer to raise productivity of crops in his fields. There are two sources for obtaining these − mixtures A and B. Both of these are available in bags weighing 100 kg each and they cost Rs. 40 and Rs. 24 respectively. Mixture A contains phosphate and nitrogen equivalent of 20 kg and 80 kg respectively, while mixture B contains these ingredients equivalent of 50 kg each.Write as a linear programming problem to determine how many bags of each type the farmer should buy in order to obtain the required fertilizer at a minimum cost."
      ]
    },
    {
      "cell_type": "markdown",
      "metadata": {
        "id": "lOjtUx-4mijq",
        "colab_type": "text"
      },
      "source": [
        "## LPP Model"
      ]
    },
    {
      "cell_type": "markdown",
      "metadata": {
        "id": "RKUg2CNjmx8X",
        "colab_type": "text"
      },
      "source": [
        "Minimize $ 40x_{1}+24x_{2}$\n",
        "\n",
        "Subject To\n",
        "\n",
        "$ 20x_{1}+50x_{2}>=4800$\n",
        "\n",
        "$ 80x_{1}+50x_{2}>=7200$\n",
        "\n",
        "$ x_{1}>=0$\n",
        "\n",
        "$ x_{2}>=0$\n"
      ]
    },
    {
      "cell_type": "markdown",
      "metadata": {
        "id": "auD_g4Lbrm1f",
        "colab_type": "text"
      },
      "source": [
        "#Implementation"
      ]
    },
    {
      "cell_type": "code",
      "metadata": {
        "id": "a43Nk2zOmVDJ",
        "colab_type": "code",
        "colab": {
          "base_uri": "https://localhost:8080/",
          "height": 50
        },
        "outputId": "49e0c62c-c2cd-4ea3-8ee1-9d1f8ed63a93"
      },
      "source": [
        "#creating the object of Linear Programming  using pulp\n",
        "lp=LpProblem('LP Problem ',LpMinimize)"
      ],
      "execution_count": null,
      "outputs": [
        {
          "output_type": "stream",
          "text": [
            "/usr/local/lib/python3.6/dist-packages/pulp/pulp.py:1195: UserWarning: Spaces are not permitted in the name. Converted to '_'\n",
            "  warnings.warn(\"Spaces are not permitted in the name. Converted to '_'\")\n"
          ],
          "name": "stderr"
        }
      ]
    },
    {
      "cell_type": "code",
      "metadata": {
        "id": "DEUWihtes2yT",
        "colab_type": "code",
        "colab": {}
      },
      "source": [
        "x1 = LpVariable(\"x1\",0)\n",
        "x2=LpVariable(\"x2\",0)\n"
      ],
      "execution_count": null,
      "outputs": []
    },
    {
      "cell_type": "code",
      "metadata": {
        "id": "ZX7I03tDs8nV",
        "colab_type": "code",
        "colab": {}
      },
      "source": [
        "\n",
        "#now creating objective and constraints\n",
        "lp +=40*x1 + 24*x2,\"z\"\n",
        "#constraints\n",
        "lp+=x1>=0\n",
        "lp+=x2>=0\n",
        "lp+=20*x1+50*x2>=4800\n",
        "lp+=80*x1+50*x2>=7200\n",
        "\n"
      ],
      "execution_count": null,
      "outputs": []
    },
    {
      "cell_type": "code",
      "metadata": {
        "id": "34KfEwjmtL-6",
        "colab_type": "code",
        "colab": {
          "base_uri": "https://localhost:8080/",
          "height": 269
        },
        "outputId": "4071bda8-bce0-4afc-a4db-e17ec03a4a86"
      },
      "source": [
        "lp"
      ],
      "execution_count": null,
      "outputs": [
        {
          "output_type": "execute_result",
          "data": {
            "text/plain": [
              "LP_Problem_:\n",
              "MINIMIZE\n",
              "40*x1 + 24*x2 + 0\n",
              "SUBJECT TO\n",
              "_C1: x1 >= 0\n",
              "\n",
              "_C2: x2 >= 0\n",
              "\n",
              "_C3: 20 x1 + 50 x2 >= 4800\n",
              "\n",
              "_C4: 80 x1 + 50 x2 >= 7200\n",
              "\n",
              "VARIABLES\n",
              "x1 Continuous\n",
              "x2 Continuous"
            ]
          },
          "metadata": {
            "tags": []
          },
          "execution_count": 24
        }
      ]
    },
    {
      "cell_type": "code",
      "metadata": {
        "id": "whuSWXu7zBKV",
        "colab_type": "code",
        "colab": {
          "base_uri": "https://localhost:8080/",
          "height": 34
        },
        "outputId": "84368adc-ab75-45b8-a32c-7a3b0c416061"
      },
      "source": [
        "lp.solve()"
      ],
      "execution_count": null,
      "outputs": [
        {
          "output_type": "execute_result",
          "data": {
            "text/plain": [
              "1"
            ]
          },
          "metadata": {
            "tags": []
          },
          "execution_count": 39
        }
      ]
    },
    {
      "cell_type": "code",
      "metadata": {
        "id": "qwsdIgP9tQ2D",
        "colab_type": "code",
        "colab": {}
      },
      "source": [
        "status=lp.solve()"
      ],
      "execution_count": null,
      "outputs": []
    },
    {
      "cell_type": "code",
      "metadata": {
        "id": "9ABPClZktSH4",
        "colab_type": "code",
        "colab": {
          "base_uri": "https://localhost:8080/",
          "height": 35
        },
        "outputId": "3a2f2345-5150-4611-d6c8-47fa41d41c22"
      },
      "source": [
        "LpStatus[status]"
      ],
      "execution_count": null,
      "outputs": [
        {
          "output_type": "execute_result",
          "data": {
            "application/vnd.google.colaboratory.intrinsic+json": {
              "type": "string"
            },
            "text/plain": [
              "'Optimal'"
            ]
          },
          "metadata": {
            "tags": []
          },
          "execution_count": 26
        }
      ]
    },
    {
      "cell_type": "code",
      "metadata": {
        "id": "B6OFCSvytVGY",
        "colab_type": "code",
        "colab": {
          "base_uri": "https://localhost:8080/",
          "height": 50
        },
        "outputId": "a7c2ecfa-6a1c-4f36-a4eb-6db12c609827"
      },
      "source": [
        "#to access all decision variable values\n",
        "for variable in lp.variables():\n",
        "  print('{} = {}'.format(variable.name,variable.varValue))\n",
        " "
      ],
      "execution_count": null,
      "outputs": [
        {
          "output_type": "stream",
          "text": [
            "x1 = 0.0\n",
            "x2 = 144.0\n"
          ],
          "name": "stdout"
        }
      ]
    },
    {
      "cell_type": "code",
      "metadata": {
        "id": "_I3heZCFtYhJ",
        "colab_type": "code",
        "colab": {
          "base_uri": "https://localhost:8080/",
          "height": 34
        },
        "outputId": "2d717c46-3a6f-4ff0-ce6a-b619311af600"
      },
      "source": [
        "\n",
        "#to get the maximize solution \n",
        "value(lp.objective)"
      ],
      "execution_count": null,
      "outputs": [
        {
          "output_type": "execute_result",
          "data": {
            "text/plain": [
              "3456.0"
            ]
          },
          "metadata": {
            "tags": []
          },
          "execution_count": 28
        }
      ]
    },
    {
      "cell_type": "markdown",
      "metadata": {
        "id": "sGjouCRbtyeM",
        "colab_type": "text"
      },
      "source": [
        "# Question No 3."
      ]
    },
    {
      "cell_type": "markdown",
      "metadata": {
        "id": "6LW1WNizt2fm",
        "colab_type": "text"
      },
      "source": [
        "A company manufactures two products A and B. These products are processed in the same machine. It takes 10 minutes to process one unit of product A and 2 minutes for each unit of product B and the machine operates for a maximum of 35 hours in a week. Product A requires 1 kg and B 0.5 kg of raw material per unit, the supply of which is 600 kg per week. Market constraint on product B is known to be minimum of 800 units every week. Product A costs Rs. 5 per unit and sold at Rs. 10. Product B costs Rs. 6 per unit and can be sold in the market at a unit price of Rs. 8. Determine the number of units of A and B per week to maximize the profit.\n"
      ]
    },
    {
      "cell_type": "markdown",
      "metadata": {
        "id": "bdUbWr0Rt2bM",
        "colab_type": "text"
      },
      "source": [
        "# LPP Model"
      ]
    },
    {
      "cell_type": "markdown",
      "metadata": {
        "id": "enhyXwNgt2X2",
        "colab_type": "text"
      },
      "source": [
        "Maximize $ 5x_{1}+2x_{2}$\n",
        "\n",
        "Subject To\n",
        "\n",
        "$ 10x_{1}+2x_{2}<=2100$\n",
        "\n",
        "$ x_{1}+0.5x_{2}<=600$\n",
        "\n",
        "$ x_{1}>=0$\n",
        "\n",
        "$ x_{2}>=800$\n"
      ]
    },
    {
      "cell_type": "markdown",
      "metadata": {
        "id": "mJEGc_7muP9v",
        "colab_type": "text"
      },
      "source": [
        "#Implementation"
      ]
    },
    {
      "cell_type": "code",
      "metadata": {
        "id": "RIP5xKzetlwR",
        "colab_type": "code",
        "colab": {
          "base_uri": "https://localhost:8080/",
          "height": 50
        },
        "outputId": "b3554357-a30c-4b8f-80a4-edde9bbc6c50"
      },
      "source": [
        "#creating the object of Linear Programming  using pulp\n",
        "lp=LpProblem('LP Problem ',LpMaximize)"
      ],
      "execution_count": null,
      "outputs": [
        {
          "output_type": "stream",
          "text": [
            "/usr/local/lib/python3.6/dist-packages/pulp/pulp.py:1195: UserWarning: Spaces are not permitted in the name. Converted to '_'\n",
            "  warnings.warn(\"Spaces are not permitted in the name. Converted to '_'\")\n"
          ],
          "name": "stderr"
        }
      ]
    },
    {
      "cell_type": "code",
      "metadata": {
        "id": "kJgzYyVjxAMD",
        "colab_type": "code",
        "colab": {}
      },
      "source": [
        "x1 = LpVariable(\"x1\",0)\n",
        "x2=LpVariable(\"x2\",0)\n"
      ],
      "execution_count": null,
      "outputs": []
    },
    {
      "cell_type": "code",
      "metadata": {
        "id": "W5xtCoesxAQk",
        "colab_type": "code",
        "colab": {
          "base_uri": "https://localhost:8080/",
          "height": 50
        },
        "outputId": "d7c6f25d-19fd-4e51-b2e7-46d7a603154f"
      },
      "source": [
        "\n",
        "#now creating objective and constraints\n",
        "lp +=5*x1 + 2*x2,\"z\"\n",
        "#constraints\n",
        "lp+=x2>=800\n",
        "lp+=x1>=0\n",
        "lp+=10*x1+2*x2>=2100\n",
        "lp+=x1+0.5*x2<=600\n",
        "\n"
      ],
      "execution_count": null,
      "outputs": [
        {
          "output_type": "stream",
          "text": [
            "/usr/local/lib/python3.6/dist-packages/pulp/pulp.py:1521: UserWarning: Overwriting previously set objective.\n",
            "  warnings.warn(\"Overwriting previously set objective.\")\n"
          ],
          "name": "stderr"
        }
      ]
    },
    {
      "cell_type": "code",
      "metadata": {
        "id": "_0jtfMTIxAuW",
        "colab_type": "code",
        "colab": {
          "base_uri": "https://localhost:8080/",
          "height": 370
        },
        "outputId": "702d9220-8a26-483b-cffc-3b4596553625"
      },
      "source": [
        "lp"
      ],
      "execution_count": null,
      "outputs": [
        {
          "output_type": "execute_result",
          "data": {
            "text/plain": [
              "LP_Problem_:\n",
              "MAXIMIZE\n",
              "5*x1 + 2*x2 + 0\n",
              "SUBJECT TO\n",
              "_C1: x2 >= 800\n",
              "\n",
              "_C2: 10 x1 + 2 x2 >= 2100\n",
              "\n",
              "_C3: x1 + 0.5 x2 <= 600\n",
              "\n",
              "_C4: x2 >= 800\n",
              "\n",
              "_C5: x1 >= 0\n",
              "\n",
              "_C6: 10 x1 + 2 x2 >= 2100\n",
              "\n",
              "_C7: x1 + 0.5 x2 <= 600\n",
              "\n",
              "VARIABLES\n",
              "x1 Continuous\n",
              "x2 Continuous"
            ]
          },
          "metadata": {
            "tags": []
          },
          "execution_count": 45
        }
      ]
    },
    {
      "cell_type": "code",
      "metadata": {
        "id": "YGJ9JVXpzI2k",
        "colab_type": "code",
        "colab": {
          "base_uri": "https://localhost:8080/",
          "height": 34
        },
        "outputId": "d71c2bd8-5631-4c7a-eab4-3bdb01a9e5d8"
      },
      "source": [
        "lp.solve()"
      ],
      "execution_count": null,
      "outputs": [
        {
          "output_type": "execute_result",
          "data": {
            "text/plain": [
              "1"
            ]
          },
          "metadata": {
            "tags": []
          },
          "execution_count": 46
        }
      ]
    },
    {
      "cell_type": "code",
      "metadata": {
        "id": "H4mNGFZCxBFy",
        "colab_type": "code",
        "colab": {}
      },
      "source": [
        "status=lp.solve()"
      ],
      "execution_count": null,
      "outputs": []
    },
    {
      "cell_type": "code",
      "metadata": {
        "id": "j388Qy_DxAOj",
        "colab_type": "code",
        "colab": {
          "base_uri": "https://localhost:8080/",
          "height": 35
        },
        "outputId": "d3123e22-0e11-48c4-ab89-b4de92e8ac44"
      },
      "source": [
        "LpStatus[status]"
      ],
      "execution_count": null,
      "outputs": [
        {
          "output_type": "execute_result",
          "data": {
            "application/vnd.google.colaboratory.intrinsic+json": {
              "type": "string"
            },
            "text/plain": [
              "'Optimal'"
            ]
          },
          "metadata": {
            "tags": []
          },
          "execution_count": 48
        }
      ]
    },
    {
      "cell_type": "code",
      "metadata": {
        "id": "Ma8VE6IMxAKM",
        "colab_type": "code",
        "colab": {
          "base_uri": "https://localhost:8080/",
          "height": 50
        },
        "outputId": "2ea30146-94ae-477a-ef9d-9ae7a9df3bf4"
      },
      "source": [
        "#to access all decision variable values\n",
        "for variable in lp.variables():\n",
        "  print('{} = {}'.format(variable.name,variable.varValue))\n",
        " "
      ],
      "execution_count": null,
      "outputs": [
        {
          "output_type": "stream",
          "text": [
            "x1 = 200.0\n",
            "x2 = 800.0\n"
          ],
          "name": "stdout"
        }
      ]
    },
    {
      "cell_type": "code",
      "metadata": {
        "id": "VGL96MYzxAG5",
        "colab_type": "code",
        "colab": {
          "base_uri": "https://localhost:8080/",
          "height": 34
        },
        "outputId": "c2e7c93e-ce30-4273-cea0-b3c20446a242"
      },
      "source": [
        "\n",
        "#to get the maximize solution \n",
        "value(lp.objective)"
      ],
      "execution_count": null,
      "outputs": [
        {
          "output_type": "execute_result",
          "data": {
            "text/plain": [
              "2600.0"
            ]
          },
          "metadata": {
            "tags": []
          },
          "execution_count": 50
        }
      ]
    },
    {
      "cell_type": "code",
      "metadata": {
        "id": "K9GglxONyJ-N",
        "colab_type": "code",
        "colab": {}
      },
      "source": [
        ""
      ],
      "execution_count": null,
      "outputs": []
    }
  ]
}