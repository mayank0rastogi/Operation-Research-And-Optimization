{
  "nbformat": 4,
  "nbformat_minor": 0,
  "metadata": {
    "colab": {
      "name": "MayankRastogi_081_Lab9.ipynb",
      "provenance": [],
      "collapsed_sections": [],
      "toc_visible": true
    },
    "kernelspec": {
      "name": "python3",
      "display_name": "Python 3"
    }
  },
  "cells": [
    {
      "cell_type": "code",
      "metadata": {
        "id": "_WfhEF39-u75",
        "outputId": "ba1633c9-f883-4724-99f5-3dffbcceeeea",
        "colab": {
          "base_uri": "https://localhost:8080/",
          "height": 190
        }
      },
      "source": [
        "pip install pulp"
      ],
      "execution_count": null,
      "outputs": [
        {
          "output_type": "stream",
          "text": [
            "Collecting pulp\n",
            "\u001b[?25l  Downloading https://files.pythonhosted.org/packages/c3/22/5743d7b5d69f84fb63a0b4925862522dbf80e82defcd0c447afb694f3fd0/PuLP-2.3-py3-none-any.whl (40.6MB)\n",
            "\u001b[K     |████████████████████████████████| 40.6MB 99kB/s \n",
            "\u001b[?25hCollecting amply>=0.1.2\n",
            "  Downloading https://files.pythonhosted.org/packages/f3/c5/dfa09dd2595a2ab2ab4e6fa7bebef9565812722e1980d04b0edce5032066/amply-0.1.4-py3-none-any.whl\n",
            "Requirement already satisfied: pyparsing in /usr/local/lib/python3.6/dist-packages (from amply>=0.1.2->pulp) (2.4.7)\n",
            "Requirement already satisfied: docutils>=0.3 in /usr/local/lib/python3.6/dist-packages (from amply>=0.1.2->pulp) (0.16)\n",
            "Installing collected packages: amply, pulp\n",
            "Successfully installed amply-0.1.4 pulp-2.3\n"
          ],
          "name": "stdout"
        }
      ]
    },
    {
      "cell_type": "markdown",
      "metadata": {
        "id": "C6JQMtGV-ffy"
      },
      "source": [
        "#Question 1.\n",
        "Minimize $Z=5x_{11}+2x_{12}+4x_{13}+3x_{14}+4x_{21}+8x_{22}+1x_{23}+6x_{24}+4x_{31}+6x_{32}+7x_{33}+5x_{34}$\n",
        "\n",
        "subject to\n",
        "\n",
        "$x_{11}+x_{12}+x_{13}+x_{14}=22$\n",
        "\n",
        "$x_{21}+x_{22}+x_{23}+x_{24}=15$\n",
        "\n",
        "$x_{31}+x_{32}+x_{33}+x_{34}=8$\n",
        "\n",
        "$x_{11}+x_{21}+x_{31}=7$\n",
        "\n",
        "$x_{12}+x_{22}+x_{32}=12$\n",
        "\n",
        "$x_{13}+x_{23}+x_{33}=17$\n",
        "\n",
        "$x_{14}+x_{24}+x_{34}=9$\n",
        "\n",
        "$x_{ij}>=0$ for all i=1,2,3 and j=1,2,3,4"
      ]
    },
    {
      "cell_type": "code",
      "metadata": {
        "id": "RatDyL2T-xVw"
      },
      "source": [
        "from pulp import *"
      ],
      "execution_count": null,
      "outputs": []
    },
    {
      "cell_type": "code",
      "metadata": {
        "id": "iSnfcGBF-zgE"
      },
      "source": [
        "import pandas as pd\n",
        "import numpy as np"
      ],
      "execution_count": null,
      "outputs": []
    },
    {
      "cell_type": "code",
      "metadata": {
        "id": "MyyimesI-6Q8"
      },
      "source": [
        "\n",
        "nvar=12\n",
        "ncons=7\n",
        "cost=np.array([5,2,4,3,4,8,1,6,4,6,7,5])\n",
        "\n",
        "Coff=np.array([[1,1,1,1,0,0,0,0,0,0,0,0],\n",
        "               [0,0,0,0,1,1,1,1,0,0,0,0],\n",
        "               [0,0,0,0,0,0,0,0,1,1,1,1],\n",
        "               [1,0,0,0,1,0,0,0,1,0,0,0],\n",
        "               [0,1,0,0,0,1,0,0,0,1,0,0],\n",
        "               [0,0,1,0,0,0,1,0,0,0,1,0],\n",
        "               [0,0,0,1,0,0,0,1,0,0,0,1]])\n",
        "\n",
        "resources=[22,15,8,7,12,17,9]"
      ],
      "execution_count": null,
      "outputs": []
    },
    {
      "cell_type": "code",
      "metadata": {
        "id": "p6YM0LqN-_-N",
        "outputId": "eeb3b7f4-91c6-44dc-82c0-e34cdceb795b",
        "colab": {
          "base_uri": "https://localhost:8080/",
          "height": 833
        }
      },
      "source": [
        "#Define th model\n",
        "model=LpProblem(\"LPP\",LpMinimize)\n",
        "\n",
        "#Define the decision variable\n",
        "x = {i: LpVariable(name=f\"x{i}\", lowBound=0) for i in range(1,nvar+1)}\n",
        "\n",
        "# Define The objective\n",
        "model += lpSum(cost[i-1]*x[i] for i in range(1,nvar+1))\n",
        "\n",
        "\n",
        "#Add Constraints\n",
        "\n",
        "for j in range(ncons):\n",
        "  model += lpSum(Coff[j,i-1]*x[i] for i in range(1,nvar+1))==resources[j]\n",
        "\n",
        "#Print model\n",
        "print(model)\n",
        "\n",
        "# Solve the optimization problem\n",
        "status = model.solve()\n",
        "\n",
        "# Get the results\n",
        "print('##############Solution of LPP is #################n\\n')\n",
        "print(f\"status: {model.status}, {LpStatus[model.status]}\")\n",
        "print(f\"objective: {model.objective.value()}\")\n",
        "\n",
        "for var in x.values():\n",
        "  print(f\"{var.name}: {var.value()}\")"
      ],
      "execution_count": null,
      "outputs": [
        {
          "output_type": "stream",
          "text": [
            "LPP:\n",
            "MINIMIZE\n",
            "5*x1 + 6*x10 + 7*x11 + 5*x12 + 2*x2 + 4*x3 + 3*x4 + 4*x5 + 8*x6 + 1*x7 + 6*x8 + 4*x9 + 0\n",
            "SUBJECT TO\n",
            "_C1: x1 + x2 + x3 + x4 = 22\n",
            "\n",
            "_C2: x5 + x6 + x7 + x8 = 15\n",
            "\n",
            "_C3: x10 + x11 + x12 + x9 = 8\n",
            "\n",
            "_C4: x1 + x5 + x9 = 7\n",
            "\n",
            "_C5: x10 + x2 + x6 = 12\n",
            "\n",
            "_C6: x11 + x3 + x7 = 17\n",
            "\n",
            "_C7: x12 + x4 + x8 = 9\n",
            "\n",
            "VARIABLES\n",
            "x1 Continuous\n",
            "x10 Continuous\n",
            "x11 Continuous\n",
            "x12 Continuous\n",
            "x2 Continuous\n",
            "x3 Continuous\n",
            "x4 Continuous\n",
            "x5 Continuous\n",
            "x6 Continuous\n",
            "x7 Continuous\n",
            "x8 Continuous\n",
            "x9 Continuous\n",
            "\n",
            "##############Solution of LPP is #################n\n",
            "\n",
            "status: 1, Optimal\n",
            "objective: 104.0\n",
            "x1: 0.0\n",
            "x2: 12.0\n",
            "x3: 2.0\n",
            "x4: 8.0\n",
            "x5: 0.0\n",
            "x6: 0.0\n",
            "x7: 15.0\n",
            "x8: 0.0\n",
            "x9: 7.0\n",
            "x10: 0.0\n",
            "x11: 0.0\n",
            "x12: 1.0\n"
          ],
          "name": "stdout"
        }
      ]
    },
    {
      "cell_type": "markdown",
      "metadata": {
        "id": "_ibKS6M1I3_m"
      },
      "source": [
        "#Question 2. \n"
      ]
    },
    {
      "cell_type": "markdown",
      "metadata": {
        "id": "f4dhvu3Q99Pq"
      },
      "source": [
        "\n",
        "Minimize $Z=5x_{11}+2x_{12}+4x_{13}+3x_{14}+4x_{21}+8x_{22}+1x_{23}+6x_{24}+4x_{31}+6x_{32}+7x_{33}+5x_{34}$\n",
        "\n",
        "subject to\n",
        "\n",
        "$x_{11}+x_{12}+x_{13}+x_{14}=22$\n",
        "\n",
        "$x_{21}+x_{22}+x_{23}+x_{24}=15$\n",
        "\n",
        "$x_{31}+x_{32}+x_{33}+x_{34}=8$\n",
        "\n",
        "$x_{11}+x_{21}+x_{31}=7$\n",
        "\n",
        "$x_{12}+x_{22}+x_{32}=12$\n",
        "\n",
        "$x_{13}+x_{23}+x_{33}=17$\n",
        "\n",
        "$x_{14}+x_{24}+x_{34}=9$\n",
        "\n",
        "$x_{ij}>=0$ for all i=1,2,3 and j=1,2,3,4"
      ]
    },
    {
      "cell_type": "code",
      "metadata": {
        "id": "AIHIl9ur-AL3"
      },
      "source": [
        "\n",
        "nvar=12\n",
        "ncons=7\n",
        "cost=np.array([5,2,4,3,4,8,1,6,4,6,7,5])\n",
        "\n",
        "Coff=np.array([[1,1,1,1,0,0,0,0,0,0,0,0],\n",
        "               [0,0,0,0,1,1,1,1,0,0,0,0],\n",
        "               [0,0,0,0,0,0,0,0,1,1,1,1],\n",
        "               [1,0,0,0,1,0,0,0,1,0,0,0],\n",
        "               [0,1,0,0,0,1,0,0,0,1,0,0],\n",
        "               [0,0,1,0,0,0,1,0,0,0,1,0],\n",
        "               [0,0,0,1,0,0,0,1,0,0,0,1]])\n",
        "\n",
        "resources=[22,15,8,7,12,17,9]"
      ],
      "execution_count": null,
      "outputs": []
    },
    {
      "cell_type": "code",
      "metadata": {
        "id": "xAQoZNiT-LgL",
        "outputId": "6eefb11c-9c33-4b2b-abe9-617c41cdd355",
        "colab": {
          "base_uri": "https://localhost:8080/",
          "height": 833
        }
      },
      "source": [
        "#Define th model\n",
        "model=LpProblem(\"LPP\",LpMinimize)\n",
        "\n",
        "#Define the decision variable\n",
        "x = {i: LpVariable(name=f\"x{i}\", lowBound=0) for i in range(1,nvar+1)}\n",
        "\n",
        "# Define The objective\n",
        "model += lpSum(cost[i-1]*x[i] for i in range(1,nvar+1))\n",
        "\n",
        "\n",
        "#Add Constraints\n",
        "\n",
        "for j in range(ncons):\n",
        "  model += lpSum(Coff[j,i-1]*x[i] for i in range(1,nvar+1))==resources[j]\n",
        "\n",
        "#Print model\n",
        "print(model)\n",
        "\n",
        "# Solve the optimization problem\n",
        "status = model.solve()\n",
        "\n",
        "# Get the results\n",
        "print('##############Solution of LPP is #################n\\n')\n",
        "print(f\"status: {model.status}, {LpStatus[model.status]}\")\n",
        "print(f\"objective: {model.objective.value()}\")\n",
        "\n",
        "for var in x.values():\n",
        "  print(f\"{var.name}: {var.value()}\")"
      ],
      "execution_count": null,
      "outputs": [
        {
          "output_type": "stream",
          "text": [
            "LPP:\n",
            "MINIMIZE\n",
            "5*x1 + 6*x10 + 7*x11 + 5*x12 + 2*x2 + 4*x3 + 3*x4 + 4*x5 + 8*x6 + 1*x7 + 6*x8 + 4*x9 + 0\n",
            "SUBJECT TO\n",
            "_C1: x1 + x2 + x3 + x4 = 22\n",
            "\n",
            "_C2: x5 + x6 + x7 + x8 = 15\n",
            "\n",
            "_C3: x10 + x11 + x12 + x9 = 8\n",
            "\n",
            "_C4: x1 + x5 + x9 = 7\n",
            "\n",
            "_C5: x10 + x2 + x6 = 12\n",
            "\n",
            "_C6: x11 + x3 + x7 = 17\n",
            "\n",
            "_C7: x12 + x4 + x8 = 9\n",
            "\n",
            "VARIABLES\n",
            "x1 Continuous\n",
            "x10 Continuous\n",
            "x11 Continuous\n",
            "x12 Continuous\n",
            "x2 Continuous\n",
            "x3 Continuous\n",
            "x4 Continuous\n",
            "x5 Continuous\n",
            "x6 Continuous\n",
            "x7 Continuous\n",
            "x8 Continuous\n",
            "x9 Continuous\n",
            "\n",
            "##############Solution of LPP is #################n\n",
            "\n",
            "status: 1, Optimal\n",
            "objective: 104.0\n",
            "x1: 0.0\n",
            "x2: 12.0\n",
            "x3: 2.0\n",
            "x4: 8.0\n",
            "x5: 0.0\n",
            "x6: 0.0\n",
            "x7: 15.0\n",
            "x8: 0.0\n",
            "x9: 7.0\n",
            "x10: 0.0\n",
            "x11: 0.0\n",
            "x12: 1.0\n"
          ],
          "name": "stdout"
        }
      ]
    },
    {
      "cell_type": "markdown",
      "metadata": {
        "id": "hPgFExjx_LDt"
      },
      "source": [
        "#Question 3.\n",
        "Minimize $Z=3x_{11}+4x_{12}+6x_{13}+8x_{14}+9x_{15}+2x_{21}+10x_{22}+1x_{23}+5x_{24}+8x_{25}+7x_{31}+11x_{32}+20x_{33}+40x_{34}+3x_{35}+2x_{41}+1x_{42}+9x_{43}+14x_{44}+16x_{45}$\n",
        "\n",
        "subject to\n",
        "\n",
        "$x_{11}+x_{12}+x_{13}+x_{14}+x_{15}=20$\n",
        "\n",
        "$x_{21}+x_{22}+x_{23}+x_{24}+x_{25}=30$\n",
        "\n",
        "$x_{31}+x_{32}+x_{33}+x_{34}+x_{35}=15$\n",
        "\n",
        "$x_{41}+x_{42}+x_{43}+x_{44}+x_{45}=13$\n",
        "\n",
        "$x_{11}+x_{21}+x_{31}+x_{41}=40$\n",
        "\n",
        "$x_{12}+x_{22}+x_{32}+x_{42}=6$\n",
        "\n",
        "$x_{13}+x_{23}+x_{33}+x_{43}=8$\n",
        "\n",
        "$x_{14}+x_{24}+x_{34}+x_{44}=18$\n",
        "\n",
        "$x_{15}+x_{25}+x_{35}+x_{45}=6$\n",
        "\n",
        "$x_{ij}>=0$ for all i=1,2,3,4 and j=1,2,3,4,5\n"
      ]
    },
    {
      "cell_type": "code",
      "metadata": {
        "id": "I78zWJ8X_TwP"
      },
      "source": [
        "\n",
        "nvar=20\n",
        "ncons=9\n",
        "cost=np.array([3,4,6,8,9,2,10,1,5,8,7,11,20,40,3,2,1,9,14,16])\n",
        "\n",
        "Coff=np.array([[1,1,1,1,1,0,0,0,0,0,0,0,0,0,0,0,0,0,0,0],\n",
        "               [0,0,0,0,0,1,1,1,1,1,0,0,0,0,0,0,0,0,0,0],\n",
        "               [0,0,0,0,0,0,0,0,0,0,1,1,1,1,1,0,0,0,0,0],\n",
        "               [0,0,0,0,0,0,0,0,0,0,0,0,0,0,0,1,1,1,1,1],\n",
        "               [1,0,0,0,0,1,0,0,0,0,1,0,0,0,0,1,0,0,0,0],\n",
        "               [0,1,0,0,0,0,1,0,0,0,0,1,0,0,0,0,1,0,0,0],\n",
        "               [0,0,1,0,0,0,0,1,0,0,0,0,1,0,0,0,0,1,0,0],\n",
        "               [0,0,0,1,0,0,0,0,1,0,0,0,0,1,0,0,0,0,1,0],\n",
        "               [0,0,0,0,1,0,0,0,0,1,0,0,0,0,1,0,0,0,0,1]])\n",
        "\n",
        "resources=[20,30,15,13,40,6,8,18,6]"
      ],
      "execution_count": null,
      "outputs": []
    },
    {
      "cell_type": "code",
      "metadata": {
        "id": "Q5JynYmN_gED",
        "outputId": "a3873aff-81d3-4c0a-9b70-3160b8f5039d",
        "colab": {
          "base_uri": "https://localhost:8080/",
          "height": 1000
        }
      },
      "source": [
        "#Define th model\n",
        "model=LpProblem(\"LPP\",LpMinimize)\n",
        "\n",
        "#Define the decision variable\n",
        "x = {i: LpVariable(name=f\"x{i}\", lowBound=0) for i in range(1,nvar+1)}\n",
        "\n",
        "# Define The objective\n",
        "model += lpSum(cost[i-1]*x[i] for i in range(1,nvar+1))\n",
        "\n",
        "\n",
        "#Add Constraints\n",
        "\n",
        "for j in range(ncons):\n",
        "  model += lpSum(Coff[j,i-1]*x[i] for i in range(1,nvar+1))==resources[j]\n",
        "\n",
        "#Print model\n",
        "print(model)\n",
        "\n",
        "# Solve the optimization problem\n",
        "status = model.solve()\n",
        "\n",
        "# Get the results\n",
        "print('##############Solution of LPP is #################n\\n')\n",
        "print(f\"status: {model.status}, {LpStatus[model.status]}\")\n",
        "print(f\"objective: {model.objective.value()}\")\n",
        "\n",
        "for var in x.values():\n",
        "  print(f\"{var.name}: {var.value()}\")"
      ],
      "execution_count": null,
      "outputs": [
        {
          "output_type": "stream",
          "text": [
            "LPP:\n",
            "MINIMIZE\n",
            "3*x1 + 8*x10 + 7*x11 + 11*x12 + 20*x13 + 40*x14 + 3*x15 + 2*x16 + 1*x17 + 9*x18 + 14*x19 + 4*x2 + 16*x20 + 6*x3 + 8*x4 + 9*x5 + 2*x6 + 10*x7 + 1*x8 + 5*x9 + 0\n",
            "SUBJECT TO\n",
            "_C1: x1 + x2 + x3 + x4 + x5 = 20\n",
            "\n",
            "_C2: x10 + x6 + x7 + x8 + x9 = 30\n",
            "\n",
            "_C3: x11 + x12 + x13 + x14 + x15 = 15\n",
            "\n",
            "_C4: x16 + x17 + x18 + x19 + x20 = 13\n",
            "\n",
            "_C5: x1 + x11 + x16 + x6 = 40\n",
            "\n",
            "_C6: x12 + x17 + x2 + x7 = 6\n",
            "\n",
            "_C7: x13 + x18 + x3 + x8 = 8\n",
            "\n",
            "_C8: x14 + x19 + x4 + x9 = 18\n",
            "\n",
            "_C9: x10 + x15 + x20 + x5 = 6\n",
            "\n",
            "VARIABLES\n",
            "x1 Continuous\n",
            "x10 Continuous\n",
            "x11 Continuous\n",
            "x12 Continuous\n",
            "x13 Continuous\n",
            "x14 Continuous\n",
            "x15 Continuous\n",
            "x16 Continuous\n",
            "x17 Continuous\n",
            "x18 Continuous\n",
            "x19 Continuous\n",
            "x2 Continuous\n",
            "x20 Continuous\n",
            "x3 Continuous\n",
            "x4 Continuous\n",
            "x5 Continuous\n",
            "x6 Continuous\n",
            "x7 Continuous\n",
            "x8 Continuous\n",
            "x9 Continuous\n",
            "\n",
            "##############Solution of LPP is #################n\n",
            "\n",
            "status: 1, Optimal\n",
            "objective: 267.0\n",
            "x1: 20.0\n",
            "x2: 0.0\n",
            "x3: 0.0\n",
            "x4: 0.0\n",
            "x5: 0.0\n",
            "x6: 4.0\n",
            "x7: 0.0\n",
            "x8: 8.0\n",
            "x9: 18.0\n",
            "x10: 0.0\n",
            "x11: 9.0\n",
            "x12: 0.0\n",
            "x13: 0.0\n",
            "x14: 0.0\n",
            "x15: 6.0\n",
            "x16: 7.0\n",
            "x17: 6.0\n",
            "x18: 0.0\n",
            "x19: 0.0\n",
            "x20: 0.0\n"
          ],
          "name": "stdout"
        }
      ]
    },
    {
      "cell_type": "code",
      "metadata": {
        "id": "V4L4l4m-_kUO"
      },
      "source": [
        ""
      ],
      "execution_count": null,
      "outputs": []
    }
  ]
}