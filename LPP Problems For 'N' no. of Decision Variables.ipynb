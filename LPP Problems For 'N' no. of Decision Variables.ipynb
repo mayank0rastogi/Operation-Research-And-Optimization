{
  "nbformat": 4,
  "nbformat_minor": 0,
  "metadata": {
    "colab": {
      "name": "Mayank Rastogi_81_Lab-5.ipynb",
      "provenance": [],
      "collapsed_sections": []
    },
    "kernelspec": {
      "name": "python3",
      "display_name": "Python 3"
    }
  },
  "cells": [
    {
      "cell_type": "markdown",
      "metadata": {
        "id": "YYadwrdVvVEc",
        "colab_type": "text"
      },
      "source": [
        "# Question No 1"
      ]
    },
    {
      "cell_type": "markdown",
      "metadata": {
        "id": "sPm443wsvVCH",
        "colab_type": "text"
      },
      "source": [
        ""
      ]
    },
    {
      "cell_type": "markdown",
      "metadata": {
        "id": "pipnTMNzvU_i",
        "colab_type": "text"
      },
      "source": [
        " maximize  Z = 3X­1 + 2X2 + 3X3\n",
        "Subject to,\n",
        "\n",
        " 2X­1 + X2 + X3 = 2\n",
        "\n",
        "X­1 + 3X2 + X3 =6\n",
        "\n",
        "3X­1 + 4X2 + 2X3 =8\n",
        "\n",
        "X1 ,X2 , X3 ≥0"
      ]
    },
    {
      "cell_type": "markdown",
      "metadata": {
        "id": "OazPkibzvU9G",
        "colab_type": "text"
      },
      "source": [
        "#LPP MODEL"
      ]
    },
    {
      "cell_type": "markdown",
      "metadata": {
        "id": "sdr7_YB9vU16",
        "colab_type": "text"
      },
      "source": [
        "Maximize $ 3x_{1}+2x_{2}+3x_{3}$\n",
        "\n",
        "Subject To\n",
        "\n",
        "$ 2x_{1}+x_{2}+x_{3}=2$\n",
        "\n",
        "$ x_{1}+3x_{2}+x_{3}=6$\n",
        "\n",
        "$ 3x_{1}+4x_{2}+2x_{3}=8$\n",
        "\n",
        "$ x_{1}>=0$\n",
        "\n",
        "$ x_{2}>=0$\n",
        "\n",
        "$ x_{3}>=0$\n"
      ]
    },
    {
      "cell_type": "markdown",
      "metadata": {
        "id": "vA4_FqkYwHAu",
        "colab_type": "text"
      },
      "source": [
        "#Implementation"
      ]
    },
    {
      "cell_type": "code",
      "metadata": {
        "id": "hPMFLmNtvTX2",
        "colab_type": "code",
        "colab": {
          "base_uri": "https://localhost:8080/",
          "height": 346
        },
        "outputId": "75b8a964-1dac-49fe-a62f-4b78fd9b0835"
      },
      "source": [
        "!pip install pulp"
      ],
      "execution_count": null,
      "outputs": [
        {
          "output_type": "stream",
          "text": [
            "Collecting pulp\n",
            "\u001b[?25l  Downloading https://files.pythonhosted.org/packages/c3/22/5743d7b5d69f84fb63a0b4925862522dbf80e82defcd0c447afb694f3fd0/PuLP-2.3-py3-none-any.whl (40.6MB)\n",
            "\u001b[K     |████████████████████████████████| 40.6MB 116kB/s \n",
            "\u001b[?25hCollecting amply>=0.1.2\n",
            "  Downloading https://files.pythonhosted.org/packages/7f/11/33cb09557ac838d9488779b79e05a2a3c1f3ce9747cd242ba68332736778/amply-0.1.2.tar.gz\n",
            "  Installing build dependencies ... \u001b[?25l\u001b[?25hdone\n",
            "  Getting requirements to build wheel ... \u001b[?25l\u001b[?25hdone\n",
            "    Preparing wheel metadata ... \u001b[?25l\u001b[?25hdone\n",
            "Requirement already satisfied: pyparsing in /usr/local/lib/python3.6/dist-packages (from amply>=0.1.2->pulp) (2.4.7)\n",
            "Requirement already satisfied: docutils>=0.3 in /usr/local/lib/python3.6/dist-packages (from amply>=0.1.2->pulp) (0.15.2)\n",
            "Building wheels for collected packages: amply\n",
            "  Building wheel for amply (PEP 517) ... \u001b[?25l\u001b[?25hdone\n",
            "  Created wheel for amply: filename=amply-0.1.2-cp36-none-any.whl size=16573 sha256=47a570b793a7fb450af6a688d206d33436ac70cd3c037a1ca2f93594316e30b1\n",
            "  Stored in directory: /root/.cache/pip/wheels/84/18/f7/e5c3ed13ed5bb721763f77d4a924331d59ef115ce61c9d26eb\n",
            "Successfully built amply\n",
            "Installing collected packages: amply, pulp\n",
            "Successfully installed amply-0.1.2 pulp-2.3\n"
          ],
          "name": "stdout"
        }
      ]
    },
    {
      "cell_type": "code",
      "metadata": {
        "id": "Pc18WXMmwWZe",
        "colab_type": "code",
        "colab": {}
      },
      "source": [
        "from pulp import *"
      ],
      "execution_count": null,
      "outputs": []
    },
    {
      "cell_type": "code",
      "metadata": {
        "id": "yXFFP1BOweQp",
        "colab_type": "code",
        "colab": {
          "base_uri": "https://localhost:8080/",
          "height": 108
        },
        "outputId": "288692eb-3ac1-48c1-9ec1-acfbedc09649"
      },
      "source": [
        "# Define the model\n",
        "Lp = LpProblem(\"LPP\",LpMaximize)\n",
        "#my_lp_problem = LpProblem(\"My LP Problem\", LpMaximize)\n",
        "# Define the decision variables\n",
        "x = {i: LpVariable(name=f\"x{i}\", lowBound=0) for i in range(1, 4)}\n",
        "\n",
        "# Set the objective\n",
        "Lp += 3 * x[1] + 2 * x[2] + 3 * x[3] \n",
        "\n",
        "# Add constraints\n",
        "#Lp += (lpSum(x.values()) <= 2)\n",
        "Lp += (2 * x[1] + 1 * x[2] + 1* x[3] == 2)\n",
        "Lp += (1 * x[1] + 3 * x[2] +1*  x[3] == 6)\n",
        "Lp += (3 * x[1] + 4 * x[2] +2*  x[3] == 8)\n",
        "#Lp += (x[2] + 2 * x[3] + 3 * x[4] <= 90)\n",
        "\n",
        "\n",
        "\n",
        "# Solve the optimization problem\n",
        "status = Lp.solve()\n",
        "\n",
        "# Get the results\n",
        "print(f\"status: {Lp.status}, {LpStatus[Lp.status]}\")\n",
        "print(f\"objective: {round(Lp.objective.value(),2)}\")\n",
        "\n",
        "for var in x.values():\n",
        "    print(f\"{var.name}: {round(var.value(),2)}\")\n",
        "\n"
      ],
      "execution_count": null,
      "outputs": [
        {
          "output_type": "stream",
          "text": [
            "status: 1, Optimal\n",
            "objective: 4.0\n",
            "x1: -0.0\n",
            "x2: 2.0\n",
            "x3: 0.0\n"
          ],
          "name": "stdout"
        }
      ]
    },
    {
      "cell_type": "markdown",
      "metadata": {
        "id": "bzxFqxz4x6ow",
        "colab_type": "text"
      },
      "source": [
        "#Question 2."
      ]
    },
    {
      "cell_type": "markdown",
      "metadata": {
        "id": "lC8rqhJTx6yP",
        "colab_type": "text"
      },
      "source": [
        "minimize  Z = 3X­1 - 4X2 + 3X3\n",
        "Subject to,\n",
        "\n",
        " 5X­1 + 6X2 + 2X3 ≤ 5\n",
        "\n",
        "-X­1 + 3X2 +5 X3 ≥ 8\n",
        "\n",
        "2X­1 + 5X2 - 4X3 ≤4\n",
        "\n",
        "X1 ,X2 , X3 ≥0"
      ]
    },
    {
      "cell_type": "markdown",
      "metadata": {
        "id": "mjJqnLcsx7E4",
        "colab_type": "text"
      },
      "source": [
        "#LPP Model"
      ]
    },
    {
      "cell_type": "markdown",
      "metadata": {
        "id": "VNl0ldFYyZjv",
        "colab_type": "text"
      },
      "source": [
        "Maximize $ 3x_{1}-4x_{2}+3x_{3}$\n",
        "\n",
        "Subject To\n",
        "\n",
        "$ 5x_{1}+6x_{2}+2x_{3}<=5$\n",
        "\n",
        "$ -x_{1}+3x_{2}+5x_{3}>=8$\n",
        "\n",
        "$ 2x_{1}+5x_{2}-4x_{3}<=4$\n",
        "\n",
        "$ x_{1}>=0$\n",
        "\n",
        "$ x_{2}>=0$\n",
        "\n",
        "$ x_{3}>=0$\n"
      ]
    },
    {
      "cell_type": "markdown",
      "metadata": {
        "id": "wtIHPgb5yZyC",
        "colab_type": "text"
      },
      "source": [
        "#Implementations"
      ]
    },
    {
      "cell_type": "code",
      "metadata": {
        "id": "CMQsf8pwxlIJ",
        "colab_type": "code",
        "colab": {
          "base_uri": "https://localhost:8080/",
          "height": 108
        },
        "outputId": "2a0772ec-89d3-4f03-d02b-a6ca86016dc5"
      },
      "source": [
        "# Define the model\n",
        "Lp = LpProblem(\"LPP\",LpMinimize)\n",
        "#my_lp_problem = LpProblem(\"My LP Problem\", LpMinimize)\n",
        "# Define the decision variables\n",
        "x = {i: LpVariable(name=f\"x{i}\", lowBound=0) for i in range(1, 4)}\n",
        "\n",
        "# Set the objective\n",
        "Lp += 3 * x[1] - 4 * x[2] + 3 * x[3] \n",
        "\n",
        "# Add constraints\n",
        "#Lp += (lpSum(x.values()) <= 2)\n",
        "Lp += (5 * x[1] + 6 * x[2] + 2* x[3] <= 5)\n",
        "Lp += (-1 * x[1] + 3 * x[2] + 5*  x[3] >= 8)\n",
        "Lp += (2 * x[1] + 5 * x[2] - 4*  x[3] <= 4)\n",
        "#Lp += (x[2] + 2 * x[3] + 3 * x[4] <= 90)\n",
        "\n",
        "\n",
        "\n",
        "# Solve the optimization problem\n",
        "status = Lp.solve()\n",
        "\n",
        "# Get the results\n",
        "print(f\"status: {Lp.status}, {LpStatus[Lp.status]}\")\n",
        "print(f\"objective: {round(Lp.objective.value(),2)}\")\n",
        "\n",
        "for var in x.values():\n",
        "    print(f\"{var.name}: {round(var.value(),2)}\")\n",
        "\n"
      ],
      "execution_count": null,
      "outputs": [
        {
          "output_type": "stream",
          "text": [
            "status: 1, Optimal\n",
            "objective: 2.62\n",
            "x1: 0.0\n",
            "x2: 0.38\n",
            "x3: 1.38\n"
          ],
          "name": "stdout"
        }
      ]
    },
    {
      "cell_type": "markdown",
      "metadata": {
        "id": "pP1A6tK80m-0",
        "colab_type": "text"
      },
      "source": [
        "# Question 3."
      ]
    },
    {
      "cell_type": "markdown",
      "metadata": {
        "id": "yudlby-h0nIH",
        "colab_type": "text"
      },
      "source": [
        "maximize  Z = 2X­1 + 4X2 + 4X3  -3X4\n",
        "Subject to,\n",
        "\n",
        " X­1 + X2 + X3 = 4\n",
        "\n",
        "X­1 + 4X2 + X4 =8\n",
        "\n",
        "3X­1 + 4X2 + 2X3 =8\n",
        "\n",
        "X1 ,X2 , X3 , X4 ≥0\n",
        "\n"
      ]
    },
    {
      "cell_type": "markdown",
      "metadata": {
        "id": "t7B1iZVZ0nQ-",
        "colab_type": "text"
      },
      "source": [
        "#LPP Model"
      ]
    },
    {
      "cell_type": "markdown",
      "metadata": {
        "id": "TTCATh920nd7",
        "colab_type": "text"
      },
      "source": [
        "Maximize $ 2x_{1}+4x_{2}+4x_{3}-3x_{4}$\n",
        "\n",
        "Subject To\n",
        "\n",
        "$ x_{1}+x_{2}+x_{3}=4$\n",
        "\n",
        "$ x_{1}+4x_{2}+x_{4}=8$\n",
        "\n",
        "$ 3x_{1}+4x_{2}+2x_{3}=8$\n",
        "\n",
        "$ x_{1}>=0$\n",
        "\n",
        "$ x_{2}>=0$\n",
        "\n",
        "$ x_{3}>=0$\n",
        "\n",
        "$ x_{4}>=0$\n"
      ]
    },
    {
      "cell_type": "markdown",
      "metadata": {
        "id": "sa7kcMrY1syG",
        "colab_type": "text"
      },
      "source": [
        "#Implementation"
      ]
    },
    {
      "cell_type": "code",
      "metadata": {
        "id": "LQOEXX2X0HCp",
        "colab_type": "code",
        "colab": {
          "base_uri": "https://localhost:8080/",
          "height": 126
        },
        "outputId": "8cca9c16-e29d-477e-bb87-be4f2f5a2351"
      },
      "source": [
        "# Define the model\n",
        "Lp = LpProblem(\"LPP\",LpMaximize)\n",
        "#my_lp_problem = LpProblem(\"My LP Problem\", LpMaximize)\n",
        "# Define the decision variables\n",
        "x = {i: LpVariable(name=f\"x{i}\", lowBound=0) for i in range(1, 5)}\n",
        "\n",
        "# Set the objective\n",
        "Lp += 2 * x[1] + 4 * x[2] + 4 * x[3] -3 *x[4]\n",
        "\n",
        "# Add constraints\n",
        "#Lp += (lpSum(x.values()) == 4)\n",
        "Lp += (1 * x[1] + 4 * x[2] + 1* x[4] == 8)\n",
        "Lp += (3 * x[1] + 4 * x[2] + 2 *  x[3] == 8)\n",
        "Lp += (x[1] +  x[2] +  x[3] == 4)\n",
        "\n",
        "\n",
        "\n",
        "# Solve the optimization problem\n",
        "status = Lp.solve()\n",
        "\n",
        "# Get the results\n",
        "print(f\"status: {Lp.status}, {LpStatus[Lp.status]}\")\n",
        "print(f\"objective: {round(Lp.objective.value(),2)}\")\n",
        "\n",
        "for var in x.values():\n",
        "    print(f\"{var.name}: {round(var.value(),2)}\")\n",
        "\n"
      ],
      "execution_count": null,
      "outputs": [
        {
          "output_type": "stream",
          "text": [
            "status: 1, Optimal\n",
            "objective: -8.0\n",
            "x1: 0.0\n",
            "x2: 0.0\n",
            "x3: 4.0\n",
            "x4: 8.0\n"
          ],
          "name": "stdout"
        }
      ]
    },
    {
      "cell_type": "code",
      "metadata": {
        "id": "fYKx6nM53FJV",
        "colab_type": "code",
        "colab": {}
      },
      "source": [
        ""
      ],
      "execution_count": null,
      "outputs": []
    }
  ]
}