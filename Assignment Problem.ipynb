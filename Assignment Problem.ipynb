{
  "nbformat": 4,
  "nbformat_minor": 0,
  "metadata": {
    "colab": {
      "name": "MayankRastogi_81_lab_10.ipynb",
      "provenance": [],
      "collapsed_sections": [
        "JAW0rXsEoaHK",
        "GcY61EvIfadC"
      ],
      "toc_visible": true
    },
    "kernelspec": {
      "name": "python3",
      "display_name": "Python 3"
    }
  },
  "cells": [
    {
      "cell_type": "markdown",
      "metadata": {
        "id": "JAW0rXsEoaHK"
      },
      "source": [
        "##Question 1"
      ]
    },
    {
      "cell_type": "markdown",
      "metadata": {
        "id": "mxYI5aMhALoq"
      },
      "source": [
        "##Statement"
      ]
    },
    {
      "cell_type": "markdown",
      "metadata": {
        "id": "6F3BSlqga805"
      },
      "source": [
        "A computer center has three expert programmers. The center wants three application programs to be developed. The head of the computer center, after studying carefully the programmers to be deployed, estimates the computer time in minutes required by the experts for the application programmers as follows:"
      ]
    },
    {
      "cell_type": "markdown",
      "metadata": {
        "id": "JFkU4y3peI56"
      },
      "source": [
        "## Model"
      ]
    },
    {
      "cell_type": "markdown",
      "metadata": {
        "id": "eiSLMylJbaFt"
      },
      "source": [
        "Minimize\n",
        "$120x_{1} + 100x_{2} + 80x_{3} + 80y_{1} + 90y_{2} + 110y_{3} + 110z_{1} + 140z_{2} + 120z_{3}$\n",
        "\n",
        "SUBJECT TO\n",
        "\n",
        "$x_{1} + x_{2} + x_{3} = 1$\n",
        "\n",
        "$y_{1} + y_{2} + y_{3} = 1$\n",
        "\n",
        "$z_{1} + z_{2} + z_{3} = 1$\n",
        "\n",
        "$x_{1} + y_{1} + z_{1} = 1$\n",
        "\n",
        "$x_{2} + y_{2} + z_{2} = 1$\n",
        "\n",
        "$x_{3} + y_{3} + z_{3} = 1$\n",
        "\n",
        "$1>=x_{1} , x_{2} , x_{3}, y_{1} , y_{2} ,y_{3}, z_{1} , z_{2} , z_{3}>=0$"
      ]
    },
    {
      "cell_type": "code",
      "metadata": {
        "id": "sKSUsWzVreOt",
        "outputId": "a51515c5-4d06-4de3-e1a3-32d0b53bc548",
        "colab": {
          "base_uri": "https://localhost:8080/",
          "height": 188
        }
      },
      "source": [
        "!pip install pulp"
      ],
      "execution_count": null,
      "outputs": [
        {
          "output_type": "stream",
          "text": [
            "Collecting pulp\n",
            "\u001b[?25l  Downloading https://files.pythonhosted.org/packages/89/0c/6d80f5f81a92d1733cc5ca180491b8a3cd5839e335627a0046c81b7d3d3d/PuLP-2.3.1-py3-none-any.whl (40.6MB)\n",
            "\u001b[K     |████████████████████████████████| 40.6MB 102kB/s \n",
            "\u001b[?25hCollecting amply>=0.1.2\n",
            "  Downloading https://files.pythonhosted.org/packages/f3/c5/dfa09dd2595a2ab2ab4e6fa7bebef9565812722e1980d04b0edce5032066/amply-0.1.4-py3-none-any.whl\n",
            "Requirement already satisfied: docutils>=0.3 in /usr/local/lib/python3.6/dist-packages (from amply>=0.1.2->pulp) (0.16)\n",
            "Requirement already satisfied: pyparsing in /usr/local/lib/python3.6/dist-packages (from amply>=0.1.2->pulp) (2.4.7)\n",
            "Installing collected packages: amply, pulp\n",
            "Successfully installed amply-0.1.4 pulp-2.3.1\n"
          ],
          "name": "stdout"
        }
      ]
    },
    {
      "cell_type": "code",
      "metadata": {
        "id": "62kSqMM4rgbB"
      },
      "source": [
        "from pulp import *\n",
        "import numpy as np\n",
        "import pandas as pd"
      ],
      "execution_count": null,
      "outputs": []
    },
    {
      "cell_type": "code",
      "metadata": {
        "id": "92fnFGlvs8TQ",
        "outputId": "ffa2c1a3-0a5f-468c-c49b-c107c6dfd854",
        "colab": {
          "base_uri": "https://localhost:8080/",
          "height": 34
        }
      },
      "source": [
        "%ls"
      ],
      "execution_count": null,
      "outputs": [
        {
          "output_type": "stream",
          "text": [
            "'Q1(data).csv'  'Q2(data).csv'   \u001b[0m\u001b[01;34msample_data\u001b[0m/\n"
          ],
          "name": "stdout"
        }
      ]
    },
    {
      "cell_type": "code",
      "metadata": {
        "id": "SJgCfCPMs_pI"
      },
      "source": [
        "df=pd.read_csv('Q1(data).csv')"
      ],
      "execution_count": null,
      "outputs": []
    },
    {
      "cell_type": "code",
      "metadata": {
        "id": "yRgJcKM-vWV9",
        "outputId": "96b0a2de-4e91-42bd-b62b-5bf275d59dc0",
        "colab": {
          "base_uri": "https://localhost:8080/",
          "height": 136
        }
      },
      "source": [
        "df.head()"
      ],
      "execution_count": null,
      "outputs": [
        {
          "output_type": "execute_result",
          "data": {
            "text/html": [
              "<div>\n",
              "<style scoped>\n",
              "    .dataframe tbody tr th:only-of-type {\n",
              "        vertical-align: middle;\n",
              "    }\n",
              "\n",
              "    .dataframe tbody tr th {\n",
              "        vertical-align: top;\n",
              "    }\n",
              "\n",
              "    .dataframe thead th {\n",
              "        text-align: right;\n",
              "    }\n",
              "</style>\n",
              "<table border=\"1\" class=\"dataframe\">\n",
              "  <thead>\n",
              "    <tr style=\"text-align: right;\">\n",
              "      <th></th>\n",
              "      <th>A1</th>\n",
              "      <th>A2</th>\n",
              "      <th>A3</th>\n",
              "    </tr>\n",
              "  </thead>\n",
              "  <tbody>\n",
              "    <tr>\n",
              "      <th>0</th>\n",
              "      <td>120</td>\n",
              "      <td>100</td>\n",
              "      <td>80</td>\n",
              "    </tr>\n",
              "    <tr>\n",
              "      <th>1</th>\n",
              "      <td>80</td>\n",
              "      <td>90</td>\n",
              "      <td>110</td>\n",
              "    </tr>\n",
              "    <tr>\n",
              "      <th>2</th>\n",
              "      <td>110</td>\n",
              "      <td>140</td>\n",
              "      <td>120</td>\n",
              "    </tr>\n",
              "  </tbody>\n",
              "</table>\n",
              "</div>"
            ],
            "text/plain": [
              "    A1   A2   A3\n",
              "0  120  100   80\n",
              "1   80   90  110\n",
              "2  110  140  120"
            ]
          },
          "metadata": {
            "tags": []
          },
          "execution_count": 5
        }
      ]
    },
    {
      "cell_type": "code",
      "metadata": {
        "id": "1VT6BEXCze88"
      },
      "source": [
        "nvar=9\n",
        "ncons=6\n",
        "cost=np.array([120,100,80,80,90,110,110,140,120])\n",
        "\n",
        "Coff=np.array([[1,1,1,0,0,0,0,0,0],\n",
        "               [0,0,0,1,1,1,0,0,0],\n",
        "               [0,0,0,0,0,0,1,1,1],\n",
        "               [1,0,0,1,0,0,1,0,0],\n",
        "               [0,1,0,0,1,0,0,1,0],\n",
        "               [0,0,1,0,0,1,0,0,1]])\n",
        "   \n",
        "resources=[1,1,1,1,1,1]      "
      ],
      "execution_count": null,
      "outputs": []
    },
    {
      "cell_type": "code",
      "metadata": {
        "id": "Whu5OHCGwCZF",
        "outputId": "bb7f1b35-ee31-4b36-c087-70b30db0c5a9",
        "colab": {
          "base_uri": "https://localhost:8080/",
          "height": 118
        }
      },
      "source": [
        "print(Coff)"
      ],
      "execution_count": null,
      "outputs": [
        {
          "output_type": "stream",
          "text": [
            "[[1 1 1 0 0 0 0 0 0]\n",
            " [0 0 0 1 1 1 0 0 0]\n",
            " [0 0 0 0 0 0 1 1 1]\n",
            " [1 0 0 1 0 0 1 0 0]\n",
            " [0 1 0 0 1 0 0 1 0]\n",
            " [0 0 1 0 0 1 0 0 1]]\n"
          ],
          "name": "stdout"
        }
      ]
    },
    {
      "cell_type": "code",
      "metadata": {
        "id": "o_tDpJtyvx_G",
        "outputId": "b5e30e25-c676-4ebc-f743-4a011feeb239",
        "colab": {
          "base_uri": "https://localhost:8080/",
          "height": 689
        }
      },
      "source": [
        "#Define th model\n",
        "model=LpProblem(\"LPP\",LpMinimize)\n",
        "\n",
        "#Define the decision variable\n",
        "x = {i: LpVariable(name=f\"x{i}\", lowBound=0 , cat='Integer') for i in range(1,nvar+1)}\n",
        "\n",
        "# Define The objective\n",
        "model += lpSum(cost[i-1]*x[i] for i in range(1,nvar+1))\n",
        "\n",
        "\n",
        "#Add Constraints\n",
        "\n",
        "for j in range(ncons):\n",
        "  model += lpSum(Coff[j,i-1]*x[i] for i in range(1,nvar+1))==resources[j]\n",
        "\n",
        "#Print model\n",
        "print(model)\n",
        "\n",
        "# Solve the optimization problem\n",
        "status = model.solve()\n",
        "\n",
        "# Get the results\n",
        "print('##############Solution of LPP is #################n\\n')\n",
        "print(f\"status: {model.status}, {LpStatus[model.status]}\")\n",
        "print(f\"objective: {model.objective.value()}\")\n",
        "\n",
        "for var in x.values():\n",
        "  print(f\"{var.name}: {var.value()}\")"
      ],
      "execution_count": null,
      "outputs": [
        {
          "output_type": "stream",
          "text": [
            "LPP:\n",
            "MINIMIZE\n",
            "120*x1 + 100*x2 + 80*x3 + 80*x4 + 90*x5 + 110*x6 + 110*x7 + 140*x8 + 120*x9 + 0\n",
            "SUBJECT TO\n",
            "_C1: x1 + x2 + x3 = 1\n",
            "\n",
            "_C2: x4 + x5 + x6 = 1\n",
            "\n",
            "_C3: x7 + x8 + x9 = 1\n",
            "\n",
            "_C4: x1 + x4 + x7 = 1\n",
            "\n",
            "_C5: x2 + x5 + x8 = 1\n",
            "\n",
            "_C6: x3 + x6 + x9 = 1\n",
            "\n",
            "VARIABLES\n",
            "0 <= x1 Integer\n",
            "0 <= x2 Integer\n",
            "0 <= x3 Integer\n",
            "0 <= x4 Integer\n",
            "0 <= x5 Integer\n",
            "0 <= x6 Integer\n",
            "0 <= x7 Integer\n",
            "0 <= x8 Integer\n",
            "0 <= x9 Integer\n",
            "\n",
            "##############Solution of LPP is #################n\n",
            "\n",
            "status: 1, Optimal\n",
            "objective: 280.0\n",
            "x1: 0.0\n",
            "x2: 0.0\n",
            "x3: 1.0\n",
            "x4: 0.0\n",
            "x5: 1.0\n",
            "x6: 0.0\n",
            "x7: 1.0\n",
            "x8: 0.0\n",
            "x9: 0.0\n"
          ],
          "name": "stdout"
        }
      ]
    },
    {
      "cell_type": "code",
      "metadata": {
        "id": "xfdx12p-LQ_3",
        "outputId": "828a36e0-35c9-4778-9698-2d5b69405b54",
        "colab": {
          "base_uri": "https://localhost:8080/",
          "height": 50
        }
      },
      "source": [
        "status = model.solve()\n",
        "print(f\"status: {model.status}, {LpStatus[model.status]}\")\n",
        "print(f\"objective: {model.objective.value()}\")"
      ],
      "execution_count": null,
      "outputs": [
        {
          "output_type": "stream",
          "text": [
            "status: 1, Optimal\n",
            "objective: 280.0\n"
          ],
          "name": "stdout"
        }
      ]
    },
    {
      "cell_type": "code",
      "metadata": {
        "id": "pu2T8V3Me9d8",
        "outputId": "cd86264a-605b-4aa3-a023-8dcc2e0642b1",
        "colab": {
          "base_uri": "https://localhost:8080/",
          "height": 336
        }
      },
      "source": [
        "for var in x.values():\n",
        "    print(f\"{var.name}: {var.value()}\")\n",
        "\n",
        "for var in y.values():\n",
        "    print(f\"{var.name}: {var.value()}\")\n",
        "\n",
        "for var in z.values():\n",
        "    print(f\"{var.name}: {var.value()}\")"
      ],
      "execution_count": null,
      "outputs": [
        {
          "output_type": "stream",
          "text": [
            "x1: 0.0\n",
            "x2: 0.0\n",
            "x3: 1.0\n",
            "x4: 0.0\n",
            "x5: 1.0\n",
            "x6: 0.0\n",
            "x7: 1.0\n",
            "x8: 0.0\n",
            "x9: 0.0\n",
            "y1: 1.0\n",
            "y2: 1.0\n",
            "y3: 0.0\n",
            "y4: 1.0\n",
            "y5: 0.0\n",
            "z1: 0.0\n",
            "z2: 0.0\n",
            "z3: 0.0\n",
            "z4: 0.0\n",
            "z5: 0.0\n"
          ],
          "name": "stdout"
        }
      ]
    },
    {
      "cell_type": "markdown",
      "metadata": {
        "id": "GcY61EvIfadC"
      },
      "source": [
        "##Question 2"
      ]
    },
    {
      "cell_type": "markdown",
      "metadata": {
        "id": "2ROnvUpQflxU"
      },
      "source": [
        "##Statement"
      ]
    },
    {
      "cell_type": "markdown",
      "metadata": {
        "id": "AT8UoeVz1HaB"
      },
      "source": [
        "A department has five employees with five jobs to be performed. The time (in hours) each men will take to perform each job is given in the effectiveness matrix"
      ]
    },
    {
      "cell_type": "markdown",
      "metadata": {
        "id": "TYoWCXBnfpbo"
      },
      "source": [
        "## Model"
      ]
    },
    {
      "cell_type": "markdown",
      "metadata": {
        "id": "ETVX8tYlfxMJ"
      },
      "source": [
        "Minimize\n",
        "$7u_{1} + 9u_{2} + 10u_{3} + 4u_{4} + 12u_{5} + 7w_{1} + 11w_{2} + 9w_{3} + 7w_{4} + 12w_{5} + 10x_{1} + 5x_{2} + 13x_{3} + 15x_{4} + 16x_{5} + 3y_{1} + 9y_{2} + 18y_{3} + 13y_{4} + 6y_{5} + 10z_{1} + 7z_{2} + 2z_{3} + 2z_{4} + 2z_{5}$\n",
        "\n",
        "SUBJECT TO\n",
        "\n",
        "$x_{1} + x_{2} + x_{3} + x_{4} + x_{5} = 1$\n",
        "\n",
        "$y_{1} + y_{2} + y_{3} + y_{4} + y_{5} = 1$\n",
        "\n",
        "$z_{1} + z_{2} + z_{3} + z_{4} + z_{5} = 1$\n",
        "\n",
        "$w_{1} + w_{2} + w_{3} + w_{4} + w_{5} = 1$\n",
        "\n",
        "$u_{1} + u_{2} + u_{3} + u_{4} + u_{5} = 1$\n",
        "\n",
        "$u_{1} + w_{1} + x_{1} + y_{1} + z_{1} = 1$\n",
        "\n",
        "$u_{2} + w_{2} + x_{2} + y_{2} + z_{2} = 1$\n",
        "\n",
        "$u_{3} + w_{3} + x_{3} + y_{3} + z_{3} = 1$\n",
        "\n",
        "$u_{4} + w_{4} + x_{4} + y_{4} + z_{4} = 1$\n",
        "\n",
        "$u_{5} + w_{5} + x_{5} + y_{5} + z_{5} = 1$\n",
        "\n",
        "$1>=x_{1},x_{2}, x_{3} , x_{4}  ,x_{5}, y_{1} , y_{2} , y_{3} , y_{4} , y_{5}, z_{1} , z_{2} , z_{3} , z_{4} , z_{5}, w_{1} , w_{2} , w_{3} , w_{4} , w_{5}, u_{1} , u_{2} , u_{3} , u_{4} , u_{5}>=0$\n"
      ]
    },
    {
      "cell_type": "code",
      "metadata": {
        "id": "sEWzncUEPMrv",
        "outputId": "bd6479df-9e3c-4b6e-ef73-0e490f8b82f3",
        "colab": {
          "base_uri": "https://localhost:8080/",
          "height": 34
        }
      },
      "source": [
        "%ls"
      ],
      "execution_count": null,
      "outputs": [
        {
          "output_type": "stream",
          "text": [
            "'Q1(data).csv'  'Q2(data).csv'   \u001b[0m\u001b[01;34msample_data\u001b[0m/\n"
          ],
          "name": "stdout"
        }
      ]
    },
    {
      "cell_type": "code",
      "metadata": {
        "id": "y5815ua7gr2Y"
      },
      "source": [
        "df=pd.read_csv('Q2(data).csv')"
      ],
      "execution_count": null,
      "outputs": []
    },
    {
      "cell_type": "code",
      "metadata": {
        "id": "MNVnpueGgxPG",
        "outputId": "0bf87573-a12e-4348-95c8-0758331692c4",
        "colab": {
          "base_uri": "https://localhost:8080/",
          "height": 195
        }
      },
      "source": [
        "df.head()"
      ],
      "execution_count": null,
      "outputs": [
        {
          "output_type": "execute_result",
          "data": {
            "text/html": [
              "<div>\n",
              "<style scoped>\n",
              "    .dataframe tbody tr th:only-of-type {\n",
              "        vertical-align: middle;\n",
              "    }\n",
              "\n",
              "    .dataframe tbody tr th {\n",
              "        vertical-align: top;\n",
              "    }\n",
              "\n",
              "    .dataframe thead th {\n",
              "        text-align: right;\n",
              "    }\n",
              "</style>\n",
              "<table border=\"1\" class=\"dataframe\">\n",
              "  <thead>\n",
              "    <tr style=\"text-align: right;\">\n",
              "      <th></th>\n",
              "      <th>A1</th>\n",
              "      <th>A2</th>\n",
              "      <th>A3</th>\n",
              "      <th>A4</th>\n",
              "      <th>A5</th>\n",
              "    </tr>\n",
              "  </thead>\n",
              "  <tbody>\n",
              "    <tr>\n",
              "      <th>0</th>\n",
              "      <td>10</td>\n",
              "      <td>5</td>\n",
              "      <td>13</td>\n",
              "      <td>15</td>\n",
              "      <td>16</td>\n",
              "    </tr>\n",
              "    <tr>\n",
              "      <th>1</th>\n",
              "      <td>3</td>\n",
              "      <td>9</td>\n",
              "      <td>18</td>\n",
              "      <td>13</td>\n",
              "      <td>6</td>\n",
              "    </tr>\n",
              "    <tr>\n",
              "      <th>2</th>\n",
              "      <td>10</td>\n",
              "      <td>7</td>\n",
              "      <td>2</td>\n",
              "      <td>2</td>\n",
              "      <td>2</td>\n",
              "    </tr>\n",
              "    <tr>\n",
              "      <th>3</th>\n",
              "      <td>7</td>\n",
              "      <td>11</td>\n",
              "      <td>9</td>\n",
              "      <td>7</td>\n",
              "      <td>12</td>\n",
              "    </tr>\n",
              "    <tr>\n",
              "      <th>4</th>\n",
              "      <td>7</td>\n",
              "      <td>9</td>\n",
              "      <td>10</td>\n",
              "      <td>4</td>\n",
              "      <td>12</td>\n",
              "    </tr>\n",
              "  </tbody>\n",
              "</table>\n",
              "</div>"
            ],
            "text/plain": [
              "   A1  A2  A3  A4  A5\n",
              "0  10   5  13  15  16\n",
              "1   3   9  18  13   6\n",
              "2  10   7   2   2   2\n",
              "3   7  11   9   7  12\n",
              "4   7   9  10   4  12"
            ]
          },
          "metadata": {
            "tags": []
          },
          "execution_count": 39
        }
      ]
    },
    {
      "cell_type": "code",
      "metadata": {
        "id": "Qm8suk2ehPGn"
      },
      "source": [
        "\n",
        "nvar=25\n",
        "ncons=10\n",
        "cost=np.array([10,5,13,15,16,3,9,18,13,6,10,7,2,2,2,7,11,9,7,12,7,9,10,4,12])\n",
        "\n",
        "Coff=np.array([[1,1,1,1,1,0,0,0,0,0,0,0,0,0,0,0,0,0,0,0,0,0,0,0,0],\n",
        "               [0,0,0,0,0,1,1,1,1,1,0,0,0,0,0,0,0,0,0,0,0,0,0,0,0],\n",
        "               [0,0,0,0,0,0,0,0,0,0,1,1,1,1,1,0,0,0,0,0,0,0,0,0,0],\n",
        "               [0,0,0,0,0,0,0,0,0,0,0,0,0,0,0,1,1,1,1,1,0,0,0,0,0],\n",
        "               [0,0,0,0,0,0,0,0,0,0,0,0,0,0,0,0,0,0,0,0,1,1,1,1,1],\n",
        "               [1,0,0,0,0,1,0,0,0,0,1,0,0,0,0,1,0,0,0,0,1,0,0,0,0],\n",
        "               [0,1,0,0,0,0,1,0,0,0,0,1,0,0,0,0,1,0,0,0,0,1,0,0,0],\n",
        "               [0,0,1,0,0,0,0,1,0,0,0,0,1,0,0,0,0,1,0,0,0,0,1,0,0],\n",
        "               [0,0,0,1,0,0,0,0,1,0,0,0,0,1,0,0,0,0,1,0,0,0,0,1,0],\n",
        "               [0,0,0,0,1,0,0,0,0,1,0,0,0,0,1,0,0,0,0,1,0,0,0,0,1]])\n",
        "\n",
        "resources=[1,1,1,1,1,1,1,1,1,1]\n",
        "        "
      ],
      "execution_count": null,
      "outputs": []
    },
    {
      "cell_type": "code",
      "metadata": {
        "id": "igfzG0BThR8G",
        "outputId": "6e342949-30f7-4bbf-ff37-99db70afa530",
        "colab": {
          "base_uri": "https://localhost:8080/",
          "height": 185
        }
      },
      "source": [
        "print(Coff)"
      ],
      "execution_count": null,
      "outputs": [
        {
          "output_type": "stream",
          "text": [
            "[[1 1 1 1 1 0 0 0 0 0 0 0 0 0 0 0 0 0 0 0 0 0 0 0 0]\n",
            " [0 0 0 0 0 1 1 1 1 1 0 0 0 0 0 0 0 0 0 0 0 0 0 0 0]\n",
            " [0 0 0 0 0 0 0 0 0 0 1 1 1 1 1 0 0 0 0 0 0 0 0 0 0]\n",
            " [0 0 0 0 0 0 0 0 0 0 0 0 0 0 0 1 1 1 1 1 0 0 0 0 0]\n",
            " [0 0 0 0 0 0 0 0 0 0 0 0 0 0 0 0 0 0 0 0 1 1 1 1 1]\n",
            " [1 0 0 0 0 1 0 0 0 0 1 0 0 0 0 1 0 0 0 0 1 0 0 0 0]\n",
            " [0 1 0 0 0 0 1 0 0 0 0 1 0 0 0 0 1 0 0 0 0 1 0 0 0]\n",
            " [0 0 1 0 0 0 0 1 0 0 0 0 1 0 0 0 0 1 0 0 0 0 1 0 0]\n",
            " [0 0 0 1 0 0 0 0 1 0 0 0 0 1 0 0 0 0 1 0 0 0 0 1 0]\n",
            " [0 0 0 0 1 0 0 0 0 1 0 0 0 0 1 0 0 0 0 1 0 0 0 0 1]]\n"
          ],
          "name": "stdout"
        }
      ]
    },
    {
      "cell_type": "code",
      "metadata": {
        "id": "72UDAdQ6hU09",
        "outputId": "4bb0d4b4-4a53-4475-f832-b0edf22b3de7",
        "colab": {
          "base_uri": "https://localhost:8080/",
          "height": 1000
        }
      },
      "source": [
        "#Define th model\n",
        "model=LpProblem(\"LPP\",LpMinimize)\n",
        "\n",
        "#Define the decision variable\n",
        "x = {i: LpVariable(name=f\"x{i}\", lowBound=0 , cat='Integer') for i in range(1,nvar+1)}\n",
        "\n",
        "# Define The objective\n",
        "model += lpSum(cost[i-1]*x[i] for i in range(1,nvar+1))\n",
        "\n",
        "\n",
        "#Add Constraints\n",
        "\n",
        "for j in range(ncons):\n",
        "  model += lpSum(Coff[j,i-1]*x[i] for i in range(1,nvar+1))==resources[j]\n",
        "\n",
        "#Print model\n",
        "print(model)\n",
        "\n",
        "# Solve the optimization problem\n",
        "status = model.solve()\n",
        "\n",
        "# Get the results\n",
        "print('##############Solution of LPP is #################n\\n')\n",
        "print(f\"status: {model.status}, {LpStatus[model.status]}\")\n",
        "print(f\"objective: {model.objective.value()}\")\n",
        "\n",
        "for var in x.values():\n",
        "  print(f\"{var.name}: {var.value()}\")"
      ],
      "execution_count": null,
      "outputs": [
        {
          "output_type": "stream",
          "text": [
            "LPP:\n",
            "MINIMIZE\n",
            "10*x1 + 6*x10 + 10*x11 + 7*x12 + 2*x13 + 2*x14 + 2*x15 + 7*x16 + 11*x17 + 9*x18 + 7*x19 + 5*x2 + 12*x20 + 7*x21 + 9*x22 + 10*x23 + 4*x24 + 12*x25 + 13*x3 + 15*x4 + 16*x5 + 3*x6 + 9*x7 + 18*x8 + 13*x9 + 0\n",
            "SUBJECT TO\n",
            "_C1: x1 + x2 + x3 + x4 + x5 = 1\n",
            "\n",
            "_C2: x10 + x6 + x7 + x8 + x9 = 1\n",
            "\n",
            "_C3: x11 + x12 + x13 + x14 + x15 = 1\n",
            "\n",
            "_C4: x16 + x17 + x18 + x19 + x20 = 1\n",
            "\n",
            "_C5: x21 + x22 + x23 + x24 + x25 = 1\n",
            "\n",
            "_C6: x1 + x11 + x16 + x21 + x6 = 1\n",
            "\n",
            "_C7: x12 + x17 + x2 + x22 + x7 = 1\n",
            "\n",
            "_C8: x13 + x18 + x23 + x3 + x8 = 1\n",
            "\n",
            "_C9: x14 + x19 + x24 + x4 + x9 = 1\n",
            "\n",
            "_C10: x10 + x15 + x20 + x25 + x5 = 1\n",
            "\n",
            "VARIABLES\n",
            "0 <= x1 Integer\n",
            "0 <= x10 Integer\n",
            "0 <= x11 Integer\n",
            "0 <= x12 Integer\n",
            "0 <= x13 Integer\n",
            "0 <= x14 Integer\n",
            "0 <= x15 Integer\n",
            "0 <= x16 Integer\n",
            "0 <= x17 Integer\n",
            "0 <= x18 Integer\n",
            "0 <= x19 Integer\n",
            "0 <= x2 Integer\n",
            "0 <= x20 Integer\n",
            "0 <= x21 Integer\n",
            "0 <= x22 Integer\n",
            "0 <= x23 Integer\n",
            "0 <= x24 Integer\n",
            "0 <= x25 Integer\n",
            "0 <= x3 Integer\n",
            "0 <= x4 Integer\n",
            "0 <= x5 Integer\n",
            "0 <= x6 Integer\n",
            "0 <= x7 Integer\n",
            "0 <= x8 Integer\n",
            "0 <= x9 Integer\n",
            "\n",
            "##############Solution of LPP is #################n\n",
            "\n",
            "status: 1, Optimal\n",
            "objective: 23.0\n",
            "x1: 0.0\n",
            "x2: 1.0\n",
            "x3: 0.0\n",
            "x4: 0.0\n",
            "x5: 0.0\n",
            "x6: 1.0\n",
            "x7: 0.0\n",
            "x8: 0.0\n",
            "x9: 0.0\n",
            "x10: 0.0\n",
            "x11: 0.0\n",
            "x12: 0.0\n",
            "x13: 0.0\n",
            "x14: 0.0\n",
            "x15: 1.0\n",
            "x16: 0.0\n",
            "x17: 0.0\n",
            "x18: 1.0\n",
            "x19: 0.0\n",
            "x20: 0.0\n",
            "x21: 0.0\n",
            "x22: 0.0\n",
            "x23: 0.0\n",
            "x24: 1.0\n",
            "x25: 0.0\n"
          ],
          "name": "stdout"
        }
      ]
    },
    {
      "cell_type": "code",
      "metadata": {
        "id": "5fzbs5Krhxko",
        "outputId": "608a86bd-2c33-4031-faba-93e5bf0750e2",
        "colab": {
          "base_uri": "https://localhost:8080/",
          "height": 50
        }
      },
      "source": [
        "status = model.solve()\n",
        "print(f\"status: {model.status}, {LpStatus[model.status]}\")\n",
        "print(f\"objective: {model.objective.value()}\")"
      ],
      "execution_count": null,
      "outputs": [
        {
          "output_type": "stream",
          "text": [
            "status: 1, Optimal\n",
            "objective: 23.0\n"
          ],
          "name": "stdout"
        }
      ]
    },
    {
      "cell_type": "code",
      "metadata": {
        "id": "p0K6miMQh1Dc",
        "outputId": "9b05816c-6c25-4462-d84f-2194f6467778",
        "colab": {
          "base_uri": "https://localhost:8080/",
          "height": 773
        }
      },
      "source": [
        "for var in x.values():\n",
        "    print(f\"{var.name}: {var.value()}\")\n",
        "\n",
        "for var in y.values():\n",
        "    print(f\"{var.name}: {var.value()}\")\n",
        "\n",
        "for var in z.values():\n",
        "    print(f\"{var.name}: {var.value()}\")\n",
        "for var in p.values():\n",
        "    print(f\"{var.name}: {var.value()}\")\n",
        "for var in q.values():\n",
        "    print(f\"{var.name}: {var.value()}\")        "
      ],
      "execution_count": null,
      "outputs": [
        {
          "output_type": "stream",
          "text": [
            "x1: 0.0\n",
            "x2: 1.0\n",
            "x3: 0.0\n",
            "x4: 0.0\n",
            "x5: 0.0\n",
            "x6: 1.0\n",
            "x7: 0.0\n",
            "x8: 0.0\n",
            "x9: 0.0\n",
            "x10: 0.0\n",
            "x11: 0.0\n",
            "x12: 0.0\n",
            "x13: 0.0\n",
            "x14: 0.0\n",
            "x15: 1.0\n",
            "x16: 0.0\n",
            "x17: 0.0\n",
            "x18: 1.0\n",
            "x19: 0.0\n",
            "x20: 0.0\n",
            "x21: 0.0\n",
            "x22: 0.0\n",
            "x23: 0.0\n",
            "x24: 1.0\n",
            "x25: 0.0\n",
            "y1: 0.0\n",
            "y2: 0.0\n",
            "y3: 0.0\n",
            "y4: 0.0\n",
            "y5: 0.0\n",
            "z1: 1.0\n",
            "z2: 0.0\n",
            "z3: 0.0\n",
            "z4: 1.0\n",
            "z5: 1.0\n",
            "p1: 0.0\n",
            "p2: 0.0\n",
            "p3: 0.0\n",
            "p4: 0.0\n",
            "p5: 0.0\n",
            "q1: 0.0\n",
            "q2: 0.0\n",
            "q3: 1.0\n",
            "q4: 0.0\n",
            "q5: 0.0\n"
          ],
          "name": "stdout"
        }
      ]
    },
    {
      "cell_type": "code",
      "metadata": {
        "id": "sdGVn2ZDHoIc"
      },
      "source": [
        ""
      ],
      "execution_count": null,
      "outputs": []
    }
  ]
}