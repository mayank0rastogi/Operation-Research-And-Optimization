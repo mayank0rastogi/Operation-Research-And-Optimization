{
  "nbformat": 4,
  "nbformat_minor": 0,
  "metadata": {
    "colab": {
      "name": "Mayank Rastogi_81_lab3.ipynb",
      "provenance": [],
      "collapsed_sections": [],
      "toc_visible": true
    },
    "kernelspec": {
      "name": "python3",
      "display_name": "Python 3"
    }
  },
  "cells": [
    {
      "cell_type": "markdown",
      "metadata": {
        "id": "RBf1IgPZeItP",
        "colab_type": "text"
      },
      "source": [
        "# Question No 1"
      ]
    },
    {
      "cell_type": "markdown",
      "metadata": {
        "id": "h6deFmjBeI1S",
        "colab_type": "text"
      },
      "source": [
        "An electric appliance company produces two products: refrigerators and ranges. Production takes place in two separate departments I and II. Refrigerators are produced in department I and ranges in department II. The company's two products are sold on a weekly basis. the weekly production cannot exceed 25 refrigerators and 35 ranges. the company regularly employs a total of 60 workers in the two departments. A refrigerator requires 2 man-weeks labour while a range requires 1 man-week labour. A refrigerator contributes a profit of Rs. 60 and range contributes a profit of Rs. 40. how many units of refrigerators and ranges should the company produce to realize the maximum profit?"
      ]
    },
    {
      "cell_type": "markdown",
      "metadata": {
        "id": "JFkU4y3peI56",
        "colab_type": "text"
      },
      "source": [
        "## LPP Model"
      ]
    },
    {
      "cell_type": "markdown",
      "metadata": {
        "id": "a1-VVCAVeI9V",
        "colab_type": "text"
      },
      "source": [
        "Maximize $ 60x_{1}+40x_{2}$\n",
        "\n",
        "Subject To\n",
        "\n",
        "$ 2x_{1}+x_{2}<=60$\n",
        "\n",
        "$ x_{1}<=25$\n",
        "\n",
        "$ x_{2}<=35$\n",
        "\n",
        "\n",
        "$ x_{1}>=0$\n",
        "\n",
        "$ x_{2}>=0$\n"
      ]
    },
    {
      "cell_type": "markdown",
      "metadata": {
        "id": "TeNUKug-e527",
        "colab_type": "text"
      },
      "source": [
        "#Implementation"
      ]
    },
    {
      "cell_type": "code",
      "metadata": {
        "id": "t_L3jrwHfJM6",
        "colab_type": "code",
        "colab": {
          "base_uri": "https://localhost:8080/",
          "height": 322
        },
        "outputId": "33d45a16-26fa-499f-fd0a-8cce2892881b"
      },
      "source": [
        "!pip install pulp"
      ],
      "execution_count": null,
      "outputs": [
        {
          "output_type": "stream",
          "text": [
            "Collecting pulp\n",
            "\u001b[?25l  Downloading https://files.pythonhosted.org/packages/c3/22/5743d7b5d69f84fb63a0b4925862522dbf80e82defcd0c447afb694f3fd0/PuLP-2.3-py3-none-any.whl (40.6MB)\n",
            "\u001b[K     |████████████████████████████████| 40.6MB 99kB/s \n",
            "\u001b[?25hCollecting amply>=0.1.2\n",
            "  Downloading https://files.pythonhosted.org/packages/7f/11/33cb09557ac838d9488779b79e05a2a3c1f3ce9747cd242ba68332736778/amply-0.1.2.tar.gz\n",
            "  Installing build dependencies ... \u001b[?25l\u001b[?25hdone\n",
            "  Getting requirements to build wheel ... \u001b[?25l\u001b[?25hdone\n",
            "    Preparing wheel metadata ... \u001b[?25l\u001b[?25hdone\n",
            "Requirement already satisfied: docutils>=0.3 in /usr/local/lib/python3.6/dist-packages (from amply>=0.1.2->pulp) (0.15.2)\n",
            "Requirement already satisfied: pyparsing in /usr/local/lib/python3.6/dist-packages (from amply>=0.1.2->pulp) (2.4.7)\n",
            "Building wheels for collected packages: amply\n",
            "  Building wheel for amply (PEP 517) ... \u001b[?25l\u001b[?25hdone\n",
            "  Created wheel for amply: filename=amply-0.1.2-cp36-none-any.whl size=16573 sha256=2a9f3ace9d8311c31dea01085cd430576aa1bbf0658cef51a8d2a88d6751cda5\n",
            "  Stored in directory: /root/.cache/pip/wheels/84/18/f7/e5c3ed13ed5bb721763f77d4a924331d59ef115ce61c9d26eb\n",
            "Successfully built amply\n",
            "Installing collected packages: amply, pulp\n",
            "Successfully installed amply-0.1.2 pulp-2.3\n"
          ],
          "name": "stdout"
        }
      ]
    },
    {
      "cell_type": "code",
      "metadata": {
        "id": "NN1m_Wi4fND2",
        "colab_type": "code",
        "colab": {}
      },
      "source": [
        "from pulp import *"
      ],
      "execution_count": null,
      "outputs": []
    },
    {
      "cell_type": "code",
      "metadata": {
        "id": "-d93jTv0fSbv",
        "colab_type": "code",
        "colab": {
          "base_uri": "https://localhost:8080/",
          "height": 50
        },
        "outputId": "0539100b-6315-4148-e4a9-4304e666ae4d"
      },
      "source": [
        "#creating the object of Linear Programming  using pulp\n",
        "lp=LpProblem('LP Problem ',LpMaximize)"
      ],
      "execution_count": null,
      "outputs": [
        {
          "output_type": "stream",
          "text": [
            "/usr/local/lib/python3.6/dist-packages/pulp/pulp.py:1195: UserWarning: Spaces are not permitted in the name. Converted to '_'\n",
            "  warnings.warn(\"Spaces are not permitted in the name. Converted to '_'\")\n"
          ],
          "name": "stderr"
        }
      ]
    },
    {
      "cell_type": "code",
      "metadata": {
        "id": "rchirVVzfWFA",
        "colab_type": "code",
        "colab": {}
      },
      "source": [
        "x1 = LpVariable(\"x1\",0)\n",
        "x2=LpVariable(\"x2\",0)\n"
      ],
      "execution_count": null,
      "outputs": []
    },
    {
      "cell_type": "code",
      "metadata": {
        "id": "YHo9aVLmfY_o",
        "colab_type": "code",
        "colab": {}
      },
      "source": [
        "\n",
        "#now creating objective and constraints\n",
        "lp +=60*x1 + 40*x2,\"z\"\n",
        "#constraints\n",
        "lp+=x1<=25\n",
        "lp+=x2<=35\n",
        "lp+=2*x1+x2<=60\n",
        "lp+=x1>=0\n",
        "lp+=x2>=0\n",
        "\n"
      ],
      "execution_count": null,
      "outputs": []
    },
    {
      "cell_type": "code",
      "metadata": {
        "id": "7s7A-0hjf0G7",
        "colab_type": "code",
        "colab": {
          "base_uri": "https://localhost:8080/",
          "height": 302
        },
        "outputId": "b5035cc9-b490-489d-b862-60464d7299f2"
      },
      "source": [
        "lp"
      ],
      "execution_count": null,
      "outputs": [
        {
          "output_type": "execute_result",
          "data": {
            "text/plain": [
              "LP_Problem_:\n",
              "MAXIMIZE\n",
              "60*x1 + 40*x2 + 0\n",
              "SUBJECT TO\n",
              "_C1: x1 <= 25\n",
              "\n",
              "_C2: x2 <= 35\n",
              "\n",
              "_C3: 2 x1 + x2 <= 60\n",
              "\n",
              "_C4: x1 >= 0\n",
              "\n",
              "_C5: x2 >= 0\n",
              "\n",
              "VARIABLES\n",
              "x1 Continuous\n",
              "x2 Continuous"
            ]
          },
          "metadata": {
            "tags": []
          },
          "execution_count": 6
        }
      ]
    },
    {
      "cell_type": "code",
      "metadata": {
        "id": "_9rN6Ogtf6z2",
        "colab_type": "code",
        "colab": {
          "base_uri": "https://localhost:8080/",
          "height": 34
        },
        "outputId": "a3c4a0a5-ca01-472c-fcc3-8054cc2639fe"
      },
      "source": [
        "lp.solve()"
      ],
      "execution_count": null,
      "outputs": [
        {
          "output_type": "execute_result",
          "data": {
            "text/plain": [
              "1"
            ]
          },
          "metadata": {
            "tags": []
          },
          "execution_count": 7
        }
      ]
    },
    {
      "cell_type": "code",
      "metadata": {
        "id": "ceCoPsKfgAUF",
        "colab_type": "code",
        "colab": {}
      },
      "source": [
        "status=lp.solve()"
      ],
      "execution_count": null,
      "outputs": []
    },
    {
      "cell_type": "code",
      "metadata": {
        "id": "9UK6RzfzgDDa",
        "colab_type": "code",
        "colab": {
          "base_uri": "https://localhost:8080/",
          "height": 35
        },
        "outputId": "b8e802b9-7183-4069-f85c-b04757a22c05"
      },
      "source": [
        "LpStatus[status]"
      ],
      "execution_count": null,
      "outputs": [
        {
          "output_type": "execute_result",
          "data": {
            "application/vnd.google.colaboratory.intrinsic+json": {
              "type": "string"
            },
            "text/plain": [
              "'Optimal'"
            ]
          },
          "metadata": {
            "tags": []
          },
          "execution_count": 9
        }
      ]
    },
    {
      "cell_type": "code",
      "metadata": {
        "id": "AO4bJAjMgGZF",
        "colab_type": "code",
        "colab": {
          "base_uri": "https://localhost:8080/",
          "height": 50
        },
        "outputId": "b69d32ca-7c15-48b2-a053-c75f9d8dd59e"
      },
      "source": [
        "#to access all decision variable values\n",
        "for variable in lp.variables():\n",
        "  print('{} = {}'.format(variable.name,variable.varValue))\n",
        " "
      ],
      "execution_count": null,
      "outputs": [
        {
          "output_type": "stream",
          "text": [
            "x1 = 12.5\n",
            "x2 = 35.0\n"
          ],
          "name": "stdout"
        }
      ]
    },
    {
      "cell_type": "code",
      "metadata": {
        "id": "L6FGBBM3gKfa",
        "colab_type": "code",
        "colab": {
          "base_uri": "https://localhost:8080/",
          "height": 34
        },
        "outputId": "4fc725d5-08c5-4fea-de4c-9cdcdac99ef9"
      },
      "source": [
        "\n",
        "#to get the maximize solution \n",
        "value(lp.objective)"
      ],
      "execution_count": null,
      "outputs": [
        {
          "output_type": "execute_result",
          "data": {
            "text/plain": [
              "2150.0"
            ]
          },
          "metadata": {
            "tags": []
          },
          "execution_count": 11
        }
      ]
    },
    {
      "cell_type": "markdown",
      "metadata": {
        "id": "yd4jOgILgRNF",
        "colab_type": "text"
      },
      "source": [
        "# Question No 2"
      ]
    },
    {
      "cell_type": "markdown",
      "metadata": {
        "id": "BQRK-Hh4gRTv",
        "colab_type": "text"
      },
      "source": [
        "Solve the following LPP\n",
        "Minimize Z = 20X­1 + 10X2\n",
        "\n",
        "Subject to,\n",
        "\n",
        " X1 + 2X2 ≤40\n",
        "\n",
        "3X1 + 1X2 ≥30\n",
        "\n",
        "4X1 + 3X2 ≥60\n",
        "\n",
        "X1 ,X2 ≥0"
      ]
    },
    {
      "cell_type": "markdown",
      "metadata": {
        "id": "kuFRT-0mgRWt",
        "colab_type": "text"
      },
      "source": [
        "## LPP Model"
      ]
    },
    {
      "cell_type": "markdown",
      "metadata": {
        "id": "SZYqgO22gRZs",
        "colab_type": "text"
      },
      "source": [
        "Minimize $ 20x_{1}+10x_{2}$\n",
        "\n",
        "Subject To\n",
        "\n",
        "$ x_{1}+2x_{2}<=40$\n",
        "\n",
        "$ 3x_{1}+1x_{2}>=30$\n",
        "\n",
        "$ 4x_{1}+3x_{2}>=60$\n",
        "\n",
        "\n",
        "$ x_{1}>=0$\n",
        "\n",
        "$ x_{2}>=0$\n"
      ]
    },
    {
      "cell_type": "markdown",
      "metadata": {
        "id": "gLQYcT2jhLUB",
        "colab_type": "text"
      },
      "source": [
        "#Implementation"
      ]
    },
    {
      "cell_type": "code",
      "metadata": {
        "id": "jLLV-EKihPNP",
        "colab_type": "code",
        "colab": {
          "base_uri": "https://localhost:8080/",
          "height": 50
        },
        "outputId": "c77b505a-ff44-409c-efd7-d5d64d266c98"
      },
      "source": [
        "#creating the object of Linear Programming  using pulp\n",
        "lp=LpProblem('LP Problem ',LpMinimize)"
      ],
      "execution_count": null,
      "outputs": [
        {
          "output_type": "stream",
          "text": [
            "/usr/local/lib/python3.6/dist-packages/pulp/pulp.py:1195: UserWarning: Spaces are not permitted in the name. Converted to '_'\n",
            "  warnings.warn(\"Spaces are not permitted in the name. Converted to '_'\")\n"
          ],
          "name": "stderr"
        }
      ]
    },
    {
      "cell_type": "code",
      "metadata": {
        "id": "2aA46aIYhPV8",
        "colab_type": "code",
        "colab": {}
      },
      "source": [
        "x1 = LpVariable(\"x1\",0)\n",
        "x2=LpVariable(\"x2\",0)\n"
      ],
      "execution_count": null,
      "outputs": []
    },
    {
      "cell_type": "code",
      "metadata": {
        "id": "2NHU8oNhhPZf",
        "colab_type": "code",
        "colab": {}
      },
      "source": [
        "\n",
        "#now creating objective and constraints\n",
        "lp +=20*x1 + 10*x2,\"z\"\n",
        "#constraints\n",
        "lp+=x1+2*x2<=40\n",
        "lp+=3*x1+1*x2>=30\n",
        "lp+=4*x1+3*x2>=60\n",
        "lp+=x1>=0\n",
        "lp+=x2>=0\n",
        "\n"
      ],
      "execution_count": null,
      "outputs": []
    },
    {
      "cell_type": "code",
      "metadata": {
        "id": "2NkW1a40hPdz",
        "colab_type": "code",
        "colab": {
          "base_uri": "https://localhost:8080/",
          "height": 302
        },
        "outputId": "2058dc87-1114-4200-f03b-dd859b0b1299"
      },
      "source": [
        "lp"
      ],
      "execution_count": null,
      "outputs": [
        {
          "output_type": "execute_result",
          "data": {
            "text/plain": [
              "LP_Problem_:\n",
              "MINIMIZE\n",
              "20*x1 + 10*x2 + 0\n",
              "SUBJECT TO\n",
              "_C1: x1 + 2 x2 <= 40\n",
              "\n",
              "_C2: 3 x1 + x2 >= 30\n",
              "\n",
              "_C3: 4 x1 + 3 x2 >= 60\n",
              "\n",
              "_C4: x1 >= 0\n",
              "\n",
              "_C5: x2 >= 0\n",
              "\n",
              "VARIABLES\n",
              "x1 Continuous\n",
              "x2 Continuous"
            ]
          },
          "metadata": {
            "tags": []
          },
          "execution_count": 15
        }
      ]
    },
    {
      "cell_type": "code",
      "metadata": {
        "id": "l_smV8sOiPt7",
        "colab_type": "code",
        "colab": {
          "base_uri": "https://localhost:8080/",
          "height": 34
        },
        "outputId": "fa0cc4e4-9143-4e37-a81c-69ba7eedd111"
      },
      "source": [
        "lp.solve()"
      ],
      "execution_count": null,
      "outputs": [
        {
          "output_type": "execute_result",
          "data": {
            "text/plain": [
              "1"
            ]
          },
          "metadata": {
            "tags": []
          },
          "execution_count": 16
        }
      ]
    },
    {
      "cell_type": "code",
      "metadata": {
        "id": "jg1yxJm6iUki",
        "colab_type": "code",
        "colab": {}
      },
      "source": [
        "status=lp.solve()"
      ],
      "execution_count": null,
      "outputs": []
    },
    {
      "cell_type": "code",
      "metadata": {
        "id": "qUQSdxPiiYrj",
        "colab_type": "code",
        "colab": {
          "base_uri": "https://localhost:8080/",
          "height": 35
        },
        "outputId": "99c7575d-4b13-4689-e35e-50193030f292"
      },
      "source": [
        "LpStatus[status]"
      ],
      "execution_count": null,
      "outputs": [
        {
          "output_type": "execute_result",
          "data": {
            "application/vnd.google.colaboratory.intrinsic+json": {
              "type": "string"
            },
            "text/plain": [
              "'Optimal'"
            ]
          },
          "metadata": {
            "tags": []
          },
          "execution_count": 18
        }
      ]
    },
    {
      "cell_type": "code",
      "metadata": {
        "id": "Y7VP2xBnicKk",
        "colab_type": "code",
        "colab": {
          "base_uri": "https://localhost:8080/",
          "height": 50
        },
        "outputId": "caa06094-3092-477d-b2eb-fcaeea2cde2e"
      },
      "source": [
        "#to access all decision variable values\n",
        "for variable in lp.variables():\n",
        "  print('{} = {}'.format(variable.name,variable.varValue))\n",
        " "
      ],
      "execution_count": null,
      "outputs": [
        {
          "output_type": "stream",
          "text": [
            "x1 = 6.0\n",
            "x2 = 12.0\n"
          ],
          "name": "stdout"
        }
      ]
    },
    {
      "cell_type": "code",
      "metadata": {
        "id": "lQAmsbM0igCR",
        "colab_type": "code",
        "colab": {
          "base_uri": "https://localhost:8080/",
          "height": 34
        },
        "outputId": "4406ea4c-0d43-48d5-f7a3-a69887044f3c"
      },
      "source": [
        "\n",
        "#to get the minimize solution \n",
        "value(lp.objective)"
      ],
      "execution_count": null,
      "outputs": [
        {
          "output_type": "execute_result",
          "data": {
            "text/plain": [
              "240.0"
            ]
          },
          "metadata": {
            "tags": []
          },
          "execution_count": 21
        }
      ]
    },
    {
      "cell_type": "markdown",
      "metadata": {
        "id": "Z9xMcw_li17u",
        "colab_type": "text"
      },
      "source": [
        "# Question No 3."
      ]
    },
    {
      "cell_type": "markdown",
      "metadata": {
        "id": "Wvkm-O5Di2BY",
        "colab_type": "text"
      },
      "source": [
        " Maximize Z = X­1 +  X2 +3X3\n",
        "Subject to,\n",
        "\n",
        " 3X1 + 2X2 +X3 ≤300\n",
        "\n",
        "2X1 + X2 +2X3  ≤200\n",
        "\n",
        "X1 , X2 , X3 ≥0\n",
        "\n"
      ]
    },
    {
      "cell_type": "markdown",
      "metadata": {
        "id": "AZ8Pr9L2i2n4",
        "colab_type": "text"
      },
      "source": [
        "## LPP Model"
      ]
    },
    {
      "cell_type": "markdown",
      "metadata": {
        "id": "pELqzeSqjDkZ",
        "colab_type": "text"
      },
      "source": [
        "Maximize $ x_{1}+x_{2}+3x_{3}$\n",
        "\n",
        "Subject To\n",
        "\n",
        "$ 3x_{1}+2x_{2}+x_{3}<=300$\n",
        "\n",
        "$ 2x_{1}+x_{2}+2x_{3}<=200$\n",
        "\n",
        "\n",
        "$ x_{1}>=0$\n",
        "\n",
        "$ x_{2}>=0$\n",
        "\n",
        "$ x_{3}>=0$\n"
      ]
    },
    {
      "cell_type": "markdown",
      "metadata": {
        "id": "85wFbMKFjtOk",
        "colab_type": "text"
      },
      "source": [
        "#Implementation"
      ]
    },
    {
      "cell_type": "code",
      "metadata": {
        "id": "LoH10V8jjx_J",
        "colab_type": "code",
        "colab": {
          "base_uri": "https://localhost:8080/",
          "height": 50
        },
        "outputId": "37474d48-3fea-433e-d26e-71af5901183a"
      },
      "source": [
        "#creating the object of Linear Programming  using pulp\n",
        "lp=LpProblem('LP Problem ',LpMaximize)"
      ],
      "execution_count": null,
      "outputs": [
        {
          "output_type": "stream",
          "text": [
            "/usr/local/lib/python3.6/dist-packages/pulp/pulp.py:1195: UserWarning: Spaces are not permitted in the name. Converted to '_'\n",
            "  warnings.warn(\"Spaces are not permitted in the name. Converted to '_'\")\n"
          ],
          "name": "stderr"
        }
      ]
    },
    {
      "cell_type": "code",
      "metadata": {
        "id": "lN-NAMOljyIY",
        "colab_type": "code",
        "colab": {}
      },
      "source": [
        "x1 = LpVariable(\"x1\",0)\n",
        "x2=LpVariable(\"x2\",0)\n",
        "x3=LpVariable(\"x3\",0)"
      ],
      "execution_count": null,
      "outputs": []
    },
    {
      "cell_type": "code",
      "metadata": {
        "id": "93sIbzTCjyPP",
        "colab_type": "code",
        "colab": {}
      },
      "source": [
        "\n",
        "#now creating objective and constraints\n",
        "lp +=x1 + x2 +3*x3,\"z\"\n",
        "#constraints\n",
        "lp+=3*x1+2*x2+x3<=300\n",
        "lp+=2*x1+x2+2*x3<=200\n",
        "lp+=x1>=0\n",
        "lp+=x2>=0\n",
        "lp+=x3>=0\n",
        "\n"
      ],
      "execution_count": null,
      "outputs": []
    },
    {
      "cell_type": "code",
      "metadata": {
        "id": "G2F_8FfkjyWU",
        "colab_type": "code",
        "colab": {
          "base_uri": "https://localhost:8080/",
          "height": 319
        },
        "outputId": "0b97172a-6417-4c32-c778-98c9c0b2db60"
      },
      "source": [
        "lp"
      ],
      "execution_count": null,
      "outputs": [
        {
          "output_type": "execute_result",
          "data": {
            "text/plain": [
              "LP_Problem_:\n",
              "MAXIMIZE\n",
              "1*x1 + 1*x2 + 3*x3 + 0\n",
              "SUBJECT TO\n",
              "_C1: 3 x1 + 2 x2 + x3 <= 300\n",
              "\n",
              "_C2: 2 x1 + x2 + 2 x3 <= 200\n",
              "\n",
              "_C3: x1 >= 0\n",
              "\n",
              "_C4: x2 >= 0\n",
              "\n",
              "_C5: x3 >= 0\n",
              "\n",
              "VARIABLES\n",
              "x1 Continuous\n",
              "x2 Continuous\n",
              "x3 Continuous"
            ]
          },
          "metadata": {
            "tags": []
          },
          "execution_count": 25
        }
      ]
    },
    {
      "cell_type": "code",
      "metadata": {
        "id": "ve5vc6b8jyc-",
        "colab_type": "code",
        "colab": {
          "base_uri": "https://localhost:8080/",
          "height": 34
        },
        "outputId": "e52620e3-b9de-4a80-d828-08667dd27eb3"
      },
      "source": [
        "lp.solve()"
      ],
      "execution_count": null,
      "outputs": [
        {
          "output_type": "execute_result",
          "data": {
            "text/plain": [
              "1"
            ]
          },
          "metadata": {
            "tags": []
          },
          "execution_count": 26
        }
      ]
    },
    {
      "cell_type": "code",
      "metadata": {
        "id": "k3YHns0Zjyjh",
        "colab_type": "code",
        "colab": {}
      },
      "source": [
        "status=lp.solve()"
      ],
      "execution_count": null,
      "outputs": []
    },
    {
      "cell_type": "code",
      "metadata": {
        "id": "KZkcmV81l0OQ",
        "colab_type": "code",
        "colab": {
          "base_uri": "https://localhost:8080/",
          "height": 35
        },
        "outputId": "b2846391-858b-4ab2-82ae-c82edcc7e3ea"
      },
      "source": [
        "LpStatus[status]"
      ],
      "execution_count": null,
      "outputs": [
        {
          "output_type": "execute_result",
          "data": {
            "application/vnd.google.colaboratory.intrinsic+json": {
              "type": "string"
            },
            "text/plain": [
              "'Optimal'"
            ]
          },
          "metadata": {
            "tags": []
          },
          "execution_count": 28
        }
      ]
    },
    {
      "cell_type": "code",
      "metadata": {
        "id": "vmLlOIQhl3fs",
        "colab_type": "code",
        "colab": {
          "base_uri": "https://localhost:8080/",
          "height": 67
        },
        "outputId": "04c4e7ba-9f67-48da-8188-9596feaa0e54"
      },
      "source": [
        "#to access all decision variable values\n",
        "for variable in lp.variables():\n",
        "  print('{} = {}'.format(variable.name,variable.varValue))\n",
        " "
      ],
      "execution_count": null,
      "outputs": [
        {
          "output_type": "stream",
          "text": [
            "x1 = 0.0\n",
            "x2 = 0.0\n",
            "x3 = 100.0\n"
          ],
          "name": "stdout"
        }
      ]
    },
    {
      "cell_type": "code",
      "metadata": {
        "id": "QPNDbAT7l8bV",
        "colab_type": "code",
        "colab": {
          "base_uri": "https://localhost:8080/",
          "height": 34
        },
        "outputId": "05b3e9df-6872-4c5e-80fd-fde169e22004"
      },
      "source": [
        "\n",
        "#to get the maximize solution \n",
        "value(lp.objective)"
      ],
      "execution_count": null,
      "outputs": [
        {
          "output_type": "execute_result",
          "data": {
            "text/plain": [
              "300.0"
            ]
          },
          "metadata": {
            "tags": []
          },
          "execution_count": 30
        }
      ]
    },
    {
      "cell_type": "code",
      "metadata": {
        "id": "hDHq0Q0dmEoC",
        "colab_type": "code",
        "colab": {}
      },
      "source": [
        ""
      ],
      "execution_count": null,
      "outputs": []
    }
  ]
}