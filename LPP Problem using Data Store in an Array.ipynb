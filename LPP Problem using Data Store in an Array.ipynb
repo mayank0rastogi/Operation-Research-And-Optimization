{
  "nbformat": 4,
  "nbformat_minor": 0,
  "metadata": {
    "colab": {
      "name": "Mayank Rastogi_81-LAB-6.ipynb",
      "provenance": [],
      "collapsed_sections": [],
      "toc_visible": true
    },
    "kernelspec": {
      "name": "python3",
      "display_name": "Python 3"
    }
  },
  "cells": [
    {
      "cell_type": "markdown",
      "metadata": {
        "id": "cBglHqqR55eL",
        "colab_type": "text"
      },
      "source": [
        "#Question 1."
      ]
    },
    {
      "cell_type": "markdown",
      "metadata": {
        "id": "ESGW71BWf-kk",
        "colab_type": "text"
      },
      "source": [
        "Consider a Belgian company Volsay, which specializes in producing ammoniac gas (NH3) and ammonium chloride (NH4Cl). Volsay has at its disposal 50 units of nitrogen (N), 180 units of hydrogen (H), and 40 units of chlorine (Cl). The company makes a profit of 40 Euros for each sale of an ammoniac gas unit and 50 Euros for each sale of an ammonium chloride unit. Volsay would like a production plan maximizing its profits given its available stocks."
      ]
    },
    {
      "cell_type": "markdown",
      "metadata": {
        "id": "-ET5vy48f-wK",
        "colab_type": "text"
      },
      "source": [
        "# LPP Model"
      ]
    },
    {
      "cell_type": "markdown",
      "metadata": {
        "id": "HaGtXL6Rf--a",
        "colab_type": "text"
      },
      "source": [
        "Maximize $ 40x_{1}+50x_{2}$\n",
        "\n",
        "Subject To\n",
        "\n",
        "$ x_{1}+x_{2}<=50$\n",
        "\n",
        "$ 3x_{1}+4x_{2}<=180$\n",
        "\n",
        "$ x_{2}<=40$\n",
        "\n",
        "$ x_{1}>=0$\n",
        "\n",
        "$ x_{2}>=0$\n"
      ]
    },
    {
      "cell_type": "markdown",
      "metadata": {
        "id": "JOkssf46f_Hi",
        "colab_type": "text"
      },
      "source": [
        "#Implementations"
      ]
    },
    {
      "cell_type": "code",
      "metadata": {
        "id": "oOZLzJKwiSqL",
        "colab_type": "code",
        "colab": {
          "base_uri": "https://localhost:8080/",
          "height": 326
        },
        "outputId": "a534dd6d-b616-45e9-dc1a-606d551245e7"
      },
      "source": [
        "!pip install pulp\n"
      ],
      "execution_count": 1,
      "outputs": [
        {
          "output_type": "stream",
          "text": [
            "Collecting pulp\n",
            "\u001b[?25l  Downloading https://files.pythonhosted.org/packages/c3/22/5743d7b5d69f84fb63a0b4925862522dbf80e82defcd0c447afb694f3fd0/PuLP-2.3-py3-none-any.whl (40.6MB)\n",
            "\u001b[K     |████████████████████████████████| 40.6MB 105kB/s \n",
            "\u001b[?25hCollecting amply>=0.1.2\n",
            "  Downloading https://files.pythonhosted.org/packages/7f/11/33cb09557ac838d9488779b79e05a2a3c1f3ce9747cd242ba68332736778/amply-0.1.2.tar.gz\n",
            "  Installing build dependencies ... \u001b[?25l\u001b[?25hdone\n",
            "  Getting requirements to build wheel ... \u001b[?25l\u001b[?25hdone\n",
            "    Preparing wheel metadata ... \u001b[?25l\u001b[?25hdone\n",
            "Requirement already satisfied: pyparsing in /usr/local/lib/python3.6/dist-packages (from amply>=0.1.2->pulp) (2.4.7)\n",
            "Requirement already satisfied: docutils>=0.3 in /usr/local/lib/python3.6/dist-packages (from amply>=0.1.2->pulp) (0.15.2)\n",
            "Building wheels for collected packages: amply\n",
            "  Building wheel for amply (PEP 517) ... \u001b[?25l\u001b[?25hdone\n",
            "  Created wheel for amply: filename=amply-0.1.2-cp36-none-any.whl size=16573 sha256=ae9e3c2c5d17716832ef1257262c1065ce09360cfa402d5304ff6f28c77dc0bd\n",
            "  Stored in directory: /root/.cache/pip/wheels/84/18/f7/e5c3ed13ed5bb721763f77d4a924331d59ef115ce61c9d26eb\n",
            "Successfully built amply\n",
            "Installing collected packages: amply, pulp\n",
            "Successfully installed amply-0.1.2 pulp-2.3\n"
          ],
          "name": "stdout"
        }
      ]
    },
    {
      "cell_type": "code",
      "metadata": {
        "id": "5NtdImUKiTF8",
        "colab_type": "code",
        "colab": {}
      },
      "source": [
        "from pulp import *\n",
        "import numpy as np"
      ],
      "execution_count": 2,
      "outputs": []
    },
    {
      "cell_type": "code",
      "metadata": {
        "id": "9F2tMfbgiTIy",
        "colab_type": "code",
        "colab": {}
      },
      "source": [
        "## Defining the  Data\n",
        "\n",
        "nvar=2\n",
        "ncons=3\n",
        "cost=np.array([40,50])\n",
        "Coff=np.array([[1,1],\n",
        "               [3,4],\n",
        "               [0,1]])\n",
        "               \n",
        "\n",
        "resources=[50,180,40]"
      ],
      "execution_count": 3,
      "outputs": []
    },
    {
      "cell_type": "code",
      "metadata": {
        "id": "2iw8di_Ska_z",
        "colab_type": "code",
        "colab": {
          "base_uri": "https://localhost:8080/",
          "height": 34
        },
        "outputId": "9158a6b5-cb9c-41ca-8313-11f770c4549e"
      },
      "source": [
        "cost[1]"
      ],
      "execution_count": 4,
      "outputs": [
        {
          "output_type": "execute_result",
          "data": {
            "text/plain": [
              "50"
            ]
          },
          "metadata": {
            "tags": []
          },
          "execution_count": 4
        }
      ]
    },
    {
      "cell_type": "code",
      "metadata": {
        "id": "lB2vctAGiTN2",
        "colab_type": "code",
        "colab": {
          "base_uri": "https://localhost:8080/",
          "height": 374
        },
        "outputId": "647b88ed-85fd-4a26-d575-bf77526d7882"
      },
      "source": [
        "def inclusive_range(*args):\n",
        "    numargs = len(args)\n",
        "    if numargs == 0:\n",
        "        raise TypeError(\"you need to write at least a value\")\n",
        "    elif numargs == 1:\n",
        "        stop = args[0]\n",
        "        start = 0\n",
        "        step = 1\n",
        "    elif numargs == 2:\n",
        "        (start, stop) = args\n",
        "        step = 1\n",
        "    elif numargs == 3:\n",
        "        (start, stop, step) = args\n",
        "    else:\n",
        "        raise TypeError(\"Inclusive range was expected at most 3 arguments,got {}\".format(numargs))\n",
        "    i = start\n",
        "    while i <= stop:\n",
        "        yield i\n",
        "        i += step\n",
        "\n",
        "\n",
        "# Define the model\n",
        "lp = LpProblem(\"LP\",LpMaximize)\n",
        "\n",
        "i=0\n",
        "# Define the decision variables\n",
        "x = {i: LpVariable(name=f\"x{i}\", lowBound=0) for i in inclusive_range(1, nvar)}\n",
        "\n",
        "\n",
        "# Set the objective\n",
        "lp+=lpSum(cost[i-1]*x[i] for i in inclusive_range(1,nvar))\n",
        "\n",
        "\n",
        "# Add constraints\n",
        "\n",
        "for j in range(ncons):\n",
        "  lp += lpSum(Coff[j,i-1]*x[i] for i in inclusive_range(1,nvar))<=resources[j]\n",
        "\n",
        "# Print Model\n",
        "print(lp)\n",
        "\n",
        "\n",
        "# Solve the optimization problem\n",
        "status = lp.solve()\n",
        "\n",
        "# Get the results\n",
        "print('->->->->->->->->-> Solution of LPP is ->->->->->->->->->\\n\\n')\n",
        "print(f\"status: {lp.status}, {LpStatus[lp.status]}\")\n",
        "print(f\"objective: {lp.objective.value()}\")\n",
        "\n",
        "for var in x.values():\n",
        "    print(f\"{var.name}: {var.value()}\")\n"
      ],
      "execution_count": 6,
      "outputs": [
        {
          "output_type": "stream",
          "text": [
            "LP:\n",
            "MAXIMIZE\n",
            "40*x1 + 50*x2 + 0\n",
            "SUBJECT TO\n",
            "_C1: x1 + x2 <= 50\n",
            "\n",
            "_C2: 3 x1 + 4 x2 <= 180\n",
            "\n",
            "_C3: x2 <= 40\n",
            "\n",
            "VARIABLES\n",
            "x1 Continuous\n",
            "x2 Continuous\n",
            "\n",
            "->->->->->->->->-> Solution of LPP is ->->->->->->->->->\n",
            "\n",
            "\n",
            "status: 1, Optimal\n",
            "objective: 2300.0\n",
            "x1: 20.0\n",
            "x2: 30.0\n"
          ],
          "name": "stdout"
        }
      ]
    },
    {
      "cell_type": "markdown",
      "metadata": {
        "id": "dDk-Latpl_M_",
        "colab_type": "text"
      },
      "source": [
        "#Question 2."
      ]
    },
    {
      "cell_type": "markdown",
      "metadata": {
        "id": "_XvacWArl_ak",
        "colab_type": "text"
      },
      "source": [
        "On October 1 a company received a contract to supply 6000 units of specialized product. The term of contract require that 1000 unit  be shipped in October , 3000 units in November and 2000 units in December . the company can manufacture 1500 units in a month on a regular time and 750 units per month in overtime. The manufacturing cost per item produced in regular time is Rs 3 and the cost per item produced during overtime is Rs 5.The monthly storage cost is Rs 1.Formulate this problem as LP model so as to minimize total cost."
      ]
    },
    {
      "cell_type": "markdown",
      "metadata": {
        "id": "5QxGMVUvl_lf",
        "colab_type": "text"
      },
      "source": [
        "#LPP Model"
      ]
    },
    {
      "cell_type": "markdown",
      "metadata": {
        "id": "UEMYk4jSl_yb",
        "colab_type": "text"
      },
      "source": [
        "Minimize $ x_{1}+x_{2}$\n",
        "\n",
        "Subject To\n",
        "\n",
        "$ 3x_{1}+5x_{2}<=1$\n",
        "\n",
        "\n",
        "$ x_{1}<=1500$\n",
        "\n",
        "$ x_{2}<=750$\n",
        "\n",
        "$ x_{1}>=0$\n",
        "\n",
        "$ x_{2}>=0$\n"
      ]
    },
    {
      "cell_type": "markdown",
      "metadata": {
        "id": "ew2lkzUXmAAW",
        "colab_type": "text"
      },
      "source": [
        "#Implementation"
      ]
    },
    {
      "cell_type": "code",
      "metadata": {
        "id": "gzWRurIDpl7u",
        "colab_type": "code",
        "colab": {}
      },
      "source": [
        "## Defining the  Data\n",
        "\n",
        "nvar=2\n",
        "ncons=3\n",
        "cost=np.array([1,1])\n",
        "Coff=np.array([[3,5],\n",
        "               [1,0],\n",
        "               [0,1]])\n",
        "               \n",
        "\n",
        "resources=[1,1500,750]"
      ],
      "execution_count": 7,
      "outputs": []
    },
    {
      "cell_type": "code",
      "metadata": {
        "id": "lFcxdGUj6pyZ",
        "colab_type": "code",
        "colab": {
          "base_uri": "https://localhost:8080/",
          "height": 374
        },
        "outputId": "5982d3a5-3a3c-496a-d379-f60f5e5065c7"
      },
      "source": [
        "\n",
        "# Define the model\n",
        "lp = LpProblem(\"LP\",LpMaximize)\n",
        "\n",
        "\n",
        "# Define the decision variables\n",
        "x = {i: LpVariable(name=f\"x{i}\", lowBound=0) for i in inclusive_range(1, nvar)}\n",
        "\n",
        "\n",
        "# Set the objective\n",
        "lp+=lpSum(cost[i-1]*x[i] for i in inclusive_range(1,nvar))\n",
        "\n",
        "\n",
        "# Add constraints\n",
        "\n",
        "for j in range(ncons):\n",
        "  lp += lpSum(Coff[j,i-1]*x[i] for i in inclusive_range(1,nvar))<=resources[j]\n",
        "\n",
        "# Print Model\n",
        "print(lp)\n",
        "\n",
        "\n",
        "# Solve the optimization problem\n",
        "status = lp.solve()\n",
        "\n",
        "# Get the results\n",
        "print('->->->->->->->->-> Solution of LPP is ->->->->->->->->->\\n\\n')\n",
        "print(f\"status: {lp.status}, {LpStatus[lp.status]}\")\n",
        "print(f\"objective: {round(lp.objective.value(),2)}\")\n",
        "\n",
        "for var in x.values():\n",
        "    print(f\"{var.name}: {round(var.value(),2)}\")\n"
      ],
      "execution_count": 8,
      "outputs": [
        {
          "output_type": "stream",
          "text": [
            "LP:\n",
            "MAXIMIZE\n",
            "1*x1 + 1*x2 + 0\n",
            "SUBJECT TO\n",
            "_C1: 3 x1 + 5 x2 <= 1\n",
            "\n",
            "_C2: x1 <= 1500\n",
            "\n",
            "_C3: x2 <= 750\n",
            "\n",
            "VARIABLES\n",
            "x1 Continuous\n",
            "x2 Continuous\n",
            "\n",
            "->->->->->->->->-> Solution of LPP is ->->->->->->->->->\n",
            "\n",
            "\n",
            "status: 1, Optimal\n",
            "objective: 0.33\n",
            "x1: 0.33\n",
            "x2: 0.0\n"
          ],
          "name": "stdout"
        }
      ]
    },
    {
      "cell_type": "markdown",
      "metadata": {
        "id": "-qoE4ZaxpmuI",
        "colab_type": "text"
      },
      "source": [
        "#Question 3."
      ]
    },
    {
      "cell_type": "markdown",
      "metadata": {
        "id": "NF4_td5HpnVS",
        "colab_type": "text"
      },
      "source": [
        "Maximize Z=4x1+3x2\n",
        "Subject to\n",
        "\n",
        "2x1+x2 ≤ 1000\n",
        "\n",
        "x1+x2 ≤ 800\n",
        "\n",
        "x1 ≤ 400\n",
        "\n",
        "x2 ≤ 700, x1,x2  ≥0"
      ]
    },
    {
      "cell_type": "markdown",
      "metadata": {
        "id": "VAXvZRLdpnSU",
        "colab_type": "text"
      },
      "source": [
        "#LPP Model"
      ]
    },
    {
      "cell_type": "markdown",
      "metadata": {
        "id": "cGufLrKfpnO4",
        "colab_type": "text"
      },
      "source": [
        "Maximize $ 4x_{1}+3x_{2}$\n",
        "\n",
        "Subject To\n",
        "\n",
        "$ 2x_{1}+x_{2}<=1000$\n",
        "\n",
        "$ x_{1}+x_{2}<=800$\n",
        "\n",
        "$ x_{1}<=400$\n",
        "\n",
        "$ x_{2}<=700$\n",
        "\n",
        "$ x_{1}>=0$\n",
        "\n",
        "$ x_{2}>=0$\n",
        "\n"
      ]
    },
    {
      "cell_type": "markdown",
      "metadata": {
        "id": "--cGWi_WqOfJ",
        "colab_type": "text"
      },
      "source": [
        "#Implementation"
      ]
    },
    {
      "cell_type": "code",
      "metadata": {
        "id": "tG1hbRpnqSNY",
        "colab_type": "code",
        "colab": {}
      },
      "source": [
        "## Defining the  Data\n",
        "\n",
        "nvar=2\n",
        "ncons=4\n",
        "cost=np.array([4,3])\n",
        "Coff=np.array([[2,1],\n",
        "               [1,1],\n",
        "               [1,0],\n",
        "               [0,1]])\n",
        "               \n",
        "\n",
        "resources=[1000,800,400,700]"
      ],
      "execution_count": 9,
      "outputs": []
    },
    {
      "cell_type": "code",
      "metadata": {
        "id": "SjD7737-qSTI",
        "colab_type": "code",
        "colab": {
          "base_uri": "https://localhost:8080/",
          "height": 408
        },
        "outputId": "5df3098a-98b6-41b0-f2a4-c9cbf8860f65"
      },
      "source": [
        "\n",
        "# Define the model\n",
        "lp = LpProblem(\"LP\",LpMaximize)\n",
        "\n",
        "\n",
        "# Define the decision variables\n",
        "x = {i: LpVariable(name=f\"x{i}\", lowBound=0) for i in inclusive_range(1, nvar)}\n",
        "\n",
        "\n",
        "# Set the objective\n",
        "lp+=lpSum(cost[i-1]*x[i] for i in inclusive_range(1,nvar))\n",
        "\n",
        "\n",
        "# Add constraints\n",
        "\n",
        "for j in range(ncons):\n",
        "  lp += lpSum(Coff[j,i-1]*x[i] for i in inclusive_range(1,nvar))<=resources[j]\n",
        "\n",
        "# Print Model\n",
        "print(lp)\n",
        "\n",
        "\n",
        "# Solve the optimization problem\n",
        "status = lp.solve()\n",
        "\n",
        "# Get the results\n",
        "print('->->->->->->->->-> Solution of LPP is ->->->->->->->->->\\n\\n')\n",
        "print(f\"status: {lp.status}, {LpStatus[lp.status]}\")\n",
        "print(f\"objective: {lp.objective.value()}\")\n",
        "\n",
        "for var in x.values():\n",
        "    print(f\"{var.name}: {var.value()}\")\n"
      ],
      "execution_count": 10,
      "outputs": [
        {
          "output_type": "stream",
          "text": [
            "LP:\n",
            "MAXIMIZE\n",
            "4*x1 + 3*x2 + 0\n",
            "SUBJECT TO\n",
            "_C1: 2 x1 + x2 <= 1000\n",
            "\n",
            "_C2: x1 + x2 <= 800\n",
            "\n",
            "_C3: x1 <= 400\n",
            "\n",
            "_C4: x2 <= 700\n",
            "\n",
            "VARIABLES\n",
            "x1 Continuous\n",
            "x2 Continuous\n",
            "\n",
            "->->->->->->->->-> Solution of LPP is ->->->->->->->->->\n",
            "\n",
            "\n",
            "status: 1, Optimal\n",
            "objective: 2600.0\n",
            "x1: 200.0\n",
            "x2: 600.0\n"
          ],
          "name": "stdout"
        }
      ]
    },
    {
      "cell_type": "code",
      "metadata": {
        "id": "ctT_LsmjqSRS",
        "colab_type": "code",
        "colab": {}
      },
      "source": [
        ""
      ],
      "execution_count": null,
      "outputs": []
    }
  ]
}