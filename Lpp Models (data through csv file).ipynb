{
  "nbformat": 4,
  "nbformat_minor": 0,
  "metadata": {
    "colab": {
      "name": "Mayank_Rastogi_81-Lab-8.ipynb",
      "provenance": [],
      "collapsed_sections": [],
      "toc_visible": true
    },
    "kernelspec": {
      "name": "python3",
      "display_name": "Python 3"
    }
  },
  "cells": [
    {
      "cell_type": "markdown",
      "metadata": {
        "id": "n2yA-w2RqY-d"
      },
      "source": [
        "##Question 1."
      ]
    },
    {
      "cell_type": "markdown",
      "metadata": {
        "id": "MRjYfTeMqZJZ"
      },
      "source": [
        "#Model\n",
        "Maximize $Z=8x_{1}+9 x_{2}+7x_{3}+6 x_{4}$\n",
        "\n",
        "subject to\n",
        "\n",
        "$0.5x_{1}+x_{2}+x_{3}+0.5x_{4}<=1800$\n",
        "\n",
        "$2x_{1}+x_{2}+x_{3}+x_{4}<=2800$\n",
        "\n",
        "$0.5x_{1}+0.5x_{2}+x_{3}+x_{4}<=3000$\n",
        "\n",
        "$3x_{1}+x_{2}+2x_{3}+3x_{4}<=6000$\n",
        "\n",
        "$-x_{1}+0x_{2}+0x_{3}+0x_{4}<=-100$\n",
        "\n",
        "$0x_{1}+-x_{2}+0x_{3}+0x_{4}<=-600$\n",
        "\n",
        "$0x_{1}+0x_{2}+-x_{3}+0x_{4}<=-500$\n",
        "\n",
        "$0x_{1}+0x_{2}+0x_{3}+-x_{4}<=-400$\n"
      ]
    },
    {
      "cell_type": "markdown",
      "metadata": {
        "id": "_VNhO8f2qZVj"
      },
      "source": [
        "##LPP MODEL BY READING DATA FROM FILE"
      ]
    },
    {
      "cell_type": "markdown",
      "metadata": {
        "id": "EJeMRUDnraep"
      },
      "source": [
        "###Implementations"
      ]
    },
    {
      "cell_type": "code",
      "metadata": {
        "id": "sKSUsWzVreOt",
        "outputId": "305771d1-7707-4856-b5c5-cb817cad8705",
        "colab": {
          "base_uri": "https://localhost:8080/",
          "height": 306
        }
      },
      "source": [
        "!pip install pulp"
      ],
      "execution_count": null,
      "outputs": [
        {
          "output_type": "stream",
          "text": [
            "Collecting pulp\n",
            "\u001b[?25l  Downloading https://files.pythonhosted.org/packages/c3/22/5743d7b5d69f84fb63a0b4925862522dbf80e82defcd0c447afb694f3fd0/PuLP-2.3-py3-none-any.whl (40.6MB)\n",
            "\u001b[K     |████████████████████████████████| 40.6MB 102kB/s \n",
            "\u001b[?25hCollecting amply>=0.1.2\n",
            "  Downloading https://files.pythonhosted.org/packages/7f/11/33cb09557ac838d9488779b79e05a2a3c1f3ce9747cd242ba68332736778/amply-0.1.2.tar.gz\n",
            "  Installing build dependencies ... \u001b[?25l\u001b[?25hdone\n",
            "  Getting requirements to build wheel ... \u001b[?25l\u001b[?25hdone\n",
            "    Preparing wheel metadata ... \u001b[?25l\u001b[?25hdone\n",
            "Requirement already satisfied: docutils>=0.3 in /usr/local/lib/python3.6/dist-packages (from amply>=0.1.2->pulp) (0.15.2)\n",
            "Requirement already satisfied: pyparsing in /usr/local/lib/python3.6/dist-packages (from amply>=0.1.2->pulp) (2.4.7)\n",
            "Building wheels for collected packages: amply\n",
            "  Building wheel for amply (PEP 517) ... \u001b[?25l\u001b[?25hdone\n",
            "  Created wheel for amply: filename=amply-0.1.2-cp36-none-any.whl size=16573 sha256=b80402a109ef679a4fbb6909c305954aad7cae48ad77b921a4b9649e19a03703\n",
            "  Stored in directory: /root/.cache/pip/wheels/84/18/f7/e5c3ed13ed5bb721763f77d4a924331d59ef115ce61c9d26eb\n",
            "Successfully built amply\n",
            "Installing collected packages: amply, pulp\n",
            "Successfully installed amply-0.1.2 pulp-2.3\n"
          ],
          "name": "stdout"
        }
      ]
    },
    {
      "cell_type": "code",
      "metadata": {
        "id": "62kSqMM4rgbB"
      },
      "source": [
        "from pulp import *\n",
        "import numpy as np\n",
        "import pandas as pd\n",
        "\n"
      ],
      "execution_count": null,
      "outputs": []
    },
    {
      "cell_type": "code",
      "metadata": {
        "id": "92fnFGlvs8TQ",
        "outputId": "0215f4fe-960d-4076-eb6b-5b022a516027",
        "colab": {
          "base_uri": "https://localhost:8080/",
          "height": 34
        }
      },
      "source": [
        "%ls"
      ],
      "execution_count": null,
      "outputs": [
        {
          "output_type": "stream",
          "text": [
            "Q1.csv  Q2.csv  Q3.csv  \u001b[0m\u001b[01;34msample_data\u001b[0m/\n"
          ],
          "name": "stdout"
        }
      ]
    },
    {
      "cell_type": "code",
      "metadata": {
        "id": "SJgCfCPMs_pI"
      },
      "source": [
        "df=pd.read_csv('Q1.csv')"
      ],
      "execution_count": null,
      "outputs": []
    },
    {
      "cell_type": "code",
      "metadata": {
        "id": "yRgJcKM-vWV9",
        "outputId": "2d37fc1c-9b9b-46e5-a9a8-e367d13b9a4a",
        "colab": {
          "base_uri": "https://localhost:8080/",
          "height": 297
        }
      },
      "source": [
        "df.head(8)"
      ],
      "execution_count": null,
      "outputs": [
        {
          "output_type": "execute_result",
          "data": {
            "text/html": [
              "<div>\n",
              "<style scoped>\n",
              "    .dataframe tbody tr th:only-of-type {\n",
              "        vertical-align: middle;\n",
              "    }\n",
              "\n",
              "    .dataframe tbody tr th {\n",
              "        vertical-align: top;\n",
              "    }\n",
              "\n",
              "    .dataframe thead th {\n",
              "        text-align: right;\n",
              "    }\n",
              "</style>\n",
              "<table border=\"1\" class=\"dataframe\">\n",
              "  <thead>\n",
              "    <tr style=\"text-align: right;\">\n",
              "      <th></th>\n",
              "      <th>A1</th>\n",
              "      <th>A2</th>\n",
              "      <th>A3</th>\n",
              "      <th>A4</th>\n",
              "      <th>Cost</th>\n",
              "      <th>Resource</th>\n",
              "    </tr>\n",
              "  </thead>\n",
              "  <tbody>\n",
              "    <tr>\n",
              "      <th>0</th>\n",
              "      <td>0.5</td>\n",
              "      <td>1.0</td>\n",
              "      <td>1</td>\n",
              "      <td>0.5</td>\n",
              "      <td>8.0</td>\n",
              "      <td>1800</td>\n",
              "    </tr>\n",
              "    <tr>\n",
              "      <th>1</th>\n",
              "      <td>2.0</td>\n",
              "      <td>1.0</td>\n",
              "      <td>1</td>\n",
              "      <td>1.0</td>\n",
              "      <td>9.0</td>\n",
              "      <td>2800</td>\n",
              "    </tr>\n",
              "    <tr>\n",
              "      <th>2</th>\n",
              "      <td>0.5</td>\n",
              "      <td>0.5</td>\n",
              "      <td>1</td>\n",
              "      <td>1.0</td>\n",
              "      <td>7.0</td>\n",
              "      <td>3000</td>\n",
              "    </tr>\n",
              "    <tr>\n",
              "      <th>3</th>\n",
              "      <td>3.0</td>\n",
              "      <td>1.0</td>\n",
              "      <td>2</td>\n",
              "      <td>3.0</td>\n",
              "      <td>6.0</td>\n",
              "      <td>6000</td>\n",
              "    </tr>\n",
              "    <tr>\n",
              "      <th>4</th>\n",
              "      <td>-1.0</td>\n",
              "      <td>0.0</td>\n",
              "      <td>0</td>\n",
              "      <td>0.0</td>\n",
              "      <td>NaN</td>\n",
              "      <td>-100</td>\n",
              "    </tr>\n",
              "    <tr>\n",
              "      <th>5</th>\n",
              "      <td>0.0</td>\n",
              "      <td>-1.0</td>\n",
              "      <td>0</td>\n",
              "      <td>0.0</td>\n",
              "      <td>NaN</td>\n",
              "      <td>-600</td>\n",
              "    </tr>\n",
              "    <tr>\n",
              "      <th>6</th>\n",
              "      <td>0.0</td>\n",
              "      <td>0.0</td>\n",
              "      <td>-1</td>\n",
              "      <td>0.0</td>\n",
              "      <td>NaN</td>\n",
              "      <td>-500</td>\n",
              "    </tr>\n",
              "    <tr>\n",
              "      <th>7</th>\n",
              "      <td>0.0</td>\n",
              "      <td>0.0</td>\n",
              "      <td>0</td>\n",
              "      <td>-1.0</td>\n",
              "      <td>NaN</td>\n",
              "      <td>-400</td>\n",
              "    </tr>\n",
              "  </tbody>\n",
              "</table>\n",
              "</div>"
            ],
            "text/plain": [
              "    A1   A2  A3   A4  Cost  Resource\n",
              "0  0.5  1.0   1  0.5   8.0      1800\n",
              "1  2.0  1.0   1  1.0   9.0      2800\n",
              "2  0.5  0.5   1  1.0   7.0      3000\n",
              "3  3.0  1.0   2  3.0   6.0      6000\n",
              "4 -1.0  0.0   0  0.0   NaN      -100\n",
              "5  0.0 -1.0   0  0.0   NaN      -600\n",
              "6  0.0  0.0  -1  0.0   NaN      -500\n",
              "7  0.0  0.0   0 -1.0   NaN      -400"
            ]
          },
          "metadata": {
            "tags": []
          },
          "execution_count": 71
        }
      ]
    },
    {
      "cell_type": "markdown",
      "metadata": {
        "id": "aqWe7Du5vr3L"
      },
      "source": [
        "## Define Data"
      ]
    },
    {
      "cell_type": "code",
      "metadata": {
        "id": "MS5dpC3svX1N"
      },
      "source": [
        "nvar=4\n",
        "ncons=8\n",
        "cost=df['Cost'].to_numpy()\n",
        "\n",
        "Coff=df.iloc[0:8,0:8].to_numpy()\n",
        "               \n",
        "\n",
        "resources=list(df['Resource'].iloc[0:8])"
      ],
      "execution_count": null,
      "outputs": []
    },
    {
      "cell_type": "code",
      "metadata": {
        "id": "5q00AlbxwQIq",
        "outputId": "e802f669-0e7e-49d6-e67c-cfd684f999aa",
        "colab": {
          "base_uri": "https://localhost:8080/",
          "height": 34
        }
      },
      "source": [
        "resources"
      ],
      "execution_count": null,
      "outputs": [
        {
          "output_type": "execute_result",
          "data": {
            "text/plain": [
              "[1800, 2800, 3000, 6000, -100, -600, -500, -400]"
            ]
          },
          "metadata": {
            "tags": []
          },
          "execution_count": 73
        }
      ]
    },
    {
      "cell_type": "code",
      "metadata": {
        "id": "Whu5OHCGwCZF",
        "outputId": "0c57a222-994b-4d07-dc66-3024ec81f181",
        "colab": {
          "base_uri": "https://localhost:8080/",
          "height": 153
        }
      },
      "source": [
        "Coff"
      ],
      "execution_count": null,
      "outputs": [
        {
          "output_type": "execute_result",
          "data": {
            "text/plain": [
              "array([[ 5.0e-01,  1.0e+00,  1.0e+00,  5.0e-01,  8.0e+00,  1.8e+03],\n",
              "       [ 2.0e+00,  1.0e+00,  1.0e+00,  1.0e+00,  9.0e+00,  2.8e+03],\n",
              "       [ 5.0e-01,  5.0e-01,  1.0e+00,  1.0e+00,  7.0e+00,  3.0e+03],\n",
              "       [ 3.0e+00,  1.0e+00,  2.0e+00,  3.0e+00,  6.0e+00,  6.0e+03],\n",
              "       [-1.0e+00,  0.0e+00,  0.0e+00,  0.0e+00,      nan, -1.0e+02],\n",
              "       [ 0.0e+00, -1.0e+00,  0.0e+00,  0.0e+00,      nan, -6.0e+02],\n",
              "       [ 0.0e+00,  0.0e+00, -1.0e+00,  0.0e+00,      nan, -5.0e+02],\n",
              "       [ 0.0e+00,  0.0e+00,  0.0e+00, -1.0e+00,      nan, -4.0e+02]])"
            ]
          },
          "metadata": {
            "tags": []
          },
          "execution_count": 74
        }
      ]
    },
    {
      "cell_type": "code",
      "metadata": {
        "id": "o_tDpJtyvx_G",
        "outputId": "ab74f874-d13c-4807-e7e6-d480c16d8862",
        "colab": {
          "base_uri": "https://localhost:8080/",
          "height": 612
        }
      },
      "source": [
        "\n",
        "# Define the model\n",
        "model = LpProblem(\"LPP\",LpMaximize)\n",
        "\n",
        "\n",
        "# Define the decision variables\n",
        "x = {i: LpVariable(name=f\"x{i}\", lowBound=0) for i in range(1, nvar+1)}\n",
        "\n",
        "\n",
        "# Set the objective\n",
        "model+=lpSum(cost[i-1]*x[i] for i in range(1,nvar+1))\n",
        "\n",
        "\n",
        "# Add constraints\n",
        "\n",
        "for j in range(ncons):\n",
        "  model += lpSum(Coff[j,i-1]*x[i] for i in range(1,nvar+1))<=resources[j]\n",
        "\n",
        "# Print Model\n",
        "print(model)\n",
        "\n",
        "\n",
        "# Solve the optimization problem\n",
        "status = model.solve()\n",
        "\n",
        "# Get the results\n",
        "print('##############Solution of LPP is ##################\\n\\n')\n",
        "print(f\"status: {model.status}, {LpStatus[model.status]}\")\n",
        "print(f\"objective: {model.objective.value()}\")\n",
        "\n",
        "for var in x.values():\n",
        "    print(f\"{var.name}: {var.value()}\")\n"
      ],
      "execution_count": null,
      "outputs": [
        {
          "output_type": "stream",
          "text": [
            "LPP:\n",
            "MAXIMIZE\n",
            "8.0*x1 + 9.0*x2 + 7.0*x3 + 6.0*x4 + 0.0\n",
            "SUBJECT TO\n",
            "_C1: 0.5 x1 + x2 + x3 + 0.5 x4 <= 1800\n",
            "\n",
            "_C2: 2 x1 + x2 + x3 + x4 <= 2800\n",
            "\n",
            "_C3: 0.5 x1 + 0.5 x2 + x3 + x4 <= 3000\n",
            "\n",
            "_C4: 3 x1 + x2 + 2 x3 + 3 x4 <= 6000\n",
            "\n",
            "_C5: - x1 <= -100\n",
            "\n",
            "_C6: - x2 <= -600\n",
            "\n",
            "_C7: - x3 <= -500\n",
            "\n",
            "_C8: - x4 <= -400\n",
            "\n",
            "VARIABLES\n",
            "x1 Continuous\n",
            "x2 Continuous\n",
            "x3 Continuous\n",
            "x4 Continuous\n",
            "\n",
            "##############Solution of LPP is ##################\n",
            "\n",
            "\n",
            "status: 1, Optimal\n",
            "objective: 17900.0\n",
            "x1: 300.0\n",
            "x2: 600.0\n",
            "x3: 500.0\n",
            "x4: 1100.0\n"
          ],
          "name": "stdout"
        }
      ]
    },
    {
      "cell_type": "markdown",
      "metadata": {
        "id": "fGVJ7918xxR_"
      },
      "source": [
        "##Question 2."
      ]
    },
    {
      "cell_type": "markdown",
      "metadata": {
        "id": "G7h6kwD7xxgP"
      },
      "source": [
        "Minimize Z = 8x_1+4x_2  +2 x_3 \n",
        "\n",
        "Subject to\n",
        "\n",
        "4x_1+2x_2  + x_3  ≤8\n",
        "\n",
        "3x_1+2x_2   ≤10\n",
        "\n",
        "-x_1 - x_2  - x_3  >= -4\n",
        "\n",
        "x_1>=0,x_2>=0,x_3>= 0\n"
      ]
    },
    {
      "cell_type": "markdown",
      "metadata": {
        "id": "nAOMof56yJ78"
      },
      "source": [
        "##LPP MODEL BY READING DATA FROM FILE"
      ]
    },
    {
      "cell_type": "markdown",
      "metadata": {
        "id": "wE9oUkHHyKGL"
      },
      "source": [
        "###Implementation"
      ]
    },
    {
      "cell_type": "code",
      "metadata": {
        "id": "nSaC9HCDv6nB",
        "outputId": "8eab4696-d09f-4ee1-98c3-6d3670cee101",
        "colab": {
          "base_uri": "https://localhost:8080/",
          "height": 34
        }
      },
      "source": [
        "%ls"
      ],
      "execution_count": null,
      "outputs": [
        {
          "output_type": "stream",
          "text": [
            "Q1.csv  Q2.csv  \u001b[0m\u001b[01;34msample_data\u001b[0m/\n"
          ],
          "name": "stdout"
        }
      ]
    },
    {
      "cell_type": "code",
      "metadata": {
        "id": "ITlD67gwyQ9t"
      },
      "source": [
        "df=pd.read_csv('Q2.csv')"
      ],
      "execution_count": null,
      "outputs": []
    },
    {
      "cell_type": "code",
      "metadata": {
        "id": "_c9J1miWyVAq",
        "outputId": "2205321a-7c59-48d3-92b3-17a6455df14a",
        "colab": {
          "base_uri": "https://localhost:8080/",
          "height": 142
        }
      },
      "source": [
        "df.head()"
      ],
      "execution_count": null,
      "outputs": [
        {
          "output_type": "execute_result",
          "data": {
            "text/html": [
              "<div>\n",
              "<style scoped>\n",
              "    .dataframe tbody tr th:only-of-type {\n",
              "        vertical-align: middle;\n",
              "    }\n",
              "\n",
              "    .dataframe tbody tr th {\n",
              "        vertical-align: top;\n",
              "    }\n",
              "\n",
              "    .dataframe thead th {\n",
              "        text-align: right;\n",
              "    }\n",
              "</style>\n",
              "<table border=\"1\" class=\"dataframe\">\n",
              "  <thead>\n",
              "    <tr style=\"text-align: right;\">\n",
              "      <th></th>\n",
              "      <th>A1</th>\n",
              "      <th>A2</th>\n",
              "      <th>A3</th>\n",
              "      <th>Cost</th>\n",
              "      <th>Resource</th>\n",
              "    </tr>\n",
              "  </thead>\n",
              "  <tbody>\n",
              "    <tr>\n",
              "      <th>0</th>\n",
              "      <td>4</td>\n",
              "      <td>2</td>\n",
              "      <td>1</td>\n",
              "      <td>8</td>\n",
              "      <td>8</td>\n",
              "    </tr>\n",
              "    <tr>\n",
              "      <th>1</th>\n",
              "      <td>3</td>\n",
              "      <td>2</td>\n",
              "      <td>0</td>\n",
              "      <td>4</td>\n",
              "      <td>10</td>\n",
              "    </tr>\n",
              "    <tr>\n",
              "      <th>2</th>\n",
              "      <td>-1</td>\n",
              "      <td>-1</td>\n",
              "      <td>-1</td>\n",
              "      <td>2</td>\n",
              "      <td>-4</td>\n",
              "    </tr>\n",
              "  </tbody>\n",
              "</table>\n",
              "</div>"
            ],
            "text/plain": [
              "   A1  A2  A3  Cost  Resource\n",
              "0   4   2   1     8         8\n",
              "1   3   2   0     4        10\n",
              "2  -1  -1  -1     2        -4"
            ]
          },
          "metadata": {
            "tags": []
          },
          "execution_count": 22
        }
      ]
    },
    {
      "cell_type": "markdown",
      "metadata": {
        "id": "4i5ZP4Y6ye6x"
      },
      "source": [
        "##Definig Data"
      ]
    },
    {
      "cell_type": "code",
      "metadata": {
        "id": "_BRjlLIcyagD"
      },
      "source": [
        "nvar=3\n",
        "ncons=3\n",
        "cost=df['Cost'].to_numpy()\n",
        "\n",
        "Coff=df.iloc[0:3,:3].to_numpy()\n",
        "               \n",
        "\n",
        "resources=list(df['Resource'].iloc[0:3])"
      ],
      "execution_count": null,
      "outputs": []
    },
    {
      "cell_type": "code",
      "metadata": {
        "id": "mtp68g0_yl3G",
        "outputId": "e75084e5-3601-464b-838d-40b4b8416572",
        "colab": {
          "base_uri": "https://localhost:8080/",
          "height": 34
        }
      },
      "source": [
        "cost"
      ],
      "execution_count": null,
      "outputs": [
        {
          "output_type": "execute_result",
          "data": {
            "text/plain": [
              "array([8, 4, 2])"
            ]
          },
          "metadata": {
            "tags": []
          },
          "execution_count": 39
        }
      ]
    },
    {
      "cell_type": "code",
      "metadata": {
        "id": "suP_u_NXypIL",
        "outputId": "df477d41-ea7d-4c2c-d097-5aa9d31dc925",
        "colab": {
          "base_uri": "https://localhost:8080/",
          "height": 34
        }
      },
      "source": [
        "resources"
      ],
      "execution_count": null,
      "outputs": [
        {
          "output_type": "execute_result",
          "data": {
            "text/plain": [
              "[8, 10, -4]"
            ]
          },
          "metadata": {
            "tags": []
          },
          "execution_count": 40
        }
      ]
    },
    {
      "cell_type": "code",
      "metadata": {
        "id": "sMvRoH9wytSc",
        "outputId": "c332ce19-a1dc-4619-f059-5772d2957f10",
        "colab": {
          "base_uri": "https://localhost:8080/",
          "height": 68
        }
      },
      "source": [
        "Coff"
      ],
      "execution_count": null,
      "outputs": [
        {
          "output_type": "execute_result",
          "data": {
            "text/plain": [
              "array([[ 4,  2,  1],\n",
              "       [ 3,  2,  0],\n",
              "       [-1, -1, -1]])"
            ]
          },
          "metadata": {
            "tags": []
          },
          "execution_count": 41
        }
      ]
    },
    {
      "cell_type": "code",
      "metadata": {
        "id": "FyO9rp5hzC6B",
        "outputId": "b7527590-e611-4d2b-d5b6-4d77e2efd137",
        "colab": {
          "base_uri": "https://localhost:8080/",
          "height": 408
        }
      },
      "source": [
        "\n",
        "# Define the model\n",
        "model = LpProblem(\"LPP\",LpMinimize)\n",
        "\n",
        "\n",
        "# Define the decision variables\n",
        "x = {i: LpVariable(name=f\"x{i}\", lowBound=0) for i in range(1, nvar+1)}\n",
        "\n",
        "\n",
        "# Set the objective\n",
        "model+=lpSum(cost[i-1]*x[i] for i in range(1,nvar+1))\n",
        "\n",
        "\n",
        "# Add constraints\n",
        "\n",
        "for j in range(ncons):\n",
        "  model += lpSum(Coff[j,i-1]*x[i] for i in range(1,nvar+1))<=resources[j]\n",
        "\n",
        "# Print Model\n",
        "print(model)\n",
        "\n",
        "\n",
        "# Solve the optimization problem\n",
        "status = model.solve()\n",
        "\n",
        "# Get the results\n",
        "print('##############Solution of LPP is ##################\\n\\n')\n",
        "print(f\"status: {model.status}, {LpStatus[model.status]}\")\n",
        "print(f\"objective: {model.objective.value()}\")\n",
        "\n",
        "for var in x.values():\n",
        "    print(f\"{var.name}: {var.value()}\")\n"
      ],
      "execution_count": null,
      "outputs": [
        {
          "output_type": "stream",
          "text": [
            "LPP:\n",
            "MINIMIZE\n",
            "8*x1 + 4*x2 + 2*x3 + 0\n",
            "SUBJECT TO\n",
            "_C1: 4 x1 + 2 x2 + x3 <= 8\n",
            "\n",
            "_C2: 3 x1 + 2 x2 <= 10\n",
            "\n",
            "_C3: - x1 - x2 - x3 <= -4\n",
            "\n",
            "VARIABLES\n",
            "x1 Continuous\n",
            "x2 Continuous\n",
            "x3 Continuous\n",
            "\n",
            "##############Solution of LPP is ##################\n",
            "\n",
            "\n",
            "status: 1, Optimal\n",
            "objective: 8.0\n",
            "x1: 0.0\n",
            "x2: 0.0\n",
            "x3: 4.0\n"
          ],
          "name": "stdout"
        }
      ]
    },
    {
      "cell_type": "markdown",
      "metadata": {
        "id": "y-5eou1V4rfg"
      },
      "source": [
        "##Question"
      ]
    },
    {
      "cell_type": "markdown",
      "metadata": {
        "id": "WEyGtEd74rzM"
      },
      "source": [
        "##Maximize Z = 5x_1- 2x_2  +3 x_3 \n",
        "\n",
        "Subject to\n",
        "\n",
        "2x_1+1x_2  - 6x_3=20\n",
        "\n",
        "8x_1- 3x_2  + 6x_3+x_4  ≤50\n",
        "\n",
        "6x_1+5 x_2  + 10x_3+x_4  <=76\n",
        "\n",
        "x_1>=0,x_2>=0,x_3>= 0\n"
      ]
    },
    {
      "cell_type": "markdown",
      "metadata": {
        "id": "WRTprhqB5rNO"
      },
      "source": [
        "##LPP MODEL BY READING DATA FROM FILE"
      ]
    },
    {
      "cell_type": "markdown",
      "metadata": {
        "id": "b3veXtSy6XUZ"
      },
      "source": [
        "##Implementation"
      ]
    },
    {
      "cell_type": "code",
      "metadata": {
        "id": "8DRn00D2zU2P",
        "outputId": "0dbc3a4a-3b88-4ea3-f61f-7b2d36a2042d",
        "colab": {
          "base_uri": "https://localhost:8080/",
          "height": 34
        }
      },
      "source": [
        "%ls\n"
      ],
      "execution_count": null,
      "outputs": [
        {
          "output_type": "stream",
          "text": [
            "Q1.csv  Q2.csv  Q3.csv  \u001b[0m\u001b[01;34msample_data\u001b[0m/\n"
          ],
          "name": "stdout"
        }
      ]
    },
    {
      "cell_type": "code",
      "metadata": {
        "id": "l6juLwQX_-Hb"
      },
      "source": [
        "df=pd.read_csv('Q3.csv')"
      ],
      "execution_count": null,
      "outputs": []
    },
    {
      "cell_type": "code",
      "metadata": {
        "id": "Mohkl6B_ADqV",
        "outputId": "9b305480-c916-403a-deb9-ef4ceb15ae99",
        "colab": {
          "base_uri": "https://localhost:8080/",
          "height": 173
        }
      },
      "source": [
        "df.head()"
      ],
      "execution_count": null,
      "outputs": [
        {
          "output_type": "execute_result",
          "data": {
            "text/html": [
              "<div>\n",
              "<style scoped>\n",
              "    .dataframe tbody tr th:only-of-type {\n",
              "        vertical-align: middle;\n",
              "    }\n",
              "\n",
              "    .dataframe tbody tr th {\n",
              "        vertical-align: top;\n",
              "    }\n",
              "\n",
              "    .dataframe thead th {\n",
              "        text-align: right;\n",
              "    }\n",
              "</style>\n",
              "<table border=\"1\" class=\"dataframe\">\n",
              "  <thead>\n",
              "    <tr style=\"text-align: right;\">\n",
              "      <th></th>\n",
              "      <th>A1</th>\n",
              "      <th>A2</th>\n",
              "      <th>A3</th>\n",
              "      <th>A4</th>\n",
              "      <th>Cost</th>\n",
              "      <th>Resource</th>\n",
              "    </tr>\n",
              "  </thead>\n",
              "  <tbody>\n",
              "    <tr>\n",
              "      <th>0</th>\n",
              "      <td>2</td>\n",
              "      <td>1</td>\n",
              "      <td>-6</td>\n",
              "      <td>0</td>\n",
              "      <td>5</td>\n",
              "      <td>20</td>\n",
              "    </tr>\n",
              "    <tr>\n",
              "      <th>1</th>\n",
              "      <td>-2</td>\n",
              "      <td>-1</td>\n",
              "      <td>6</td>\n",
              "      <td>0</td>\n",
              "      <td>-2</td>\n",
              "      <td>-20</td>\n",
              "    </tr>\n",
              "    <tr>\n",
              "      <th>2</th>\n",
              "      <td>8</td>\n",
              "      <td>-3</td>\n",
              "      <td>6</td>\n",
              "      <td>1</td>\n",
              "      <td>3</td>\n",
              "      <td>50</td>\n",
              "    </tr>\n",
              "    <tr>\n",
              "      <th>3</th>\n",
              "      <td>6</td>\n",
              "      <td>5</td>\n",
              "      <td>10</td>\n",
              "      <td>1</td>\n",
              "      <td>0</td>\n",
              "      <td>76</td>\n",
              "    </tr>\n",
              "  </tbody>\n",
              "</table>\n",
              "</div>"
            ],
            "text/plain": [
              "   A1  A2  A3  A4  Cost  Resource\n",
              "0   2   1  -6   0     5        20\n",
              "1  -2  -1   6   0    -2       -20\n",
              "2   8  -3   6   1     3        50\n",
              "3   6   5  10   1     0        76"
            ]
          },
          "metadata": {
            "tags": []
          },
          "execution_count": 77
        }
      ]
    },
    {
      "cell_type": "markdown",
      "metadata": {
        "id": "c4PPA6-KAJo4"
      },
      "source": [
        "###Definig Data"
      ]
    },
    {
      "cell_type": "code",
      "metadata": {
        "id": "zLkhBahMAFU-"
      },
      "source": [
        "nvar=4\n",
        "ncons=4\n",
        "cost=df['Cost'].to_numpy()\n",
        "\n",
        "Coff=df.iloc[0:4,:4].to_numpy()\n",
        "               \n",
        "\n",
        "resources=list(df['Resource'].iloc[0:4])"
      ],
      "execution_count": null,
      "outputs": []
    },
    {
      "cell_type": "code",
      "metadata": {
        "id": "r8Bj6oEhAP5j",
        "outputId": "4c6d839e-dd63-4ba5-8d2e-a12b98fc8dc4",
        "colab": {
          "base_uri": "https://localhost:8080/",
          "height": 476
        }
      },
      "source": [
        "\n",
        "# Define the model\n",
        "model = LpProblem(\"LPP\",LpMaximize)\n",
        "\n",
        "\n",
        "# Define the decision variables\n",
        "x = {i: LpVariable(name=f\"x{i}\", lowBound=0) for i in range(1, nvar+1)}\n",
        "\n",
        "\n",
        "# Set the objective\n",
        "model+=lpSum(cost[i-1]*x[i] for i in range(1,nvar+1))\n",
        "\n",
        "\n",
        "# Add constraints\n",
        "\n",
        "for j in range(ncons):\n",
        "  model += lpSum(Coff[j,i-1]*x[i] for i in range(1,nvar+1))<=resources[j]\n",
        "\n",
        "# Print Model\n",
        "print(model)\n",
        "\n",
        "\n",
        "# Solve the optimization problem\n",
        "status = model.solve()\n",
        "\n",
        "# Get the results\n",
        "print('##############Solution of LPP is ##################\\n\\n')\n",
        "print(f\"status: {model.status}, {LpStatus[model.status]}\")\n",
        "print(f\"objective: {round(model.objective.value(),2)}\")\n",
        "\n",
        "for var in x.values():\n",
        "    print(f\"{var.name}: {round(var.value(),2)}\")\n"
      ],
      "execution_count": null,
      "outputs": [
        {
          "output_type": "stream",
          "text": [
            "LPP:\n",
            "MAXIMIZE\n",
            "5*x1 + -2*x2 + 3*x3 + 0\n",
            "SUBJECT TO\n",
            "_C1: 2 x1 + x2 - 6 x3 <= 20\n",
            "\n",
            "_C2: - 2 x1 - x2 + 6 x3 <= -20\n",
            "\n",
            "_C3: 8 x1 - 3 x2 + 6 x3 + x4 <= 50\n",
            "\n",
            "_C4: 6 x1 + 5 x2 + 10 x3 + x4 <= 76\n",
            "\n",
            "VARIABLES\n",
            "x1 Continuous\n",
            "x2 Continuous\n",
            "x3 Continuous\n",
            "x4 Continuous\n",
            "\n",
            "##############Solution of LPP is ##################\n",
            "\n",
            "\n",
            "status: 1, Optimal\n",
            "objective: 30.71\n",
            "x1: 7.86\n",
            "x2: 4.29\n",
            "x3: 0.0\n",
            "x4: 0.0\n"
          ],
          "name": "stdout"
        }
      ]
    },
    {
      "cell_type": "code",
      "metadata": {
        "id": "vQl_B1a_Ax3Q"
      },
      "source": [
        ""
      ],
      "execution_count": null,
      "outputs": []
    }
  ]
}