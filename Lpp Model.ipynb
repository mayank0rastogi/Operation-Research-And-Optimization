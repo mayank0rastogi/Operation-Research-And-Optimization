{
  "nbformat": 4,
  "nbformat_minor": 0,
  "metadata": {
    "colab": {
      "name": "Mayank_Rastogi_81_Lab_7.ipynb",
      "provenance": []
    },
    "kernelspec": {
      "name": "python3",
      "display_name": "Python 3"
    }
  },
  "cells": [
    {
      "cell_type": "markdown",
      "metadata": {
        "id": "1Xlp3H8XpRlv"
      },
      "source": [
        "#Question 1.\n"
      ]
    },
    {
      "cell_type": "markdown",
      "metadata": {
        "id": "z0pgZvgFpaha"
      },
      "source": [
        " \n",
        "Minimize Z = X­1 + X2\n",
        "\n",
        "Subject to,\n",
        "\n",
        " X1 + X2 ≤ 1\n",
        "\n",
        "-3X1 + X2 ≥3\n",
        "\n",
        "  X1 ,X2 ≥0"
      ]
    },
    {
      "cell_type": "markdown",
      "metadata": {
        "id": "X4QBHA3Lpg89"
      },
      "source": [
        "##LPP Model"
      ]
    },
    {
      "cell_type": "markdown",
      "metadata": {
        "id": "0Vm44HibpqDM"
      },
      "source": [
        "###Implementations"
      ]
    },
    {
      "cell_type": "code",
      "metadata": {
        "id": "VnGv1UBEn_PH",
        "outputId": "d64a4e2a-99da-4d93-9af2-0e45f03d31c9",
        "colab": {
          "base_uri": "https://localhost:8080/",
          "height": 319
        }
      },
      "source": [
        "!pip install pulp"
      ],
      "execution_count": null,
      "outputs": [
        {
          "output_type": "stream",
          "text": [
            "Collecting pulp\n",
            "\u001b[?25l  Downloading https://files.pythonhosted.org/packages/c3/22/5743d7b5d69f84fb63a0b4925862522dbf80e82defcd0c447afb694f3fd0/PuLP-2.3-py3-none-any.whl (40.6MB)\n",
            "\u001b[K     |████████████████████████████████| 40.6MB 99kB/s \n",
            "\u001b[?25hCollecting amply>=0.1.2\n",
            "  Downloading https://files.pythonhosted.org/packages/7f/11/33cb09557ac838d9488779b79e05a2a3c1f3ce9747cd242ba68332736778/amply-0.1.2.tar.gz\n",
            "  Installing build dependencies ... \u001b[?25l\u001b[?25hdone\n",
            "  Getting requirements to build wheel ... \u001b[?25l\u001b[?25hdone\n",
            "    Preparing wheel metadata ... \u001b[?25l\u001b[?25hdone\n",
            "Requirement already satisfied: pyparsing in /usr/local/lib/python3.6/dist-packages (from amply>=0.1.2->pulp) (2.4.7)\n",
            "Requirement already satisfied: docutils>=0.3 in /usr/local/lib/python3.6/dist-packages (from amply>=0.1.2->pulp) (0.15.2)\n",
            "Building wheels for collected packages: amply\n",
            "  Building wheel for amply (PEP 517) ... \u001b[?25l\u001b[?25hdone\n",
            "  Created wheel for amply: filename=amply-0.1.2-cp36-none-any.whl size=16573 sha256=68e9da064b5ac6b9e6063a43e84e1d82edf8c0edcd048ec16efc5fd2bfc7b500\n",
            "  Stored in directory: /root/.cache/pip/wheels/84/18/f7/e5c3ed13ed5bb721763f77d4a924331d59ef115ce61c9d26eb\n",
            "Successfully built amply\n",
            "Installing collected packages: amply, pulp\n",
            "Successfully installed amply-0.1.2 pulp-2.3\n"
          ],
          "name": "stdout"
        }
      ]
    },
    {
      "cell_type": "code",
      "metadata": {
        "id": "1dwxMeAPpykR"
      },
      "source": [
        "from pulp import *\n",
        "import numpy as np"
      ],
      "execution_count": null,
      "outputs": []
    },
    {
      "cell_type": "code",
      "metadata": {
        "id": "NEZIdT3k1rgP",
        "outputId": "84af77db-ff7c-4d2c-f300-166d221a447e",
        "colab": {
          "base_uri": "https://localhost:8080/",
          "height": 88
        }
      },
      "source": [
        "# Define the model\n",
        "Lp = LpProblem(\"LPP\",LpMinimize)\n",
        "#my_lp_problem = LpProblem(\"My LP Problem\", LpMaximize)\n",
        "# Define the decision variables\n",
        "x = {i: LpVariable(name=f\"x{i}\", lowBound=0) for i in range(1, 3)}\n",
        "\n",
        "# Set the objective\n",
        "Lp += 1 * x[1] + 1 * x[2]  \n",
        "\n",
        "# Add constraints\n",
        "#Lp += (lpSum(x.values()) <= 2)\n",
        "Lp += (1 * x[1] + 1 * x[2] <= 2)\n",
        "Lp += (-3 * x[1] + 1 * x[2]  >= 3)\n",
        "#Lp += (x[2] + 2 * x[3] + 3 * x[4] <= 90)\n",
        "\n",
        "\n",
        "\n",
        "# Solve the optimization problem\n",
        "status = Lp.solve()\n",
        "\n",
        "# Get the results\n",
        "print(f\"status: {Lp.status}, {LpStatus[Lp.status]}\")\n",
        "print(f\"objective: {round(Lp.objective.value(),2)}\")\n",
        "\n",
        "for var in x.values():\n",
        "    print(f\"{var.name}: {round(var.value(),2)}\")\n",
        "\n"
      ],
      "execution_count": null,
      "outputs": [
        {
          "output_type": "stream",
          "text": [
            "status: -1, Infeasible\n",
            "objective: 3.0\n",
            "x1: 0.0\n",
            "x2: 3.0\n"
          ],
          "name": "stdout"
        }
      ]
    },
    {
      "cell_type": "markdown",
      "metadata": {
        "id": "M2-iEcC38bPU"
      },
      "source": [
        "#Question 2."
      ]
    },
    {
      "cell_type": "markdown",
      "metadata": {
        "id": "j_bSZjg08ceH"
      },
      "source": [
        "Maximize Z = 2X­1 + 4X2\n",
        "\n",
        "Subject to,\n",
        "\n",
        " X1 + 2X2 ≤ 5\n",
        "\n",
        "X1 + X2 ≤ 4\n",
        "\n",
        "   X1 ,X2 ≥0"
      ]
    },
    {
      "cell_type": "markdown",
      "metadata": {
        "id": "x-CZhZ3F8cof"
      },
      "source": [
        "###Lpp Model"
      ]
    },
    {
      "cell_type": "markdown",
      "metadata": {
        "id": "cWaN5_aU8c59"
      },
      "source": [
        "##Implementation"
      ]
    },
    {
      "cell_type": "code",
      "metadata": {
        "id": "yxnaK9t28dRM",
        "outputId": "34b5aab4-ec61-446d-b8df-29548cc096ca",
        "colab": {
          "base_uri": "https://localhost:8080/",
          "height": 88
        }
      },
      "source": [
        "# Define the model\n",
        "Lp = LpProblem(\"LPP\",LpMaximize)\n",
        "#my_lp_problem = LpProblem(\"My LP Problem\", LpMaximize)\n",
        "# Define the decision variables\n",
        "x = {i: LpVariable(name=f\"x{i}\", lowBound=0) for i in range(1, 3)}\n",
        "\n",
        "# Set the objective\n",
        "Lp += 2 * x[1] + 4 * x[2]  \n",
        "\n",
        "# Add constraints\n",
        "#Lp += (lpSum(x.values()) <= 2)\n",
        "Lp += (1 * x[1] + 2 * x[2] <= 5)\n",
        "Lp += (1 * x[1] + 1 * x[2]  <= 4)\n",
        "#Lp += (x[2] + 2 * x[3] + 3 * x[4] <= 90)\n",
        "\n",
        "\n",
        "\n",
        "# Solve the optimization problem\n",
        "status = Lp.solve()\n",
        "\n",
        "# Get the results\n",
        "print(f\"status: {Lp.status}, {LpStatus[Lp.status]}\")\n",
        "print(f\"objective: {round(Lp.objective.value(),2)}\")\n",
        "\n",
        "for var in x.values():\n",
        "    print(f\"{var.name}: {round(var.value(),2)}\")\n",
        "\n"
      ],
      "execution_count": null,
      "outputs": [
        {
          "output_type": "stream",
          "text": [
            "status: 1, Optimal\n",
            "objective: 10.0\n",
            "x1: 0.0\n",
            "x2: 2.5\n"
          ],
          "name": "stdout"
        }
      ]
    },
    {
      "cell_type": "markdown",
      "metadata": {
        "id": "77n4BnuR9Sb6"
      },
      "source": [
        "#Question 3.\n",
        "\n"
      ]
    },
    {
      "cell_type": "markdown",
      "metadata": {
        "id": "VZ4-kS7k9fIo"
      },
      "source": [
        "Maximize Z = 2X­1 + X2\n",
        "\n",
        "Subject to,\n",
        "\n",
        " X1 - X2 ≤ 10\n",
        "\n",
        " 2X1 ≤ 40\n",
        "\n",
        "   X1 ,X2 ≥0"
      ]
    },
    {
      "cell_type": "markdown",
      "metadata": {
        "id": "kSqIVNtC9fR-"
      },
      "source": [
        "##Lpp Model"
      ]
    },
    {
      "cell_type": "markdown",
      "metadata": {
        "id": "PpmXOiWJ9gSq"
      },
      "source": [
        "###Implementation"
      ]
    },
    {
      "cell_type": "code",
      "metadata": {
        "id": "1LIaTxFf9gs1",
        "outputId": "e33f8317-8e5e-4df8-c8ce-4bb837141809",
        "colab": {
          "base_uri": "https://localhost:8080/",
          "height": 88
        }
      },
      "source": [
        "# Define the model\n",
        "Lp = LpProblem(\"LPP\",LpMaximize)\n",
        "#my_lp_problem = LpProblem(\"My LP Problem\", LpMaximize)\n",
        "# Define the decision variables\n",
        "x = {i: LpVariable(name=f\"x{i}\", lowBound=0) for i in range(1, 3)}\n",
        "\n",
        "# Set the objective\n",
        "Lp += 2 * x[1] + 1 * x[2]  \n",
        "\n",
        "# Add constraints\n",
        "#Lp += (lpSum(x.values()) <= 2)\n",
        "Lp += (1 * x[1] - 1 * x[2] <= 10)\n",
        "Lp += (2 * x[1]  <= 40)\n",
        "#Lp += (x[2] + 2 * x[3] + 3 * x[4] <= 90)\n",
        "\n",
        "\n",
        "\n",
        "# Solve the optimization problem\n",
        "status = Lp.solve()\n",
        "\n",
        "# Get the results\n",
        "print(f\"status: {Lp.status}, {LpStatus[Lp.status]}\")\n",
        "print(f\"objective: {round(Lp.objective.value(),2)}\")\n",
        "\n",
        "for var in x.values():\n",
        "    print(f\"{var.name}: {round(var.value(),2)}\")\n",
        "\n"
      ],
      "execution_count": null,
      "outputs": [
        {
          "output_type": "stream",
          "text": [
            "status: -2, Unbounded\n",
            "objective: 50.0\n",
            "x1: 20.0\n",
            "x2: 10.0\n"
          ],
          "name": "stdout"
        }
      ]
    },
    {
      "cell_type": "markdown",
      "metadata": {
        "id": "T4gzYoA2-Snq"
      },
      "source": [
        "#Question 4."
      ]
    },
    {
      "cell_type": "markdown",
      "metadata": {
        "id": "9PwIMzgO-Sw6"
      },
      "source": [
        "Minimize Z = 3X­1 + 2X2\n",
        "\n",
        "Subject to,\n",
        "\n",
        "2X1 + X2 ≤ 2\n",
        "\n",
        "3X1 + 4X2 ≥12\n",
        "\n",
        "   X1 ,X2 ≥0\n",
        "\n"
      ]
    },
    {
      "cell_type": "markdown",
      "metadata": {
        "id": "YFjelWbs-iBu"
      },
      "source": [
        "###LPP Model"
      ]
    },
    {
      "cell_type": "markdown",
      "metadata": {
        "id": "HG2hZJbA-S59"
      },
      "source": [
        "##Implementation"
      ]
    },
    {
      "cell_type": "code",
      "metadata": {
        "id": "O2s2Fuya-R66",
        "outputId": "d6944b79-6f0f-4122-ee4f-cc467a2b0998",
        "colab": {
          "base_uri": "https://localhost:8080/",
          "height": 88
        }
      },
      "source": [
        "# Define the model\n",
        "Lp = LpProblem(\"LPP\",LpMinimize)\n",
        "#my_lp_problem = LpProblem(\"My LP Problem\", LpMaximize)\n",
        "# Define the decision variables\n",
        "x = {i: LpVariable(name=f\"x{i}\", lowBound=0) for i in range(1, 3)}\n",
        "\n",
        "# Set the objective\n",
        "Lp += 3 * x[1] + 2 * x[2]  \n",
        "\n",
        "# Add constraints\n",
        "#Lp += (lpSum(x.values()) <= 2)\n",
        "Lp += (2 * x[1] +1 * x[2] <= 2)\n",
        "Lp += (3 * x[1]+4*x[2]  >= 12)\n",
        "#Lp += (x[2] + 2 * x[3] + 3 * x[4] <= 90)\n",
        "\n",
        "\n",
        "\n",
        "# Solve the optimization problem\n",
        "status = Lp.solve()\n",
        "\n",
        "# Get the results\n",
        "print(f\"status: {Lp.status}, {LpStatus[Lp.status]}\")\n",
        "print(f\"objective: {round(Lp.objective.value(),2)}\")\n",
        "\n",
        "for var in x.values():\n",
        "    print(f\"{var.name}: {round(var.value(),2)}\")\n",
        "\n"
      ],
      "execution_count": null,
      "outputs": [
        {
          "output_type": "stream",
          "text": [
            "status: -1, Infeasible\n",
            "objective: 6.0\n",
            "x1: 0.0\n",
            "x2: 3.0\n"
          ],
          "name": "stdout"
        }
      ]
    }
  ]
}